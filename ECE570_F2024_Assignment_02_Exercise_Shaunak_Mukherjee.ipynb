{
  "cells": [
    {
      "cell_type": "markdown",
      "metadata": {
        "id": "view-in-github",
        "colab_type": "text"
      },
      "source": [
        "<a href=\"https://colab.research.google.com/github/Shaunak-Mukherjee/ECE570-Artificial-Intelligence/blob/main/ECE570_F2024_Assignment_02_Exercise_Shaunak_Mukherjee.ipynb\" target=\"_parent\"><img src=\"https://colab.research.google.com/assets/colab-badge.svg\" alt=\"Open In Colab\"/></a>"
      ]
    },
    {
      "cell_type": "markdown",
      "metadata": {
        "id": "kLTpDVQk0ozE"
      },
      "source": [
        "# ECE 57000 Assignment 2 Exercises\n",
        "\n",
        "\n",
        "\n",
        "Name: Shaunak Mukherjee"
      ]
    },
    {
      "cell_type": "markdown",
      "metadata": {
        "id": "APWN2dfm7fx_"
      },
      "source": [
        "# Important submission information\n",
        "\n",
        "1. Follow the instructions in the provided \"uploader.ipynb\" to convert your ipynb file into PDF format.\n",
        "2. Please make sure to select the corresponding pages for each exercise when you submitting your PDF to Gradescope. Make sure to include both the **output** and the **code** when selecting pages. (You do not need to include the instruction for the exercises)\n",
        "\n",
        "\n",
        "**We may assess a 20% penalty for those who do not correctly follow these steps.**"
      ]
    },
    {
      "cell_type": "markdown",
      "metadata": {
        "id": "cZ5oVoEqVnAD"
      },
      "source": [
        "# 1. Task description & Background\n",
        "## 1-1. Task description\n",
        "\n",
        "In this assignment, students will implement Stochastic Gradient Descent (SGD) for logistic regression and apply backpropagation for gradient descent/SGD on neural networks. You are only allowed to use basic functions or equivalent operations of NumPy package. The dataset from Assignment 1 will be reused.\n",
        "\n",
        "For the first part (logistic regression), students will define the model, loss function, compute gradients, and implement the SGD algorithm. In the second part, students will implement GD/SGD for a three-layer neural network, focusing on the forward pass and backpropagation.\n",
        "\n",
        "## 1-2. Background on dataset\n",
        "In this assignment, we will explore the application of logistic regression to a binary classification problem in the field of medical diagnostics similar to the first assignment. The objective is to predict whether a breast tumor is benign or malignant based on features extracted from digitized images of fine needle aspirate (FNA) of breast mass.\n",
        "\n",
        "The dataset used is the Breast Cancer dataset from the UCI Machine Learning Repository, incorporated into scikit-learn as `load_breast_cancer`. This dataset includes measurements from 569 instances of breast tumors, with each instance described by 30 numeric attributes. These features include things like the texture, perimeter, smoothness, and symmetry of the tumor cells.\n",
        "\n",
        "You will split the data into training and test sets, with 80% of the data used for training and the remaining 20% for testing. This setup tests the model’s ability to generalize to new, unseen data. We set the `random_state` as 42 to ensure reproducibility. The logistic regression model, initialized with the 'liblinear' solver, will be trained on the training set.\n",
        "\n"
      ]
    },
    {
      "cell_type": "markdown",
      "metadata": {
        "id": "yZCUDuPbVnAj"
      },
      "source": [
        "# 2. Loading and preprocessing data from the previous assignment\n",
        "\n",
        "\n",
        "You can load the Breast Cancer dataset by using [this function](https://scikit-learn.org/stable/modules/generated/sklearn.datasets.load_breast_cancer.html) from the `sklearn.datasets` module (we have imported the function for you). Refer to the official documentation to understand more about this function.\n",
        "\n",
        "**Implement the Following:**\n",
        "1.  `data`: Use the built-in function to load the dataset and store it in this variable.\n",
        "2.  `X`: This should store the feature matrix from the dataset.\n",
        "3.  `y`: This should store the target vector, which includes the labels indicating whether the tumor is benign or malignant.\n",
        "\n",
        "`X_train, X_test, y_train, y_test`: Split `X` and `y` into training and testing sets.\n",
        "   - Set `test_size` to 0.2, allocating 20% of the data for testing.\n",
        "   - Use `random_state=42` to ensure that your results are reproducible.\n"
      ]
    },
    {
      "cell_type": "code",
      "execution_count": null,
      "metadata": {
        "colab": {
          "base_uri": "https://localhost:8080/"
        },
        "id": "I9XT8gbcVnAk",
        "outputId": "7edfc0bf-a689-4541-8dd5-e1ddfa15d6af"
      },
      "outputs": [
        {
          "output_type": "stream",
          "name": "stdout",
          "text": [
            "The data has a shape of (569, 30), and the target has a shape of (569,)\n",
            "The training set has 455 datapoints and the test set has 114 datapoints.\n",
            "The max of training data is 1.00 and the min is 0.00.\n"
          ]
        }
      ],
      "source": [
        "from sklearn.datasets import load_breast_cancer\n",
        "from sklearn.model_selection import train_test_split\n",
        "from sklearn.preprocessing import MinMaxScaler\n",
        "\n",
        "data = load_breast_cancer()\n",
        "X, y = data.data, data.target\n",
        "print(f'The data has a shape of {X.shape}, and the target has a shape of {y.shape}')\n",
        "\n",
        "X_train, X_test, y_train, y_test = train_test_split(X, y, test_size=0.2, random_state=42)\n",
        "print(f'The training set has {X_train.shape[0]} datapoints and the test set has {X_test.shape[0]} datapoints.')\n",
        "\n",
        "scaler = MinMaxScaler().fit(X_train)\n",
        "X_train = scaler.transform(X_train)\n",
        "X_test = scaler.transform(X_test)\n",
        "print(f'The max of training data is {X_train.max():.2f} and the min is {X_train.min():.2f}.')"
      ]
    },
    {
      "cell_type": "markdown",
      "metadata": {
        "id": "GlKCbomPXEvo"
      },
      "source": [
        "# 3. Initialize and train the logistic regression model with SGD (60/100 points)\n",
        "\n",
        "\n",
        "You will initialize and train a logistic regression model.\n"
      ]
    },
    {
      "cell_type": "markdown",
      "metadata": {
        "id": "4-wFc_8AXL0L"
      },
      "source": [
        "## 3-1. Defining sigmoid function and binary cross entropy function (10/100 points)\n",
        "**Implement the Following:**\n",
        "1. Sigmoid function: Implement the sigmoid function, which takes in a scalar or vector and returns the sigmoid of the input.\n",
        "2. Binary Cross-Entropy Loss: Implement the binary cross-entropy loss function, which takes in the predictions and the true labels and returns the loss value. It is formulated as $\\ell(y,\\hat{y})=-\\frac{1}{N} \\sum_{n=1}^{N} \\left[ y_n( \\log \\hat{y}_n ) + (1-y_n) \\log (1-\\hat{y}_n) \\right]$.\n",
        "\n",
        "Please implement by using basic functions in numpy.\n",
        "Ensure your code is placed between the comments `<Your code>` and `<end code>`. This structure is intended to keep your implementation organized and straightforward.\n"
      ]
    },
    {
      "cell_type": "code",
      "execution_count": null,
      "metadata": {
        "id": "2RaZ2U_WVnAl"
      },
      "outputs": [],
      "source": [
        "import numpy as np\n",
        "# initialize numpy random seed\n",
        "np.random.seed(29)\n",
        "\n",
        "# Sigmoid function for logistic regression\n",
        "def sigmoid(z):\n",
        "    # <Your code>\n",
        "\n",
        "    \"\"\"\n",
        "    Computes sigmoid function on Z (scalar or vector)\n",
        "    parameter z: scalar or vector\n",
        "    return: sigmoid of z\n",
        "    \"\"\"\n",
        "\n",
        "    return 1 / (1 + np.exp(-z))\n",
        "\n",
        "    # <end code>\n",
        "\n",
        "# Binary Cross-Entropy Loss\n",
        "def binary_cross_entropy(y_true, y_pred):\n",
        "    # Avoid log(0) by clipping predictions\n",
        "\n",
        "    # <Your code>\n",
        "\n",
        "    \"\"\"\n",
        "    Computes binary cross-entropy loss between true labels and predictions\n",
        "    parameter y_true: true label\n",
        "    parameter y_pred: prediction\n",
        "    return: binary cross-entropy loss\n",
        "    Clipped predicted values to avoid log(0) numerical instability issues in loss calculation\n",
        "    and ensures y_pred is never exactly 0 or 1, preventing undefined log operations\n",
        "    \"\"\"\n",
        "\n",
        "    epsilon = 1e-15\n",
        "    y_pred = np.clip(y_pred, epsilon, 1 - epsilon) # This code avoids log(0)\n",
        "\n",
        "    # Computation of binary cross-entropy loss\n",
        "    loss = -np.mean(y_true * np.log(y_pred) + (1 - y_true) * np.log(1 - y_pred))\n",
        "    return loss\n",
        "\n",
        "    # <end code>"
      ]
    },
    {
      "cell_type": "markdown",
      "metadata": {
        "id": "S_nH8N9iWoRs"
      },
      "source": [
        "## 3-2. Defining a class `LogisticRegression` based on SGD (50/100 points)\n",
        "\n",
        "**Implement the Following:**\n",
        "1. Initialize Parameters: Implement `initialize_weights` function. Use zero initialization for `weights` and `bias`.\n",
        "\n",
        "2. predict function: Implement the predict function, which takes in the feature matrix `X` and returns the predicted value. Assuming $W \\in \\mathbb{R}^{D}$, $X \\in \\mathbb{R}^{N \\times D}$, $b \\in \\mathbb{R}^{1}$, the linear model is defined as $\\sigma(XW + b)$, where $\\sigma$ is sigmoid function.\n",
        "\n",
        "3. fit function: Implement the fit function, which trains the logistic regression model using SGD. The function should take in the feature matrix `X`, the true labels `y`, the learning rate `lr`, and the number of epochs `n_epochs`. In specific, first, at every epoch, you may shuffle indices of `n_samples` and reorganize the order of `X` and `y` to make sure that the order is randomized per epoch. Second, make a for loop for SGD. You may want to make a small batch data like `X_batch` and `y_batch`. Third, inside of the for loop for SGD, make a prediction by using the `predict` function you implemented. Fourth, compute the gradient with respect to `weights` and with respect to `bias`. Fifth, use the gradient to update `weights` and `bias`. In other words, implement the SGD algorithm $w^{(1)}=w^{(0)}-\\alpha \\nabla_w (\\text{BCE} (y, \\hat{y} ) )$ and $b^{(1)}=b^{(0)}-\\alpha \\nabla_b ( \\text{BCE} ( y,\\hat{y} ))$, where $\\alpha$ is a learning rate and $\\hat{y}$ is the prediction $\\sigma(XW + b)$. BCE indicates binary cross entropy loss.\n",
        "\n",
        "You are encouraged to experiment with different architectures and learning rates to see how they affect the performance of the model.   \n",
        "Make sure you get accuracy greater than **0.85** on the test set."
      ]
    },
    {
      "cell_type": "code",
      "execution_count": null,
      "metadata": {
        "id": "kfTGYGVIWinN"
      },
      "outputs": [],
      "source": [
        "class LogisticRegression_SGD:\n",
        "    def __init__(self, learning_rate=0.01, epochs=100, batch_size=32):\n",
        "        self.learning_rate = learning_rate\n",
        "        self.epochs = epochs\n",
        "        self.batch_size = batch_size\n",
        "\n",
        "    # Initialize weights\n",
        "    def initialize_weights(self, n_features):\n",
        "        \"\"\"\n",
        "        Initializes weights and bias to zero.\n",
        "        :param n_features: Number of input features\n",
        "        \"\"\"\n",
        "        # <Your code>\n",
        "\n",
        "        # Zero initialization for weights and bias\n",
        "        self.weights = np.zeros(n_features)\n",
        "        self.bias = 0\n",
        "\n",
        "        # <end code>\n",
        "\n",
        "\n",
        "    # Prediction function\n",
        "    def predict(self, X):\n",
        "        # <Your code>\n",
        "\n",
        "        \"\"\"\n",
        "        Predicts class labels for the input data.\n",
        "        parameter X: Input data\n",
        "        return: Predicted class labels\n",
        "        \"\"\"\n",
        "        # Prediction function using the sigmoid on the linear\n",
        "        # model XW + b provided above\n",
        "\n",
        "        linear_model = np.dot(X, self.weights) + self.bias\n",
        "        predictions = sigmoid(linear_model)\n",
        "        return predictions\n",
        "\n",
        "        # <end code>\n",
        "\n",
        "    # Training function using mini-batch SGD\n",
        "    def fit(self, X, y, Trigger=True):\n",
        "        n_samples, n_features = X.shape\n",
        "        self.initialize_weights(n_features)\n",
        "\n",
        "        for epoch in range(self.epochs):\n",
        "            # Shuffle the data\n",
        "            indices = np.arange(n_samples)\n",
        "            np.random.shuffle(indices)\n",
        "            X = X[indices]\n",
        "            y = y[indices]\n",
        "\n",
        "            if epoch == 0:\n",
        "              loss = binary_cross_entropy(y, self.predict(X))\n",
        "              if Trigger:\n",
        "                print(\"SGD loss\")\n",
        "                print(f\"Epoch {epoch + 1}/{self.epochs}, Loss: {loss:.4f}\")\n",
        "\n",
        "            for i in range(0, n_samples, self.batch_size):\n",
        "                X_batch = X[i:i + self.batch_size]\n",
        "                y_batch = y[i:i + self.batch_size]\n",
        "\n",
        "                # <Your code>\n",
        "\n",
        "                # Predictions\n",
        "                y_pred = self.predict(X_batch)\n",
        "\n",
        "                # Compute gradients\n",
        "                dw = np.dot(X_batch.T, (y_pred - y_batch)) / self.batch_size\n",
        "                db = np.sum(y_pred - y_batch) / self.batch_size\n",
        "\n",
        "                # Update weights\n",
        "                self.weights = self.weights - self.learning_rate * dw\n",
        "\n",
        "                # Update bias\n",
        "                self.bias = self.bias - self.learning_rate * db\n",
        "\n",
        "\n",
        "                # <end code>\n",
        "\n",
        "            # Calculate loss for monitoring\n",
        "            loss = binary_cross_entropy(y, self.predict(X))\n",
        "            if Trigger:\n",
        "              if (epoch + 1) % 10 == 0:\n",
        "                print(f\"Epoch {epoch + 1}/{self.epochs}, Loss: {loss:.4f}\")"
      ]
    },
    {
      "cell_type": "code",
      "execution_count": null,
      "metadata": {
        "colab": {
          "base_uri": "https://localhost:8080/"
        },
        "id": "iqqADhS7Vj2W",
        "outputId": "2d5ee736-7857-466e-8436-fb123c4a88ef"
      },
      "outputs": [
        {
          "output_type": "stream",
          "name": "stdout",
          "text": [
            "SGD loss\n",
            "Epoch 1/100, Loss: 0.6931\n",
            "Epoch 10/100, Loss: 0.3551\n",
            "Epoch 20/100, Loss: 0.2728\n",
            "Epoch 30/100, Loss: 0.2340\n",
            "Epoch 40/100, Loss: 0.2106\n",
            "Epoch 50/100, Loss: 0.1943\n",
            "Epoch 60/100, Loss: 0.1822\n",
            "Epoch 70/100, Loss: 0.1726\n",
            "Epoch 80/100, Loss: 0.1647\n",
            "Epoch 90/100, Loss: 0.1582\n",
            "Epoch 100/100, Loss: 0.1525\n"
          ]
        }
      ],
      "source": [
        "# You are encouraged to experiment with different architectures and learning rates to see how they affect the performance of the model.\n",
        "# Training the model\n",
        "model_SGD = LogisticRegression_SGD(learning_rate=0.1, epochs=100, batch_size=16)\n",
        "model_SGD.fit(X_train, y_train)"
      ]
    },
    {
      "cell_type": "code",
      "execution_count": null,
      "metadata": {
        "colab": {
          "base_uri": "https://localhost:8080/"
        },
        "id": "CTnF9h3yLUOW",
        "outputId": "72f5932e-b902-4b0b-b278-9aa881671d5b"
      },
      "outputs": [
        {
          "output_type": "stream",
          "name": "stdout",
          "text": [
            "[1 0 0 1 1 0 0 0 0 1 1 0 1 0 1 0 1 1 1 0 1 1 0 1 1 1 1 1 1 0 1 1 1 1 1 1 0\n",
            " 1 0 1 1 0 1 1 1 1 1 1 1 1 0 0 1 1 1 1 1 0 0 1 1 0 0 1 1 1 0 0 1 1 0 0 1 0\n",
            " 1 1 1 1 1 1 0 1 1 0 0 0 0 0 1 1 1 1 1 1 1 1 0 0 1 0 0 1 0 0 1 1 1 0 1 1 0\n",
            " 1 1 0]\n",
            "[1 0 0 1 1 0 0 0 1 1 1 0 1 0 1 0 1 1 1 0 0 1 0 1 1 1 1 1 1 0 1 1 1 1 1 1 0\n",
            " 1 0 1 1 0 1 1 1 1 1 1 1 1 0 0 1 1 1 1 1 0 0 1 1 0 0 1 1 1 0 0 1 1 0 0 1 0\n",
            " 1 1 1 0 1 1 0 1 0 0 0 0 0 0 1 1 1 1 1 1 1 1 0 0 1 0 0 1 0 0 1 1 1 0 1 1 0\n",
            " 1 1 0]\n",
            "The accuracy is 0.9649\n"
          ]
        }
      ],
      "source": [
        "# Code to check accuracy of your implementation\n",
        "from sklearn.metrics import accuracy_score\n",
        "\n",
        "predictions = model_SGD.predict(X_test)\n",
        "predictions = (predictions > 0.5).astype(int)\n",
        "print(predictions)\n",
        "print(y_test)\n",
        "accuracy = accuracy_score(y_test, predictions)\n",
        "\n",
        "print(f'The accuracy is {accuracy:.4f}')"
      ]
    },
    {
      "cell_type": "markdown",
      "metadata": {
        "id": "0ij7MUZem8kj"
      },
      "source": [
        "### Experimenting with hyperparameters tuning used earlier to improve accuracy."
      ]
    },
    {
      "cell_type": "code",
      "execution_count": 23,
      "metadata": {
        "id": "bn0kAG2jpHKn",
        "colab": {
          "base_uri": "https://localhost:8080/"
        },
        "outputId": "9ac029ef-15f7-4846-cfff-e6e79a2c9b8a"
      },
      "outputs": [
        {
          "output_type": "stream",
          "name": "stderr",
          "text": [
            "Hyperparameter Tuning Experimentation:   1%|▏         | 1/72 [00:00<00:11,  6.32iteration/s]"
          ]
        },
        {
          "output_type": "stream",
          "name": "stdout",
          "text": [
            "For Epochs: 100, Learning Rate: 0.001, Batch Size: 16, the corresponding Accuracy is: 0.8246\n"
          ]
        },
        {
          "output_type": "stream",
          "name": "stderr",
          "text": [
            "\rHyperparameter Tuning Experimentation:   4%|▍         | 3/72 [00:00<00:06, 10.22iteration/s]"
          ]
        },
        {
          "output_type": "stream",
          "name": "stdout",
          "text": [
            "For Epochs: 100, Learning Rate: 0.001, Batch Size: 32, the corresponding Accuracy is: 0.7544\n",
            "For Epochs: 100, Learning Rate: 0.001, Batch Size: 64, the corresponding Accuracy is: 0.7105\n"
          ]
        },
        {
          "output_type": "stream",
          "name": "stderr",
          "text": [
            "\rHyperparameter Tuning Experimentation:   7%|▋         | 5/72 [00:00<00:08,  7.82iteration/s]"
          ]
        },
        {
          "output_type": "stream",
          "name": "stdout",
          "text": [
            "For Epochs: 100, Learning Rate: 0.01, Batch Size: 16, the corresponding Accuracy is: 0.9474\n",
            "For Epochs: 100, Learning Rate: 0.01, Batch Size: 32, the corresponding Accuracy is: 0.9386\n",
            "For Epochs: 100, Learning Rate: 0.01, Batch Size: 64, the corresponding Accuracy is: 0.8947\n"
          ]
        },
        {
          "output_type": "stream",
          "name": "stderr",
          "text": [
            "Hyperparameter Tuning Experimentation:  11%|█         | 8/72 [00:00<00:07,  8.57iteration/s]"
          ]
        },
        {
          "output_type": "stream",
          "name": "stdout",
          "text": [
            "For Epochs: 100, Learning Rate: 0.05, Batch Size: 16, the corresponding Accuracy is: 0.9561\n",
            "For Epochs: 100, Learning Rate: 0.05, Batch Size: 32, the corresponding Accuracy is: 0.9386\n",
            "For Epochs: 100, Learning Rate: 0.05, Batch Size: 64, the corresponding Accuracy is: 0.9474\n"
          ]
        },
        {
          "output_type": "stream",
          "name": "stderr",
          "text": [
            "Hyperparameter Tuning Experimentation:  17%|█▋        | 12/72 [00:01<00:05, 10.04iteration/s]"
          ]
        },
        {
          "output_type": "stream",
          "name": "stdout",
          "text": [
            "For Epochs: 100, Learning Rate: 0.1, Batch Size: 16, the corresponding Accuracy is: 0.9649\n",
            "For Epochs: 100, Learning Rate: 0.1, Batch Size: 32, the corresponding Accuracy is: 0.9561\n",
            "For Epochs: 100, Learning Rate: 0.1, Batch Size: 64, the corresponding Accuracy is: 0.9386\n"
          ]
        },
        {
          "output_type": "stream",
          "name": "stderr",
          "text": [
            "\rHyperparameter Tuning Experimentation:  19%|█▉        | 14/72 [00:01<00:06,  8.36iteration/s]"
          ]
        },
        {
          "output_type": "stream",
          "name": "stdout",
          "text": [
            "For Epochs: 100, Learning Rate: 0.5, Batch Size: 16, the corresponding Accuracy is: 0.9737\n",
            "For Epochs: 100, Learning Rate: 0.5, Batch Size: 32, the corresponding Accuracy is: 0.9737\n",
            "For Epochs: 100, Learning Rate: 0.5, Batch Size: 64, the corresponding Accuracy is: 0.9649\n"
          ]
        },
        {
          "output_type": "stream",
          "name": "stderr",
          "text": [
            "Hyperparameter Tuning Experimentation:  25%|██▌       | 18/72 [00:02<00:05,  9.54iteration/s]"
          ]
        },
        {
          "output_type": "stream",
          "name": "stdout",
          "text": [
            "For Epochs: 100, Learning Rate: 1, Batch Size: 16, the corresponding Accuracy is: 0.9737\n",
            "For Epochs: 100, Learning Rate: 1, Batch Size: 32, the corresponding Accuracy is: 0.9737\n",
            "For Epochs: 100, Learning Rate: 1, Batch Size: 64, the corresponding Accuracy is: 0.9649\n",
            "For Epochs: 200, Learning Rate: 0.001, Batch Size: 16, the corresponding Accuracy is: 0.8772\n"
          ]
        },
        {
          "output_type": "stream",
          "name": "stderr",
          "text": [
            "Hyperparameter Tuning Experimentation:  29%|██▉       | 21/72 [00:02<00:07,  6.75iteration/s]"
          ]
        },
        {
          "output_type": "stream",
          "name": "stdout",
          "text": [
            "For Epochs: 200, Learning Rate: 0.001, Batch Size: 32, the corresponding Accuracy is: 0.8246\n",
            "For Epochs: 200, Learning Rate: 0.001, Batch Size: 64, the corresponding Accuracy is: 0.7544\n"
          ]
        },
        {
          "output_type": "stream",
          "name": "stderr",
          "text": [
            "\rHyperparameter Tuning Experimentation:  31%|███       | 22/72 [00:02<00:09,  5.50iteration/s]"
          ]
        },
        {
          "output_type": "stream",
          "name": "stdout",
          "text": [
            "For Epochs: 200, Learning Rate: 0.01, Batch Size: 16, the corresponding Accuracy is: 0.9474\n"
          ]
        },
        {
          "output_type": "stream",
          "name": "stderr",
          "text": [
            "\rHyperparameter Tuning Experimentation:  32%|███▏      | 23/72 [00:03<00:09,  4.99iteration/s]"
          ]
        },
        {
          "output_type": "stream",
          "name": "stdout",
          "text": [
            "For Epochs: 200, Learning Rate: 0.01, Batch Size: 32, the corresponding Accuracy is: 0.9474\n"
          ]
        },
        {
          "output_type": "stream",
          "name": "stderr",
          "text": [
            "\rHyperparameter Tuning Experimentation:  33%|███▎      | 24/72 [00:03<00:10,  4.38iteration/s]"
          ]
        },
        {
          "output_type": "stream",
          "name": "stdout",
          "text": [
            "For Epochs: 200, Learning Rate: 0.01, Batch Size: 64, the corresponding Accuracy is: 0.9386\n"
          ]
        },
        {
          "output_type": "stream",
          "name": "stderr",
          "text": [
            "\rHyperparameter Tuning Experimentation:  35%|███▍      | 25/72 [00:04<00:16,  2.93iteration/s]"
          ]
        },
        {
          "output_type": "stream",
          "name": "stdout",
          "text": [
            "For Epochs: 200, Learning Rate: 0.05, Batch Size: 16, the corresponding Accuracy is: 0.9649\n"
          ]
        },
        {
          "output_type": "stream",
          "name": "stderr",
          "text": [
            "\rHyperparameter Tuning Experimentation:  36%|███▌      | 26/72 [00:04<00:15,  2.91iteration/s]"
          ]
        },
        {
          "output_type": "stream",
          "name": "stdout",
          "text": [
            "For Epochs: 200, Learning Rate: 0.05, Batch Size: 32, the corresponding Accuracy is: 0.9561\n"
          ]
        },
        {
          "output_type": "stream",
          "name": "stderr",
          "text": [
            "\rHyperparameter Tuning Experimentation:  38%|███▊      | 27/72 [00:04<00:15,  2.98iteration/s]"
          ]
        },
        {
          "output_type": "stream",
          "name": "stdout",
          "text": [
            "For Epochs: 200, Learning Rate: 0.05, Batch Size: 64, the corresponding Accuracy is: 0.9386\n"
          ]
        },
        {
          "output_type": "stream",
          "name": "stderr",
          "text": [
            "\rHyperparameter Tuning Experimentation:  39%|███▉      | 28/72 [00:05<00:18,  2.34iteration/s]"
          ]
        },
        {
          "output_type": "stream",
          "name": "stdout",
          "text": [
            "For Epochs: 200, Learning Rate: 0.1, Batch Size: 16, the corresponding Accuracy is: 0.9649\n"
          ]
        },
        {
          "output_type": "stream",
          "name": "stderr",
          "text": [
            "\rHyperparameter Tuning Experimentation:  40%|████      | 29/72 [00:05<00:18,  2.36iteration/s]"
          ]
        },
        {
          "output_type": "stream",
          "name": "stdout",
          "text": [
            "For Epochs: 200, Learning Rate: 0.1, Batch Size: 32, the corresponding Accuracy is: 0.9649\n"
          ]
        },
        {
          "output_type": "stream",
          "name": "stderr",
          "text": [
            "\rHyperparameter Tuning Experimentation:  42%|████▏     | 30/72 [00:06<00:15,  2.63iteration/s]"
          ]
        },
        {
          "output_type": "stream",
          "name": "stdout",
          "text": [
            "For Epochs: 200, Learning Rate: 0.1, Batch Size: 64, the corresponding Accuracy is: 0.9561\n"
          ]
        },
        {
          "output_type": "stream",
          "name": "stderr",
          "text": [
            "\rHyperparameter Tuning Experimentation:  43%|████▎     | 31/72 [00:06<00:19,  2.13iteration/s]"
          ]
        },
        {
          "output_type": "stream",
          "name": "stdout",
          "text": [
            "For Epochs: 200, Learning Rate: 0.5, Batch Size: 16, the corresponding Accuracy is: 0.9737\n"
          ]
        },
        {
          "output_type": "stream",
          "name": "stderr",
          "text": [
            "Hyperparameter Tuning Experimentation:  46%|████▌     | 33/72 [00:07<00:13,  2.95iteration/s]"
          ]
        },
        {
          "output_type": "stream",
          "name": "stdout",
          "text": [
            "For Epochs: 200, Learning Rate: 0.5, Batch Size: 32, the corresponding Accuracy is: 0.9737\n",
            "For Epochs: 200, Learning Rate: 0.5, Batch Size: 64, the corresponding Accuracy is: 0.9649\n"
          ]
        },
        {
          "output_type": "stream",
          "name": "stderr",
          "text": [
            "\rHyperparameter Tuning Experimentation:  47%|████▋     | 34/72 [00:07<00:12,  3.01iteration/s]"
          ]
        },
        {
          "output_type": "stream",
          "name": "stdout",
          "text": [
            "For Epochs: 200, Learning Rate: 1, Batch Size: 16, the corresponding Accuracy is: 0.9737\n"
          ]
        },
        {
          "output_type": "stream",
          "name": "stderr",
          "text": [
            "Hyperparameter Tuning Experimentation:  50%|█████     | 36/72 [00:08<00:08,  4.07iteration/s]"
          ]
        },
        {
          "output_type": "stream",
          "name": "stdout",
          "text": [
            "For Epochs: 200, Learning Rate: 1, Batch Size: 32, the corresponding Accuracy is: 0.9737\n",
            "For Epochs: 200, Learning Rate: 1, Batch Size: 64, the corresponding Accuracy is: 0.9737\n"
          ]
        },
        {
          "output_type": "stream",
          "name": "stderr",
          "text": [
            "\rHyperparameter Tuning Experimentation:  51%|█████▏    | 37/72 [00:08<00:10,  3.21iteration/s]"
          ]
        },
        {
          "output_type": "stream",
          "name": "stdout",
          "text": [
            "For Epochs: 300, Learning Rate: 0.001, Batch Size: 16, the corresponding Accuracy is: 0.9123\n"
          ]
        },
        {
          "output_type": "stream",
          "name": "stderr",
          "text": [
            "\rHyperparameter Tuning Experimentation:  53%|█████▎    | 38/72 [00:08<00:10,  3.31iteration/s]"
          ]
        },
        {
          "output_type": "stream",
          "name": "stdout",
          "text": [
            "For Epochs: 300, Learning Rate: 0.001, Batch Size: 32, the corresponding Accuracy is: 0.8684\n"
          ]
        },
        {
          "output_type": "stream",
          "name": "stderr",
          "text": [
            "\rHyperparameter Tuning Experimentation:  54%|█████▍    | 39/72 [00:08<00:09,  3.66iteration/s]"
          ]
        },
        {
          "output_type": "stream",
          "name": "stdout",
          "text": [
            "For Epochs: 300, Learning Rate: 0.001, Batch Size: 64, the corresponding Accuracy is: 0.7807\n"
          ]
        },
        {
          "output_type": "stream",
          "name": "stderr",
          "text": [
            "\rHyperparameter Tuning Experimentation:  56%|█████▌    | 40/72 [00:09<00:10,  3.03iteration/s]"
          ]
        },
        {
          "output_type": "stream",
          "name": "stdout",
          "text": [
            "For Epochs: 300, Learning Rate: 0.01, Batch Size: 16, the corresponding Accuracy is: 0.9386\n"
          ]
        },
        {
          "output_type": "stream",
          "name": "stderr",
          "text": [
            "\rHyperparameter Tuning Experimentation:  57%|█████▋    | 41/72 [00:09<00:09,  3.18iteration/s]"
          ]
        },
        {
          "output_type": "stream",
          "name": "stdout",
          "text": [
            "For Epochs: 300, Learning Rate: 0.01, Batch Size: 32, the corresponding Accuracy is: 0.9474\n"
          ]
        },
        {
          "output_type": "stream",
          "name": "stderr",
          "text": [
            "\rHyperparameter Tuning Experimentation:  58%|█████▊    | 42/72 [00:09<00:08,  3.50iteration/s]"
          ]
        },
        {
          "output_type": "stream",
          "name": "stdout",
          "text": [
            "For Epochs: 300, Learning Rate: 0.01, Batch Size: 64, the corresponding Accuracy is: 0.9474\n"
          ]
        },
        {
          "output_type": "stream",
          "name": "stderr",
          "text": [
            "\rHyperparameter Tuning Experimentation:  60%|█████▉    | 43/72 [00:10<00:09,  2.95iteration/s]"
          ]
        },
        {
          "output_type": "stream",
          "name": "stdout",
          "text": [
            "For Epochs: 300, Learning Rate: 0.05, Batch Size: 16, the corresponding Accuracy is: 0.9649\n"
          ]
        },
        {
          "output_type": "stream",
          "name": "stderr",
          "text": [
            "Hyperparameter Tuning Experimentation:  62%|██████▎   | 45/72 [00:10<00:07,  3.51iteration/s]"
          ]
        },
        {
          "output_type": "stream",
          "name": "stdout",
          "text": [
            "For Epochs: 300, Learning Rate: 0.05, Batch Size: 32, the corresponding Accuracy is: 0.9649\n",
            "For Epochs: 300, Learning Rate: 0.05, Batch Size: 64, the corresponding Accuracy is: 0.9561\n"
          ]
        },
        {
          "output_type": "stream",
          "name": "stderr",
          "text": [
            "\rHyperparameter Tuning Experimentation:  64%|██████▍   | 46/72 [00:11<00:08,  2.94iteration/s]"
          ]
        },
        {
          "output_type": "stream",
          "name": "stdout",
          "text": [
            "For Epochs: 300, Learning Rate: 0.1, Batch Size: 16, the corresponding Accuracy is: 0.9737\n"
          ]
        },
        {
          "output_type": "stream",
          "name": "stderr",
          "text": [
            "Hyperparameter Tuning Experimentation:  67%|██████▋   | 48/72 [00:11<00:06,  3.58iteration/s]"
          ]
        },
        {
          "output_type": "stream",
          "name": "stdout",
          "text": [
            "For Epochs: 300, Learning Rate: 0.1, Batch Size: 32, the corresponding Accuracy is: 0.9649\n",
            "For Epochs: 300, Learning Rate: 0.1, Batch Size: 64, the corresponding Accuracy is: 0.9649\n"
          ]
        },
        {
          "output_type": "stream",
          "name": "stderr",
          "text": [
            "\rHyperparameter Tuning Experimentation:  68%|██████▊   | 49/72 [00:12<00:07,  2.90iteration/s]"
          ]
        },
        {
          "output_type": "stream",
          "name": "stdout",
          "text": [
            "For Epochs: 300, Learning Rate: 0.5, Batch Size: 16, the corresponding Accuracy is: 0.9737\n"
          ]
        },
        {
          "output_type": "stream",
          "name": "stderr",
          "text": [
            "Hyperparameter Tuning Experimentation:  71%|███████   | 51/72 [00:12<00:05,  3.57iteration/s]"
          ]
        },
        {
          "output_type": "stream",
          "name": "stdout",
          "text": [
            "For Epochs: 300, Learning Rate: 0.5, Batch Size: 32, the corresponding Accuracy is: 0.9737\n",
            "For Epochs: 300, Learning Rate: 0.5, Batch Size: 64, the corresponding Accuracy is: 0.9737\n"
          ]
        },
        {
          "output_type": "stream",
          "name": "stderr",
          "text": [
            "\rHyperparameter Tuning Experimentation:  72%|███████▏  | 52/72 [00:13<00:06,  2.90iteration/s]"
          ]
        },
        {
          "output_type": "stream",
          "name": "stdout",
          "text": [
            "For Epochs: 300, Learning Rate: 1, Batch Size: 16, the corresponding Accuracy is: 0.9737\n"
          ]
        },
        {
          "output_type": "stream",
          "name": "stderr",
          "text": [
            "Hyperparameter Tuning Experimentation:  75%|███████▌  | 54/72 [00:13<00:05,  3.55iteration/s]"
          ]
        },
        {
          "output_type": "stream",
          "name": "stdout",
          "text": [
            "For Epochs: 300, Learning Rate: 1, Batch Size: 32, the corresponding Accuracy is: 0.9737\n",
            "For Epochs: 300, Learning Rate: 1, Batch Size: 64, the corresponding Accuracy is: 0.9737\n"
          ]
        },
        {
          "output_type": "stream",
          "name": "stderr",
          "text": [
            "\rHyperparameter Tuning Experimentation:  76%|███████▋  | 55/72 [00:14<00:06,  2.58iteration/s]"
          ]
        },
        {
          "output_type": "stream",
          "name": "stdout",
          "text": [
            "For Epochs: 400, Learning Rate: 0.001, Batch Size: 16, the corresponding Accuracy is: 0.9386\n"
          ]
        },
        {
          "output_type": "stream",
          "name": "stderr",
          "text": [
            "\rHyperparameter Tuning Experimentation:  78%|███████▊  | 56/72 [00:14<00:06,  2.63iteration/s]"
          ]
        },
        {
          "output_type": "stream",
          "name": "stdout",
          "text": [
            "For Epochs: 400, Learning Rate: 0.001, Batch Size: 32, the corresponding Accuracy is: 0.8772\n"
          ]
        },
        {
          "output_type": "stream",
          "name": "stderr",
          "text": [
            "\rHyperparameter Tuning Experimentation:  79%|███████▉  | 57/72 [00:14<00:05,  2.98iteration/s]"
          ]
        },
        {
          "output_type": "stream",
          "name": "stdout",
          "text": [
            "For Epochs: 400, Learning Rate: 0.001, Batch Size: 64, the corresponding Accuracy is: 0.8246\n"
          ]
        },
        {
          "output_type": "stream",
          "name": "stderr",
          "text": [
            "\rHyperparameter Tuning Experimentation:  81%|████████  | 58/72 [00:15<00:05,  2.34iteration/s]"
          ]
        },
        {
          "output_type": "stream",
          "name": "stdout",
          "text": [
            "For Epochs: 400, Learning Rate: 0.01, Batch Size: 16, the corresponding Accuracy is: 0.9561\n"
          ]
        },
        {
          "output_type": "stream",
          "name": "stderr",
          "text": [
            "\rHyperparameter Tuning Experimentation:  82%|████████▏ | 59/72 [00:15<00:05,  2.45iteration/s]"
          ]
        },
        {
          "output_type": "stream",
          "name": "stdout",
          "text": [
            "For Epochs: 400, Learning Rate: 0.01, Batch Size: 32, the corresponding Accuracy is: 0.9474\n"
          ]
        },
        {
          "output_type": "stream",
          "name": "stderr",
          "text": [
            "\rHyperparameter Tuning Experimentation:  83%|████████▎ | 60/72 [00:16<00:04,  2.73iteration/s]"
          ]
        },
        {
          "output_type": "stream",
          "name": "stdout",
          "text": [
            "For Epochs: 400, Learning Rate: 0.01, Batch Size: 64, the corresponding Accuracy is: 0.9474\n"
          ]
        },
        {
          "output_type": "stream",
          "name": "stderr",
          "text": [
            "\rHyperparameter Tuning Experimentation:  85%|████████▍ | 61/72 [00:16<00:04,  2.22iteration/s]"
          ]
        },
        {
          "output_type": "stream",
          "name": "stdout",
          "text": [
            "For Epochs: 400, Learning Rate: 0.05, Batch Size: 16, the corresponding Accuracy is: 0.9649\n"
          ]
        },
        {
          "output_type": "stream",
          "name": "stderr",
          "text": [
            "\rHyperparameter Tuning Experimentation:  86%|████████▌ | 62/72 [00:17<00:04,  2.18iteration/s]"
          ]
        },
        {
          "output_type": "stream",
          "name": "stdout",
          "text": [
            "For Epochs: 400, Learning Rate: 0.05, Batch Size: 32, the corresponding Accuracy is: 0.9649\n"
          ]
        },
        {
          "output_type": "stream",
          "name": "stderr",
          "text": [
            "\rHyperparameter Tuning Experimentation:  88%|████████▊ | 63/72 [00:17<00:04,  1.97iteration/s]"
          ]
        },
        {
          "output_type": "stream",
          "name": "stdout",
          "text": [
            "For Epochs: 400, Learning Rate: 0.05, Batch Size: 64, the corresponding Accuracy is: 0.9561\n"
          ]
        },
        {
          "output_type": "stream",
          "name": "stderr",
          "text": [
            "\rHyperparameter Tuning Experimentation:  89%|████████▉ | 64/72 [00:19<00:05,  1.42iteration/s]"
          ]
        },
        {
          "output_type": "stream",
          "name": "stdout",
          "text": [
            "For Epochs: 400, Learning Rate: 0.1, Batch Size: 16, the corresponding Accuracy is: 0.9737\n"
          ]
        },
        {
          "output_type": "stream",
          "name": "stderr",
          "text": [
            "\rHyperparameter Tuning Experimentation:  90%|█████████ | 65/72 [00:19<00:05,  1.37iteration/s]"
          ]
        },
        {
          "output_type": "stream",
          "name": "stdout",
          "text": [
            "For Epochs: 400, Learning Rate: 0.1, Batch Size: 32, the corresponding Accuracy is: 0.9649\n"
          ]
        },
        {
          "output_type": "stream",
          "name": "stderr",
          "text": [
            "\rHyperparameter Tuning Experimentation:  92%|█████████▏| 66/72 [00:20<00:04,  1.48iteration/s]"
          ]
        },
        {
          "output_type": "stream",
          "name": "stdout",
          "text": [
            "For Epochs: 400, Learning Rate: 0.1, Batch Size: 64, the corresponding Accuracy is: 0.9649\n"
          ]
        },
        {
          "output_type": "stream",
          "name": "stderr",
          "text": [
            "\rHyperparameter Tuning Experimentation:  93%|█████████▎| 67/72 [00:21<00:04,  1.20iteration/s]"
          ]
        },
        {
          "output_type": "stream",
          "name": "stdout",
          "text": [
            "For Epochs: 400, Learning Rate: 0.5, Batch Size: 16, the corresponding Accuracy is: 0.9737\n"
          ]
        },
        {
          "output_type": "stream",
          "name": "stderr",
          "text": [
            "\rHyperparameter Tuning Experimentation:  94%|█████████▍| 68/72 [00:22<00:02,  1.44iteration/s]"
          ]
        },
        {
          "output_type": "stream",
          "name": "stdout",
          "text": [
            "For Epochs: 400, Learning Rate: 0.5, Batch Size: 32, the corresponding Accuracy is: 0.9737\n"
          ]
        },
        {
          "output_type": "stream",
          "name": "stderr",
          "text": [
            "\rHyperparameter Tuning Experimentation:  96%|█████████▌| 69/72 [00:22<00:01,  1.78iteration/s]"
          ]
        },
        {
          "output_type": "stream",
          "name": "stdout",
          "text": [
            "For Epochs: 400, Learning Rate: 0.5, Batch Size: 64, the corresponding Accuracy is: 0.9737\n"
          ]
        },
        {
          "output_type": "stream",
          "name": "stderr",
          "text": [
            "\rHyperparameter Tuning Experimentation:  97%|█████████▋| 70/72 [00:22<00:01,  1.69iteration/s]"
          ]
        },
        {
          "output_type": "stream",
          "name": "stdout",
          "text": [
            "For Epochs: 400, Learning Rate: 1, Batch Size: 16, the corresponding Accuracy is: 0.9737\n"
          ]
        },
        {
          "output_type": "stream",
          "name": "stderr",
          "text": [
            "\rHyperparameter Tuning Experimentation:  99%|█████████▊| 71/72 [00:23<00:00,  1.88iteration/s]"
          ]
        },
        {
          "output_type": "stream",
          "name": "stdout",
          "text": [
            "For Epochs: 400, Learning Rate: 1, Batch Size: 32, the corresponding Accuracy is: 0.9737\n"
          ]
        },
        {
          "output_type": "stream",
          "name": "stderr",
          "text": [
            "Hyperparameter Tuning Experimentation: 100%|██████████| 72/72 [00:23<00:00,  3.05iteration/s]"
          ]
        },
        {
          "output_type": "stream",
          "name": "stdout",
          "text": [
            "For Epochs: 400, Learning Rate: 1, Batch Size: 64, the corresponding Accuracy is: 0.9737\n",
            "\n",
            "The Best Accuracy hyper-parameter Settings:\n",
            "For Epochs: 100, Learning Rate: 0.5 and Batch Size: 16, we can get best accuracy: 0.9737\n"
          ]
        },
        {
          "output_type": "stream",
          "name": "stderr",
          "text": [
            "\n"
          ]
        }
      ],
      "source": [
        "from sklearn.metrics import accuracy_score\n",
        "from tqdm import tqdm\n",
        "\n",
        "\"\"\"\n",
        "Below is an experiment with varying hyperparameters such as epochs, learning rates,\n",
        "and batch sizes. The idea here is to find the best combination of hyperparameters\n",
        "that yields the highest accuracy.\n",
        "\"\"\"\n",
        "\n",
        "# List of hyperparameters to vary\n",
        "epochs_list = [100, 200, 300, 400]  # Varying epochs\n",
        "learning_rates = [0.001, 0.01, 0.05, 0.1, 0.5, 1]  # Varying learning rates\n",
        "batches = [16, 32, 64]  # Varying batch sizes\n",
        "accuracy_results = []  # Empty list to store computed accuracies\n",
        "\n",
        "# Initialize variables\n",
        "best_accuracy = 0\n",
        "best_epochs = 0\n",
        "best_lr = 0\n",
        "best_batch = 0\n",
        "\n",
        "# Total iterations for tqdm\n",
        "total_iterations = len(epochs_list) * len(learning_rates) * len(batches)\n",
        "\n",
        "\"\"\"\n",
        "Implement tqdm progress bar for the entire process (Reference: https://github.com/tqdm/tqdm)\n",
        "\"\"\"\n",
        "\n",
        "with tqdm(total=total_iterations, desc='Hyperparameter Tuning Experimentation', unit='iteration') as progress_bar:\n",
        "    # Nested loops to iterate over epochs, learning rates, and batch sizes\n",
        "    for epochs in epochs_list:\n",
        "        for lr in learning_rates:\n",
        "            for batch in batches:\n",
        "                # Initialize and fit the model for each iteration\n",
        "                model_SGD = LogisticRegression_SGD(learning_rate=lr, epochs=epochs, batch_size=batch)\n",
        "                model_SGD.fit(X_train, y_train, Trigger=False)\n",
        "\n",
        "                # Make predictions and calculate accuracy\n",
        "                predictions = model_SGD.predict(X_test)\n",
        "                predictions = (predictions > 0.5).astype(int)\n",
        "                accuracy = accuracy_score(y_test, predictions)\n",
        "\n",
        "                # Store\n",
        "                accuracy_results.append((epochs, lr, batch, accuracy))\n",
        "\n",
        "                # Print results\n",
        "                print(f'For Epochs: {epochs}, Learning Rate: {lr}, Batch Size: {batch}, the corresponding Accuracy is: {accuracy:.4f}')\n",
        "\n",
        "                # Check if this accuracy is better than the best found so far\n",
        "                if accuracy > best_accuracy:\n",
        "                    best_accuracy = accuracy\n",
        "                    best_epochs = epochs\n",
        "                    best_lr = lr\n",
        "                    best_batch = batch\n",
        "\n",
        "                # Update progress bar\n",
        "                progress_bar.update(1)\n",
        "\n",
        "# Print the best hyper-parameter settings and corresponding accuracy\n",
        "print(\"\\nThe Best Accuracy hyper-parameter Settings:\")\n",
        "print(f'For Epochs: {best_epochs}, Learning Rate: {best_lr} and Batch Size: {best_batch}, we can get best accuracy: {best_accuracy:.4f}')"
      ]
    },
    {
      "cell_type": "markdown",
      "metadata": {
        "id": "NXsERLmJVnAm"
      },
      "source": [
        "# 4. 3-Layer Neural Network with SGD (40/100 points)\n",
        "\n",
        "\n",
        "Now, we extend our 1-layer neural network to 3-layers neural network.\n",
        "\n",
        "**Implement the Following:**\n",
        "\n",
        "Ensure your code is placed between the comments `<Your code>` and `<end code>`. This structure is intended to keep your implementation organized and straightforward.\n",
        "\n",
        "\n"
      ]
    },
    {
      "cell_type": "markdown",
      "metadata": {
        "id": "6Kk26XbDXL0N"
      },
      "source": [
        "## 4-1. Defining activation functions and the derivative (10/100 points)\n",
        "\n",
        "**Implement the Following:**\n",
        "1. relu function: Implement the ReLU activation function, which takes in a scalar or vector and returns the ReLU of the input.\n",
        "2. relu_derivative function: Implement the derivative of the ReLU activation function, which takes in a scalar or vector and returns the derivative of the ReLU of the input.\n",
        "3. sigmoid function: Implement the sigmoid activation function, which takes in a scalar or vector and returns the sigmoid of the input."
      ]
    },
    {
      "cell_type": "code",
      "execution_count": null,
      "metadata": {
        "id": "gB2LyOiHYhWY"
      },
      "outputs": [],
      "source": [
        "def relu(z):\n",
        "    \"\"\"ReLU activation function.\"\"\"\n",
        "    # <Your code>\n",
        "\n",
        "    return np.maximum(0.0, z)\n",
        "\n",
        "    # <end code>\n",
        "\n",
        "def relu_derivative(z):\n",
        "    \"\"\"Derivative of ReLU activation function.\"\"\"\n",
        "    # <Your code>\n",
        "    return (z > 0).astype(int)\n",
        "\n",
        "    # <end code>\n",
        "\n",
        "def sigmoid(z):\n",
        "    \"\"\"Sigmoid activation function.\"\"\"\n",
        "    # <Your code>\n",
        "    return 1 / (1 + np.exp(-z))\n",
        "\n",
        "    # <end code>\n"
      ]
    },
    {
      "cell_type": "markdown",
      "metadata": {
        "id": "ExSubVgGYrA5"
      },
      "source": [
        "## 4-2. Defining 3-layer Neural Network (30/100 points)\n",
        "\n",
        "**Implement the Following:**\n",
        "\n",
        "1. Initialize Parameters: Implement `initialize_weights` function. Implement Kaiming initialization to initialize `weights`. Use zero initialization for `bias`.\n",
        "\n",
        "2. forward function: Compute the pre-activation for each layer by multiplying inputs or previous activations with weights and adding biases. Apply the ReLU activation function for hidden layers and the Sigmoid function for the output layer. Finally, return the activated output of the network. The formulation of forward function can be defined as:\n",
        "\n",
        "$$\\sigma(\\text{relu}(\\text{relu}(XW_1+b_1)W_2+b_2)W_3+b_3)$$\n",
        "\n",
        "3. backward function:\n",
        "    1. **Compute Gradient of Loss**: Calculate the gradient of the loss with respect to the network's output.\n",
        "    2. **Compute Gradients for Weights and Biases**: Use the gradients from the output to compute the gradients of weights and biases at each layer, applying the activation function's derivative where needed.\n",
        "    3. **Propagate Gradients Backward**: Continue to backpropagate the gradients through the network, adjusting calculations as you move from one layer to the previous.\n",
        "    4. **Update Parameters**: Update all weights and biases using the calculated gradients and learning rate.\n",
        "\n",
        "    This backpropagation adjusts the model parameters to minimize the loss.\n",
        "\n",
        "4. predict function: Implement the predict function, which takes in the feature matrix `X` and returns the predicted class (0 or 1).\n",
        "\n",
        "You are encouraged to experiment with different architectures and learning rates to see how they affect the performance of the model.\n",
        "\n",
        "Make sure you get accuracy greater than **0.75** on the test set."
      ]
    },
    {
      "cell_type": "code",
      "execution_count": null,
      "metadata": {
        "id": "Uy8RcFLdVnAn"
      },
      "outputs": [],
      "source": [
        "# Neural Network Model with an additional hidden layer\n",
        "class NeuralNetwork:\n",
        "    def __init__(self, input_size, hidden_size1, hidden_size2, output_size, learning_rate=0.01, epochs=100, batch_size=32):\n",
        "        \"\"\"\n",
        "        Initialize the Neural Network with given parameters.\n",
        "        :param input_size: Number of input features\n",
        "        :param hidden_size1: Number of neurons in the first hidden layer\n",
        "        :param hidden_size2: Number of neurons in the second hidden layer\n",
        "        :param output_size: Number of output neurons (1 for binary classification)\n",
        "        :param learning_rate: Learning rate for weight updates\n",
        "        :param epochs: Number of training iterations\n",
        "        :param batch_size: Size of mini-batches for SGD\n",
        "        \"\"\"\n",
        "        self.input_size = input_size\n",
        "        self.hidden_size1 = hidden_size1\n",
        "        self.hidden_size2 = hidden_size2\n",
        "        self.output_size = output_size\n",
        "        self.learning_rate = learning_rate\n",
        "        self.epochs = epochs\n",
        "        self.batch_size = batch_size\n",
        "        self.initialize_weights()\n",
        "        self.loss_history = []\n",
        "\n",
        "    def initialize_weights(self):\n",
        "        \"\"\"Initialize weights and biases using Kaiming initialization.\"\"\"\n",
        "\n",
        "        # <Your code>\n",
        "\n",
        "        # Kaiming initialization for the first layer weights\n",
        "        self.W1 = np.random.randn(self.input_size, self.hidden_size1) * np.sqrt(2 / self.input_size)\n",
        "        self.b1 = np.zeros(self.hidden_size1)\n",
        "\n",
        "\n",
        "        # Kaiming initialization for the second layer weights\n",
        "        self.W2 = np.random.randn(self.hidden_size1, self.hidden_size2) * np.sqrt(2 / self.hidden_size1)\n",
        "        self.b2 = np.zeros(self.hidden_size2)\n",
        "\n",
        "\n",
        "        # Kaiming initialization for the third layer weights\n",
        "        self.W3 = np.random.randn(self.hidden_size2, self.output_size) * np.sqrt(2 / self.hidden_size2)\n",
        "        self.b3 = np.zeros(self.output_size)\n",
        "\n",
        "\n",
        "        # <end code>\n",
        "\n",
        "\n",
        "    def forward(self, X):\n",
        "        \"\"\"\n",
        "        Forward pass through the network.\n",
        "        :param X: Input data\n",
        "        :return: Activated output of the network\n",
        "        \"\"\"\n",
        "        # <Your code>\n",
        "\n",
        "        # Forward pass for the first hidden layer\n",
        "        self.Z1 = np.dot(X, self.W1) + self.b1\n",
        "        self.A1 = relu(self.Z1)\n",
        "\n",
        "        # Forward pass for the second hidden layer\n",
        "        self.Z2 = np.dot(self.A1, self.W2) + self.b2\n",
        "        self.A2 = relu(self.Z2)\n",
        "\n",
        "        # Forward pass for the output layer\n",
        "        self.Z3 = np.dot(self.A2, self.W3) + self.b3\n",
        "        A3 = sigmoid(self.Z3)\n",
        "\n",
        "        return A3\n",
        "        # <end code>\n",
        "\n",
        "    def backward(self, X, y, output):\n",
        "        \"\"\"\n",
        "        Backpropagation to compute gradients and update weights.\n",
        "        :param X: Input data\n",
        "        :param y: True labels\n",
        "        :param output: Predicted output from forward pass\n",
        "        \"\"\"\n",
        "        m = X.shape[0]\n",
        "\n",
        "        # Gradient of loss w.r.t. output (binary cross-entropy with sigmoid activation)\n",
        "        dZ3 = output - y[:,None]  # Gradient wrt Z3 when using sigmoid activation at output\n",
        "\n",
        "\n",
        "        # <Your code>\n",
        "\n",
        "        # Gradients for the third layer (output layer)\n",
        "        dW3 = (1/m) * np.dot(self.A2.T, dZ3)\n",
        "        db3 = (1/m) * np.sum(dZ3, axis=0)\n",
        "\n",
        "\n",
        "        # Gradients for the second hidden layer\n",
        "        dZ2 = np.dot(dZ3, self.W3.T) * relu_derivative(self.Z2)\n",
        "\n",
        "\n",
        "        # Gradients for the first hidden layer\n",
        "        dZ1 = np.dot(dZ2, self.W2.T) * relu_derivative(self.Z1)\n",
        "\n",
        "\n",
        "\n",
        "        # Update weights and biases using gradients\n",
        "        self.W3 -= self.learning_rate * dW3\n",
        "        self.b3 -= self.learning_rate * db3\n",
        "\n",
        "        # <end code>\n",
        "\n",
        "    def fit(self, X, y, Trigger =True):\n",
        "        \"\"\"\n",
        "        Train the neural network using mini-batch SGD.\n",
        "        :param X: Training data\n",
        "        :param y: True labels\n",
        "        \"\"\"\n",
        "        loss = binary_cross_entropy(y, self.forward(X))\n",
        "        if Trigger:\n",
        "          print(f\"Epoch 0/{self.epochs}, Loss: {loss:.4f}\")\n",
        "\n",
        "        for epoch in range(self.epochs):\n",
        "            indices = np.arange(X.shape[0])\n",
        "            np.random.shuffle(indices)\n",
        "            X = X[indices]\n",
        "            y = y[indices]\n",
        "\n",
        "            for i in range(0, X.shape[0], self.batch_size):\n",
        "                X_batch = X[i:i + self.batch_size]\n",
        "                y_batch = y[i:i + self.batch_size]\n",
        "\n",
        "                # Forward and backward pass\n",
        "                output = self.forward(X_batch)\n",
        "                self.backward(X_batch, y_batch, output)\n",
        "\n",
        "            # Calculate and print loss for monitoring\n",
        "\n",
        "                loss = binary_cross_entropy(y, self.forward(X))\n",
        "                self.loss_history.append(loss)  # Store loss\n",
        "                if Trigger and (epoch + 1) % 100 == 0:\n",
        "                    print(f\"Epoch {epoch + 1}/{self.epochs}, Loss: {loss:.4f}\")\n",
        "\n",
        "    def get_loss_history(self):\n",
        "            \"\"\"Return the loss history.\"\"\"\n",
        "            return self.loss_history\n",
        "\n",
        "\n",
        "    def predict(self, X):\n",
        "        \"\"\"\n",
        "        Predict using the trained neural network.\n",
        "        :param X: Input data\n",
        "        :return: Predicted labels\n",
        "        \"\"\"\n",
        "\n",
        "        # <Your code>\n",
        "        predictions = self.forward(X)\n",
        "        return (predictions > 0.5).astype(int)  # Convert probabilities to binary predictions\n",
        "        # <end code>"
      ]
    },
    {
      "cell_type": "code",
      "execution_count": null,
      "metadata": {
        "colab": {
          "base_uri": "https://localhost:8080/"
        },
        "id": "JnakwS_5LUOW",
        "outputId": "e25d908a-07ef-4f27-944b-66d25f716ba5"
      },
      "outputs": [
        {
          "output_type": "stream",
          "name": "stdout",
          "text": [
            "Epoch 0/1000, Loss: 0.8212\n",
            "Epoch 100/1000, Loss: 0.6648\n",
            "Epoch 100/1000, Loss: 0.6648\n",
            "Epoch 100/1000, Loss: 0.6648\n",
            "Epoch 100/1000, Loss: 0.6648\n",
            "Epoch 100/1000, Loss: 0.6648\n",
            "Epoch 100/1000, Loss: 0.6648\n",
            "Epoch 100/1000, Loss: 0.6648\n",
            "Epoch 100/1000, Loss: 0.6648\n",
            "Epoch 100/1000, Loss: 0.6648\n",
            "Epoch 100/1000, Loss: 0.6648\n",
            "Epoch 100/1000, Loss: 0.6648\n",
            "Epoch 100/1000, Loss: 0.6648\n",
            "Epoch 100/1000, Loss: 0.6648\n",
            "Epoch 100/1000, Loss: 0.6648\n",
            "Epoch 100/1000, Loss: 0.6649\n",
            "Epoch 200/1000, Loss: 0.6665\n",
            "Epoch 200/1000, Loss: 0.6665\n",
            "Epoch 200/1000, Loss: 0.6665\n",
            "Epoch 200/1000, Loss: 0.6665\n",
            "Epoch 200/1000, Loss: 0.6665\n",
            "Epoch 200/1000, Loss: 0.6665\n",
            "Epoch 200/1000, Loss: 0.6665\n",
            "Epoch 200/1000, Loss: 0.6665\n",
            "Epoch 200/1000, Loss: 0.6665\n",
            "Epoch 200/1000, Loss: 0.6665\n",
            "Epoch 200/1000, Loss: 0.6665\n",
            "Epoch 200/1000, Loss: 0.6665\n",
            "Epoch 200/1000, Loss: 0.6665\n",
            "Epoch 200/1000, Loss: 0.6665\n",
            "Epoch 200/1000, Loss: 0.6665\n",
            "Epoch 300/1000, Loss: 0.6691\n",
            "Epoch 300/1000, Loss: 0.6691\n",
            "Epoch 300/1000, Loss: 0.6690\n",
            "Epoch 300/1000, Loss: 0.6691\n",
            "Epoch 300/1000, Loss: 0.6691\n",
            "Epoch 300/1000, Loss: 0.6691\n",
            "Epoch 300/1000, Loss: 0.6691\n",
            "Epoch 300/1000, Loss: 0.6691\n",
            "Epoch 300/1000, Loss: 0.6691\n",
            "Epoch 300/1000, Loss: 0.6691\n",
            "Epoch 300/1000, Loss: 0.6691\n",
            "Epoch 300/1000, Loss: 0.6691\n",
            "Epoch 300/1000, Loss: 0.6691\n",
            "Epoch 300/1000, Loss: 0.6691\n",
            "Epoch 300/1000, Loss: 0.6691\n",
            "Epoch 400/1000, Loss: 0.6727\n",
            "Epoch 400/1000, Loss: 0.6728\n",
            "Epoch 400/1000, Loss: 0.6728\n",
            "Epoch 400/1000, Loss: 0.6728\n",
            "Epoch 400/1000, Loss: 0.6728\n",
            "Epoch 400/1000, Loss: 0.6728\n",
            "Epoch 400/1000, Loss: 0.6727\n",
            "Epoch 400/1000, Loss: 0.6727\n",
            "Epoch 400/1000, Loss: 0.6727\n",
            "Epoch 400/1000, Loss: 0.6727\n",
            "Epoch 400/1000, Loss: 0.6727\n",
            "Epoch 400/1000, Loss: 0.6727\n",
            "Epoch 400/1000, Loss: 0.6727\n",
            "Epoch 400/1000, Loss: 0.6727\n",
            "Epoch 400/1000, Loss: 0.6728\n",
            "Epoch 500/1000, Loss: 0.6766\n",
            "Epoch 500/1000, Loss: 0.6766\n",
            "Epoch 500/1000, Loss: 0.6765\n",
            "Epoch 500/1000, Loss: 0.6765\n",
            "Epoch 500/1000, Loss: 0.6766\n",
            "Epoch 500/1000, Loss: 0.6766\n",
            "Epoch 500/1000, Loss: 0.6765\n",
            "Epoch 500/1000, Loss: 0.6765\n",
            "Epoch 500/1000, Loss: 0.6766\n",
            "Epoch 500/1000, Loss: 0.6765\n",
            "Epoch 500/1000, Loss: 0.6766\n",
            "Epoch 500/1000, Loss: 0.6766\n",
            "Epoch 500/1000, Loss: 0.6766\n",
            "Epoch 500/1000, Loss: 0.6766\n",
            "Epoch 500/1000, Loss: 0.6765\n",
            "Epoch 600/1000, Loss: 0.6805\n",
            "Epoch 600/1000, Loss: 0.6805\n",
            "Epoch 600/1000, Loss: 0.6805\n",
            "Epoch 600/1000, Loss: 0.6805\n",
            "Epoch 600/1000, Loss: 0.6805\n",
            "Epoch 600/1000, Loss: 0.6805\n",
            "Epoch 600/1000, Loss: 0.6805\n",
            "Epoch 600/1000, Loss: 0.6805\n",
            "Epoch 600/1000, Loss: 0.6805\n",
            "Epoch 600/1000, Loss: 0.6806\n",
            "Epoch 600/1000, Loss: 0.6806\n",
            "Epoch 600/1000, Loss: 0.6805\n",
            "Epoch 600/1000, Loss: 0.6805\n",
            "Epoch 600/1000, Loss: 0.6805\n",
            "Epoch 600/1000, Loss: 0.6806\n",
            "Epoch 700/1000, Loss: 0.6849\n",
            "Epoch 700/1000, Loss: 0.6849\n",
            "Epoch 700/1000, Loss: 0.6849\n",
            "Epoch 700/1000, Loss: 0.6849\n",
            "Epoch 700/1000, Loss: 0.6849\n",
            "Epoch 700/1000, Loss: 0.6849\n",
            "Epoch 700/1000, Loss: 0.6849\n",
            "Epoch 700/1000, Loss: 0.6849\n",
            "Epoch 700/1000, Loss: 0.6849\n",
            "Epoch 700/1000, Loss: 0.6849\n",
            "Epoch 700/1000, Loss: 0.6849\n",
            "Epoch 700/1000, Loss: 0.6849\n",
            "Epoch 700/1000, Loss: 0.6849\n",
            "Epoch 700/1000, Loss: 0.6849\n",
            "Epoch 700/1000, Loss: 0.6849\n",
            "Epoch 800/1000, Loss: 0.6892\n",
            "Epoch 800/1000, Loss: 0.6892\n",
            "Epoch 800/1000, Loss: 0.6892\n",
            "Epoch 800/1000, Loss: 0.6892\n",
            "Epoch 800/1000, Loss: 0.6892\n",
            "Epoch 800/1000, Loss: 0.6892\n",
            "Epoch 800/1000, Loss: 0.6891\n",
            "Epoch 800/1000, Loss: 0.6891\n",
            "Epoch 800/1000, Loss: 0.6891\n",
            "Epoch 800/1000, Loss: 0.6891\n",
            "Epoch 800/1000, Loss: 0.6891\n",
            "Epoch 800/1000, Loss: 0.6891\n",
            "Epoch 800/1000, Loss: 0.6892\n",
            "Epoch 800/1000, Loss: 0.6892\n",
            "Epoch 800/1000, Loss: 0.6892\n",
            "Epoch 900/1000, Loss: 0.6939\n",
            "Epoch 900/1000, Loss: 0.6938\n",
            "Epoch 900/1000, Loss: 0.6939\n",
            "Epoch 900/1000, Loss: 0.6939\n",
            "Epoch 900/1000, Loss: 0.6939\n",
            "Epoch 900/1000, Loss: 0.6939\n",
            "Epoch 900/1000, Loss: 0.6939\n",
            "Epoch 900/1000, Loss: 0.6939\n",
            "Epoch 900/1000, Loss: 0.6939\n",
            "Epoch 900/1000, Loss: 0.6939\n",
            "Epoch 900/1000, Loss: 0.6939\n",
            "Epoch 900/1000, Loss: 0.6939\n",
            "Epoch 900/1000, Loss: 0.6939\n",
            "Epoch 900/1000, Loss: 0.6939\n",
            "Epoch 900/1000, Loss: 0.6939\n",
            "Epoch 1000/1000, Loss: 0.6985\n",
            "Epoch 1000/1000, Loss: 0.6985\n",
            "Epoch 1000/1000, Loss: 0.6985\n",
            "Epoch 1000/1000, Loss: 0.6985\n",
            "Epoch 1000/1000, Loss: 0.6985\n",
            "Epoch 1000/1000, Loss: 0.6985\n",
            "Epoch 1000/1000, Loss: 0.6985\n",
            "Epoch 1000/1000, Loss: 0.6985\n",
            "Epoch 1000/1000, Loss: 0.6985\n",
            "Epoch 1000/1000, Loss: 0.6985\n",
            "Epoch 1000/1000, Loss: 0.6986\n",
            "Epoch 1000/1000, Loss: 0.6986\n",
            "Epoch 1000/1000, Loss: 0.6986\n",
            "Epoch 1000/1000, Loss: 0.6986\n",
            "Epoch 1000/1000, Loss: 0.6986\n"
          ]
        }
      ],
      "source": [
        "# You are encouraged to experiment with different architectures and learning rates to see how they affect the performance of the model.\n",
        "nn_network = NeuralNetwork(input_size=X_train.shape[1], hidden_size1=8, hidden_size2=4, output_size=1, learning_rate=0.007, epochs=1000, batch_size=32)\n",
        "nn_network.fit(X_train, y_train)"
      ]
    },
    {
      "cell_type": "code",
      "execution_count": null,
      "metadata": {
        "colab": {
          "base_uri": "https://localhost:8080/"
        },
        "id": "vjsW0iYKLUOW",
        "outputId": "c0ec48f2-5583-4029-9ae5-cf0b4c399a53"
      },
      "outputs": [
        {
          "output_type": "stream",
          "name": "stdout",
          "text": [
            "[1 1 1 1 1 0 1 1 1 1 1 1 1 1 1 0 1 1 1 1 1 1 0 1 1 1 1 0 1 0 1 1 1 1 1 1 1\n",
            " 1 1 1 1 0 1 1 1 1 1 1 1 1 0 0 1 0 1 1 1 0 1 1 1 1 1 1 1 1 0 0 1 1 0 1 1 1\n",
            " 1 1 1 1 1 1 0 1 0 1 0 1 0 1 1 1 1 1 1 1 1 1 0 0 1 0 0 1 1 1 1 1 1 1 1 1 1\n",
            " 1 0 0]\n",
            "[1 0 0 1 1 0 0 0 1 1 1 0 1 0 1 0 1 1 1 0 0 1 0 1 1 1 1 1 1 0 1 1 1 1 1 1 0\n",
            " 1 0 1 1 0 1 1 1 1 1 1 1 1 0 0 1 1 1 1 1 0 0 1 1 0 0 1 1 1 0 0 1 1 0 0 1 0\n",
            " 1 1 1 0 1 1 0 1 0 0 0 0 0 0 1 1 1 1 1 1 1 1 0 0 1 0 0 1 0 0 1 1 1 0 1 1 0\n",
            " 1 1 0]\n",
            "The accuracy is 0.7719\n"
          ]
        }
      ],
      "source": [
        "# Code to check accuracy of your implementation\n",
        "predictions = nn_network.predict(X_test)\n",
        "print(predictions.reshape(-1))\n",
        "print(y_test)\n",
        "accuracy = accuracy_score(y_test, predictions)\n",
        "\n",
        "print(f'The accuracy is {accuracy:.4f}')"
      ]
    },
    {
      "cell_type": "markdown",
      "source": [
        "hence greater than 0.75 achieved."
      ],
      "metadata": {
        "id": "tgpOEF9FWENb"
      }
    },
    {
      "cell_type": "markdown",
      "metadata": {
        "id": "d_Z-OixglkZh"
      },
      "source": [
        "## Experimenting with hyperparameters tuning used earlier to improve accuracy"
      ]
    },
    {
      "cell_type": "code",
      "execution_count": 22,
      "metadata": {
        "id": "WCfoVKV7S3Vu",
        "colab": {
          "base_uri": "https://localhost:8080/"
        },
        "outputId": "4359a3e7-82c7-4065-eef9-bc3670358662"
      },
      "outputs": [
        {
          "output_type": "stream",
          "name": "stderr",
          "text": [
            "Hyperparameter Tuning:   2%|▏         | 1/48 [00:17<13:42, 17.51s/iteration]"
          ]
        },
        {
          "output_type": "stream",
          "name": "stdout",
          "text": [
            "For Epochs: 500, Learning Rate: 0.001, Batch Size: 16, the corresponding Loss is 0.6778 and Accuracy is: 0.8070\n"
          ]
        },
        {
          "output_type": "stream",
          "name": "stderr",
          "text": [
            "\rHyperparameter Tuning:   4%|▍         | 2/48 [00:29<10:50, 14.15s/iteration]"
          ]
        },
        {
          "output_type": "stream",
          "name": "stdout",
          "text": [
            "For Epochs: 500, Learning Rate: 0.001, Batch Size: 32, the corresponding Loss is 0.6771 and Accuracy is: 0.7982\n"
          ]
        },
        {
          "output_type": "stream",
          "name": "stderr",
          "text": [
            "\rHyperparameter Tuning:   6%|▋         | 3/48 [00:34<07:22,  9.84s/iteration]"
          ]
        },
        {
          "output_type": "stream",
          "name": "stdout",
          "text": [
            "For Epochs: 500, Learning Rate: 0.001, Batch Size: 64, the corresponding Loss is 0.6749 and Accuracy is: 0.7456\n"
          ]
        },
        {
          "output_type": "stream",
          "name": "stderr",
          "text": [
            "\rHyperparameter Tuning:   8%|▊         | 4/48 [00:52<09:38, 13.15s/iteration]"
          ]
        },
        {
          "output_type": "stream",
          "name": "stdout",
          "text": [
            "For Epochs: 500, Learning Rate: 0.005, Batch Size: 16, the corresponding Loss is 0.6598 and Accuracy is: 0.6228\n"
          ]
        },
        {
          "output_type": "stream",
          "name": "stderr",
          "text": [
            "\rHyperparameter Tuning:  10%|█         | 5/48 [01:01<08:21, 11.65s/iteration]"
          ]
        },
        {
          "output_type": "stream",
          "name": "stdout",
          "text": [
            "For Epochs: 500, Learning Rate: 0.005, Batch Size: 32, the corresponding Loss is 0.7527 and Accuracy is: 0.8596\n"
          ]
        },
        {
          "output_type": "stream",
          "name": "stderr",
          "text": [
            "\rHyperparameter Tuning:  12%|█▎        | 6/48 [01:06<06:41,  9.56s/iteration]"
          ]
        },
        {
          "output_type": "stream",
          "name": "stdout",
          "text": [
            "For Epochs: 500, Learning Rate: 0.005, Batch Size: 64, the corresponding Loss is 0.6598 and Accuracy is: 0.6228\n"
          ]
        },
        {
          "output_type": "stream",
          "name": "stderr",
          "text": [
            "\rHyperparameter Tuning:  15%|█▍        | 7/48 [01:31<09:51, 14.42s/iteration]"
          ]
        },
        {
          "output_type": "stream",
          "name": "stdout",
          "text": [
            "For Epochs: 500, Learning Rate: 0.01, Batch Size: 16, the corresponding Loss is 0.7124 and Accuracy is: 0.8246\n"
          ]
        },
        {
          "output_type": "stream",
          "name": "stderr",
          "text": [
            "\rHyperparameter Tuning:  17%|█▋        | 8/48 [01:42<08:58, 13.46s/iteration]"
          ]
        },
        {
          "output_type": "stream",
          "name": "stdout",
          "text": [
            "For Epochs: 500, Learning Rate: 0.01, Batch Size: 32, the corresponding Loss is 0.6757 and Accuracy is: 0.7018\n"
          ]
        },
        {
          "output_type": "stream",
          "name": "stderr",
          "text": [
            "\rHyperparameter Tuning:  19%|█▉        | 9/48 [01:48<07:07, 10.97s/iteration]"
          ]
        },
        {
          "output_type": "stream",
          "name": "stdout",
          "text": [
            "For Epochs: 500, Learning Rate: 0.01, Batch Size: 64, the corresponding Loss is 0.6744 and Accuracy is: 0.7456\n"
          ]
        },
        {
          "output_type": "stream",
          "name": "stderr",
          "text": [
            "\rHyperparameter Tuning:  21%|██        | 10/48 [02:09<09:03, 14.31s/iteration]"
          ]
        },
        {
          "output_type": "stream",
          "name": "stdout",
          "text": [
            "For Epochs: 500, Learning Rate: 0.1, Batch Size: 16, the corresponding Loss is 0.9729 and Accuracy is: 0.8333\n"
          ]
        },
        {
          "output_type": "stream",
          "name": "stderr",
          "text": [
            "\rHyperparameter Tuning:  23%|██▎       | 11/48 [02:19<07:55, 12.85s/iteration]"
          ]
        },
        {
          "output_type": "stream",
          "name": "stdout",
          "text": [
            "For Epochs: 500, Learning Rate: 0.1, Batch Size: 32, the corresponding Loss is 0.9513 and Accuracy is: 0.7544\n"
          ]
        },
        {
          "output_type": "stream",
          "name": "stderr",
          "text": [
            "\rHyperparameter Tuning:  25%|██▌       | 12/48 [02:24<06:17, 10.48s/iteration]"
          ]
        },
        {
          "output_type": "stream",
          "name": "stdout",
          "text": [
            "For Epochs: 500, Learning Rate: 0.1, Batch Size: 64, the corresponding Loss is 1.0138 and Accuracy is: 0.8421\n"
          ]
        },
        {
          "output_type": "stream",
          "name": "stderr",
          "text": [
            "\rHyperparameter Tuning:  27%|██▋       | 13/48 [02:59<10:32, 18.07s/iteration]"
          ]
        },
        {
          "output_type": "stream",
          "name": "stdout",
          "text": [
            "For Epochs: 1000, Learning Rate: 0.001, Batch Size: 16, the corresponding Loss is 0.6732 and Accuracy is: 0.7105\n"
          ]
        },
        {
          "output_type": "stream",
          "name": "stderr",
          "text": [
            "\rHyperparameter Tuning:  29%|██▉       | 14/48 [03:19<10:25, 18.41s/iteration]"
          ]
        },
        {
          "output_type": "stream",
          "name": "stdout",
          "text": [
            "For Epochs: 1000, Learning Rate: 0.001, Batch Size: 32, the corresponding Loss is 0.6641 and Accuracy is: 0.6579\n"
          ]
        },
        {
          "output_type": "stream",
          "name": "stderr",
          "text": [
            "\rHyperparameter Tuning:  31%|███▏      | 15/48 [03:29<08:42, 15.85s/iteration]"
          ]
        },
        {
          "output_type": "stream",
          "name": "stdout",
          "text": [
            "For Epochs: 1000, Learning Rate: 0.001, Batch Size: 64, the corresponding Loss is 0.6665 and Accuracy is: 0.6316\n"
          ]
        },
        {
          "output_type": "stream",
          "name": "stderr",
          "text": [
            "\rHyperparameter Tuning:  33%|███▎      | 16/48 [04:05<11:42, 21.96s/iteration]"
          ]
        },
        {
          "output_type": "stream",
          "name": "stdout",
          "text": [
            "For Epochs: 1000, Learning Rate: 0.005, Batch Size: 16, the corresponding Loss is 0.9854 and Accuracy is: 0.8772\n"
          ]
        },
        {
          "output_type": "stream",
          "name": "stderr",
          "text": [
            "\rHyperparameter Tuning:  35%|███▌      | 17/48 [04:23<10:48, 20.91s/iteration]"
          ]
        },
        {
          "output_type": "stream",
          "name": "stdout",
          "text": [
            "For Epochs: 1000, Learning Rate: 0.005, Batch Size: 32, the corresponding Loss is 0.7175 and Accuracy is: 0.8684\n"
          ]
        },
        {
          "output_type": "stream",
          "name": "stderr",
          "text": [
            "\rHyperparameter Tuning:  38%|███▊      | 18/48 [04:33<08:51, 17.70s/iteration]"
          ]
        },
        {
          "output_type": "stream",
          "name": "stdout",
          "text": [
            "For Epochs: 1000, Learning Rate: 0.005, Batch Size: 64, the corresponding Loss is 0.6801 and Accuracy is: 0.7807\n"
          ]
        },
        {
          "output_type": "stream",
          "name": "stderr",
          "text": [
            "\rHyperparameter Tuning:  40%|███▉      | 19/48 [05:10<11:15, 23.30s/iteration]"
          ]
        },
        {
          "output_type": "stream",
          "name": "stdout",
          "text": [
            "For Epochs: 1000, Learning Rate: 0.01, Batch Size: 16, the corresponding Loss is 0.9894 and Accuracy is: 0.9298\n"
          ]
        },
        {
          "output_type": "stream",
          "name": "stderr",
          "text": [
            "\rHyperparameter Tuning:  42%|████▏     | 20/48 [05:28<10:13, 21.90s/iteration]"
          ]
        },
        {
          "output_type": "stream",
          "name": "stdout",
          "text": [
            "For Epochs: 1000, Learning Rate: 0.01, Batch Size: 32, the corresponding Loss is 0.6597 and Accuracy is: 0.6228\n"
          ]
        },
        {
          "output_type": "stream",
          "name": "stderr",
          "text": [
            "\rHyperparameter Tuning:  44%|████▍     | 21/48 [05:39<08:18, 18.45s/iteration]"
          ]
        },
        {
          "output_type": "stream",
          "name": "stdout",
          "text": [
            "For Epochs: 1000, Learning Rate: 0.01, Batch Size: 64, the corresponding Loss is 0.7158 and Accuracy is: 0.8158\n"
          ]
        },
        {
          "output_type": "stream",
          "name": "stderr",
          "text": [
            "\rHyperparameter Tuning:  46%|████▌     | 22/48 [06:15<10:15, 23.66s/iteration]"
          ]
        },
        {
          "output_type": "stream",
          "name": "stdout",
          "text": [
            "For Epochs: 1000, Learning Rate: 0.1, Batch Size: 16, the corresponding Loss is 0.8039 and Accuracy is: 0.6930\n"
          ]
        },
        {
          "output_type": "stream",
          "name": "stderr",
          "text": [
            "\rHyperparameter Tuning:  48%|████▊     | 23/48 [06:34<09:21, 22.44s/iteration]"
          ]
        },
        {
          "output_type": "stream",
          "name": "stdout",
          "text": [
            "For Epochs: 1000, Learning Rate: 0.1, Batch Size: 32, the corresponding Loss is 1.2117 and Accuracy is: 0.8684\n"
          ]
        },
        {
          "output_type": "stream",
          "name": "stderr",
          "text": [
            "\rHyperparameter Tuning:  50%|█████     | 24/48 [06:45<07:33, 18.91s/iteration]"
          ]
        },
        {
          "output_type": "stream",
          "name": "stdout",
          "text": [
            "For Epochs: 1000, Learning Rate: 0.1, Batch Size: 64, the corresponding Loss is 0.8576 and Accuracy is: 0.7982\n"
          ]
        },
        {
          "output_type": "stream",
          "name": "stderr",
          "text": [
            "\rHyperparameter Tuning:  52%|█████▏    | 25/48 [07:39<11:18, 29.50s/iteration]"
          ]
        },
        {
          "output_type": "stream",
          "name": "stdout",
          "text": [
            "For Epochs: 1500, Learning Rate: 0.001, Batch Size: 16, the corresponding Loss is 0.7662 and Accuracy is: 0.8947\n"
          ]
        },
        {
          "output_type": "stream",
          "name": "stderr",
          "text": [
            "\rHyperparameter Tuning:  54%|█████▍    | 26/48 [08:08<10:42, 29.20s/iteration]"
          ]
        },
        {
          "output_type": "stream",
          "name": "stdout",
          "text": [
            "For Epochs: 1500, Learning Rate: 0.001, Batch Size: 32, the corresponding Loss is 0.6831 and Accuracy is: 0.7368\n"
          ]
        },
        {
          "output_type": "stream",
          "name": "stderr",
          "text": [
            "\rHyperparameter Tuning:  56%|█████▋    | 27/48 [08:22<08:42, 24.87s/iteration]"
          ]
        },
        {
          "output_type": "stream",
          "name": "stdout",
          "text": [
            "For Epochs: 1500, Learning Rate: 0.001, Batch Size: 64, the corresponding Loss is 0.6703 and Accuracy is: 0.6930\n"
          ]
        },
        {
          "output_type": "stream",
          "name": "stderr",
          "text": [
            "\rHyperparameter Tuning:  58%|█████▊    | 28/48 [09:16<11:09, 33.49s/iteration]"
          ]
        },
        {
          "output_type": "stream",
          "name": "stdout",
          "text": [
            "For Epochs: 1500, Learning Rate: 0.005, Batch Size: 16, the corresponding Loss is 1.0452 and Accuracy is: 0.9298\n"
          ]
        },
        {
          "output_type": "stream",
          "name": "stderr",
          "text": [
            "\rHyperparameter Tuning:  60%|██████    | 29/48 [09:44<10:05, 31.89s/iteration]"
          ]
        },
        {
          "output_type": "stream",
          "name": "stdout",
          "text": [
            "For Epochs: 1500, Learning Rate: 0.005, Batch Size: 32, the corresponding Loss is 0.6598 and Accuracy is: 0.6228\n"
          ]
        },
        {
          "output_type": "stream",
          "name": "stderr",
          "text": [
            "\rHyperparameter Tuning:  62%|██████▎   | 30/48 [09:59<08:01, 26.73s/iteration]"
          ]
        },
        {
          "output_type": "stream",
          "name": "stdout",
          "text": [
            "For Epochs: 1500, Learning Rate: 0.005, Batch Size: 64, the corresponding Loss is 0.6764 and Accuracy is: 0.7368\n"
          ]
        },
        {
          "output_type": "stream",
          "name": "stderr",
          "text": [
            "\rHyperparameter Tuning:  65%|██████▍   | 31/48 [10:52<09:51, 34.79s/iteration]"
          ]
        },
        {
          "output_type": "stream",
          "name": "stdout",
          "text": [
            "For Epochs: 1500, Learning Rate: 0.01, Batch Size: 16, the corresponding Loss is 0.9310 and Accuracy is: 0.7982\n"
          ]
        },
        {
          "output_type": "stream",
          "name": "stderr",
          "text": [
            "\rHyperparameter Tuning:  67%|██████▋   | 32/48 [11:21<08:45, 32.86s/iteration]"
          ]
        },
        {
          "output_type": "stream",
          "name": "stdout",
          "text": [
            "For Epochs: 1500, Learning Rate: 0.01, Batch Size: 32, the corresponding Loss is 0.9938 and Accuracy is: 0.9211\n"
          ]
        },
        {
          "output_type": "stream",
          "name": "stderr",
          "text": [
            "\rHyperparameter Tuning:  69%|██████▉   | 33/48 [11:35<06:51, 27.41s/iteration]"
          ]
        },
        {
          "output_type": "stream",
          "name": "stdout",
          "text": [
            "For Epochs: 1500, Learning Rate: 0.01, Batch Size: 64, the corresponding Loss is 0.7405 and Accuracy is: 0.8246\n"
          ]
        },
        {
          "output_type": "stream",
          "name": "stderr",
          "text": [
            "\rHyperparameter Tuning:  71%|███████   | 34/48 [12:29<08:14, 35.34s/iteration]"
          ]
        },
        {
          "output_type": "stream",
          "name": "stdout",
          "text": [
            "For Epochs: 1500, Learning Rate: 0.1, Batch Size: 16, the corresponding Loss is 0.7445 and Accuracy is: 0.7281\n"
          ]
        },
        {
          "output_type": "stream",
          "name": "stderr",
          "text": [
            "\rHyperparameter Tuning:  73%|███████▎  | 35/48 [12:58<07:11, 33.22s/iteration]"
          ]
        },
        {
          "output_type": "stream",
          "name": "stdout",
          "text": [
            "For Epochs: 1500, Learning Rate: 0.1, Batch Size: 32, the corresponding Loss is 1.0723 and Accuracy is: 0.8333\n"
          ]
        },
        {
          "output_type": "stream",
          "name": "stderr",
          "text": [
            "\rHyperparameter Tuning:  75%|███████▌  | 36/48 [13:12<05:32, 27.67s/iteration]"
          ]
        },
        {
          "output_type": "stream",
          "name": "stdout",
          "text": [
            "For Epochs: 1500, Learning Rate: 0.1, Batch Size: 64, the corresponding Loss is 0.6762 and Accuracy is: 0.6140\n"
          ]
        },
        {
          "output_type": "stream",
          "name": "stderr",
          "text": [
            "\rHyperparameter Tuning:  77%|███████▋  | 37/48 [14:23<07:27, 40.65s/iteration]"
          ]
        },
        {
          "output_type": "stream",
          "name": "stdout",
          "text": [
            "For Epochs: 2000, Learning Rate: 0.001, Batch Size: 16, the corresponding Loss is 0.6674 and Accuracy is: 0.6579\n"
          ]
        },
        {
          "output_type": "stream",
          "name": "stderr",
          "text": [
            "\rHyperparameter Tuning:  79%|███████▉  | 38/48 [15:01<06:36, 39.69s/iteration]"
          ]
        },
        {
          "output_type": "stream",
          "name": "stdout",
          "text": [
            "For Epochs: 2000, Learning Rate: 0.001, Batch Size: 32, the corresponding Loss is 0.7190 and Accuracy is: 0.8947\n"
          ]
        },
        {
          "output_type": "stream",
          "name": "stderr",
          "text": [
            "\rHyperparameter Tuning:  81%|████████▏ | 39/48 [15:22<05:06, 34.11s/iteration]"
          ]
        },
        {
          "output_type": "stream",
          "name": "stdout",
          "text": [
            "For Epochs: 2000, Learning Rate: 0.001, Batch Size: 64, the corresponding Loss is 0.6652 and Accuracy is: 0.6491\n"
          ]
        },
        {
          "output_type": "stream",
          "name": "stderr",
          "text": [
            "\rHyperparameter Tuning:  83%|████████▎ | 40/48 [16:32<05:59, 44.94s/iteration]"
          ]
        },
        {
          "output_type": "stream",
          "name": "stdout",
          "text": [
            "For Epochs: 2000, Learning Rate: 0.005, Batch Size: 16, the corresponding Loss is 0.7392 and Accuracy is: 0.8070\n"
          ]
        },
        {
          "output_type": "stream",
          "name": "stderr",
          "text": [
            "\rHyperparameter Tuning:  85%|████████▌ | 41/48 [17:10<04:59, 42.83s/iteration]"
          ]
        },
        {
          "output_type": "stream",
          "name": "stdout",
          "text": [
            "For Epochs: 2000, Learning Rate: 0.005, Batch Size: 32, the corresponding Loss is 0.7342 and Accuracy is: 0.8772\n"
          ]
        },
        {
          "output_type": "stream",
          "name": "stderr",
          "text": [
            "\rHyperparameter Tuning:  88%|████████▊ | 42/48 [17:29<03:34, 35.71s/iteration]"
          ]
        },
        {
          "output_type": "stream",
          "name": "stdout",
          "text": [
            "For Epochs: 2000, Learning Rate: 0.005, Batch Size: 64, the corresponding Loss is 0.6610 and Accuracy is: 0.6228\n"
          ]
        },
        {
          "output_type": "stream",
          "name": "stderr",
          "text": [
            "\rHyperparameter Tuning:  90%|████████▉ | 43/48 [18:40<03:51, 46.33s/iteration]"
          ]
        },
        {
          "output_type": "stream",
          "name": "stdout",
          "text": [
            "For Epochs: 2000, Learning Rate: 0.01, Batch Size: 16, the corresponding Loss is 0.7230 and Accuracy is: 0.7105\n"
          ]
        },
        {
          "output_type": "stream",
          "name": "stderr",
          "text": [
            "\rHyperparameter Tuning:  92%|█████████▏| 44/48 [19:18<02:55, 43.76s/iteration]"
          ]
        },
        {
          "output_type": "stream",
          "name": "stdout",
          "text": [
            "For Epochs: 2000, Learning Rate: 0.01, Batch Size: 32, the corresponding Loss is 0.7759 and Accuracy is: 0.8596\n"
          ]
        },
        {
          "output_type": "stream",
          "name": "stderr",
          "text": [
            "\rHyperparameter Tuning:  94%|█████████▍| 45/48 [19:38<01:50, 36.70s/iteration]"
          ]
        },
        {
          "output_type": "stream",
          "name": "stdout",
          "text": [
            "For Epochs: 2000, Learning Rate: 0.01, Batch Size: 64, the corresponding Loss is 0.7814 and Accuracy is: 0.8772\n"
          ]
        },
        {
          "output_type": "stream",
          "name": "stderr",
          "text": [
            "\rHyperparameter Tuning:  96%|█████████▌| 46/48 [20:49<01:33, 46.88s/iteration]"
          ]
        },
        {
          "output_type": "stream",
          "name": "stdout",
          "text": [
            "For Epochs: 2000, Learning Rate: 0.1, Batch Size: 16, the corresponding Loss is 1.5798 and Accuracy is: 0.9123\n"
          ]
        },
        {
          "output_type": "stream",
          "name": "stderr",
          "text": [
            "\rHyperparameter Tuning:  98%|█████████▊| 47/48 [21:27<00:44, 44.18s/iteration]"
          ]
        },
        {
          "output_type": "stream",
          "name": "stdout",
          "text": [
            "For Epochs: 2000, Learning Rate: 0.1, Batch Size: 32, the corresponding Loss is 1.5078 and Accuracy is: 0.9211\n"
          ]
        },
        {
          "output_type": "stream",
          "name": "stderr",
          "text": [
            "Hyperparameter Tuning: 100%|██████████| 48/48 [21:46<00:00, 27.22s/iteration]"
          ]
        },
        {
          "output_type": "stream",
          "name": "stdout",
          "text": [
            "For Epochs: 2000, Learning Rate: 0.1, Batch Size: 64, the corresponding Loss is 1.1712 and Accuracy is: 0.8684\n",
            "\n",
            "Best Accuracy Settings:\n",
            "For Epochs: 1000, Learning Rate: 0.01, and Batch Size: 16, the Best Accuracy is: 0.9298\n"
          ]
        },
        {
          "output_type": "stream",
          "name": "stderr",
          "text": [
            "\n"
          ]
        }
      ],
      "source": [
        "from sklearn.metrics import accuracy_score\n",
        "from tqdm import tqdm\n",
        "import numpy as np\n",
        "\n",
        "# List of hyperparameters to vary\n",
        "epochs_list = [500, 1000, 1500, 2000]  # Varying epochs\n",
        "learning_rates = [0.001, 0.005, 0.0100, 0.1000]  # Varying learning rates\n",
        "batches = [16, 32, 64]  # Varying batch sizes\n",
        "accuracy_results = []  # Empty list to store computed accuracies\n",
        "\n",
        "# Initialize variables\n",
        "best_accuracy = 0\n",
        "best_epochs = 0\n",
        "best_lr = 0\n",
        "best_batch = 0\n",
        "\n",
        "# Total iterations for tqdm\n",
        "total_iterations = len(epochs_list) * len(learning_rates) * len(batches)\n",
        "\n",
        "# Create a single tqdm progress bar for the entire process\n",
        "with tqdm(total=total_iterations, desc='Hyperparameter Tuning', unit='iteration') as progress_bar:\n",
        "    # Nested loops to iterate over epochs, learning rates, and batch sizes\n",
        "    for epochs in epochs_list:\n",
        "        for lr in learning_rates:\n",
        "            for batch in batches:\n",
        "                # Fit the model for each iteration\n",
        "                nn_model = NeuralNetwork(input_size=X_train.shape[1],\n",
        "                                         hidden_size1=8,\n",
        "                                         hidden_size2=4,\n",
        "                                         output_size=1,\n",
        "                                         learning_rate=lr,\n",
        "                                         epochs=epochs,\n",
        "                                         batch_size=batch)\n",
        "\n",
        "                nn_model.fit(X=X_train, y=y_train, Trigger=False)\n",
        "\n",
        "\n",
        "                # Predictions and accuracy calculation\n",
        "                predictions = nn_model.predict(X_test)\n",
        "                predictions = predictions.reshape(-1)\n",
        "                accuracy = accuracy_score(y_test, predictions)\n",
        "                loss_history = nn_model.get_loss_history()\n",
        "\n",
        "                # Store the accuracy result\n",
        "                accuracy_results.append((epochs, lr, batch, accuracy))\n",
        "\n",
        "                # Print results\n",
        "                print(f'For Epochs: {epochs}, Learning Rate: {lr}, Batch Size: {batch}, the corresponding Loss is {loss_history[-1]:.4f} and Accuracy is: {accuracy:.4f}')\n",
        "\n",
        "                # Check if this accuracy is better than previous\n",
        "                if accuracy > best_accuracy:\n",
        "                    best_accuracy = accuracy\n",
        "                    best_epochs = epochs\n",
        "                    best_lr = lr\n",
        "                    best_batch = batch\n",
        "\n",
        "                # Update tqdm progress bar\n",
        "                progress_bar.update(1)\n",
        "\n",
        "# Print the best hyper-parameters and accuracy\n",
        "print(\"\\nBest Accuracy Settings:\")\n",
        "print(f'For Epochs: {best_epochs}, Learning Rate: {best_lr}, and Batch Size: {best_batch}, the Best Accuracy is: {best_accuracy:.4f}')"
      ]
    },
    {
      "cell_type": "markdown",
      "source": [
        "End of Assignment 2"
      ],
      "metadata": {
        "id": "02VkfkxOeFae"
      }
    }
  ],
  "metadata": {
    "colab": {
      "provenance": [],
      "include_colab_link": true
    },
    "kernelspec": {
      "display_name": "Python 3",
      "name": "python3"
    },
    "language_info": {
      "codemirror_mode": {
        "name": "ipython",
        "version": 3
      },
      "file_extension": ".py",
      "mimetype": "text/x-python",
      "name": "python",
      "nbconvert_exporter": "python",
      "pygments_lexer": "ipython3",
      "version": "3.9.12"
    }
  },
  "nbformat": 4,
  "nbformat_minor": 0
}