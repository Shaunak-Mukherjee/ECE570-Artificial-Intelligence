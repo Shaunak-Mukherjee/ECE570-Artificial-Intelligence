{
  "cells": [
    {
      "cell_type": "markdown",
      "metadata": {
        "id": "view-in-github",
        "colab_type": "text"
      },
      "source": [
        "<a href=\"https://colab.research.google.com/github/Shaunak-Mukherjee/ECE570-Artificial-Intelligence/blob/main/ECE570_F2024_Assignment_04_Exercise_Shaunak_Mukherjee.ipynb\" target=\"_parent\"><img src=\"https://colab.research.google.com/assets/colab-badge.svg\" alt=\"Open In Colab\"/></a>"
      ]
    },
    {
      "cell_type": "markdown",
      "metadata": {
        "id": "4Z5dTMmEipjU"
      },
      "source": [
        "#ECE 57000 Assignment 4 Exercise\n",
        "\n",
        "Name: Shaunak Mukherjee"
      ]
    },
    {
      "cell_type": "markdown",
      "metadata": {
        "id": "pfcdxFawlJTP"
      },
      "source": [
        "Prepare the following package for implementation."
      ]
    },
    {
      "cell_type": "code",
      "execution_count": 55,
      "metadata": {
        "id": "GBZdpuy_pcUb"
      },
      "outputs": [],
      "source": [
        "import numpy as np\n",
        "import torch\n",
        "import torch.nn as nn\n",
        "import torch.nn.functional as F\n",
        "import math\n",
        "import matplotlib.pyplot as plt"
      ]
    },
    {
      "cell_type": "markdown",
      "metadata": {
        "id": "zB0SB2B4y5uj"
      },
      "source": [
        "#Exercise 1: Positional Encoding (20 points)"
      ]
    },
    {
      "cell_type": "markdown",
      "metadata": {
        "id": "juee9ETFlbF3"
      },
      "source": [
        "##Task 1. Implement Positional Encoding (15 points)\n",
        "\n",
        "Transformers process input sequences in parallel without an inherent understanding of word position, unlike recurrent neural networks (RNNs) that process sequences step by step. Positional encoding helps transformers gain this positional information by adding a vector to each word embedding that contains information about the word's position in the sequence. Specifically, positional encoding is a deterministic, fixed representation based on sine and cosine functions, and the formula for positional encoding is given as:\n",
        "$$\n",
        "\\mathrm{PE}(p o s, 2 i)=\\sin \\left(\\frac{p o s}{10000^{2 i / d_{\\text {model }}}}\\right),\n",
        "$$\n",
        "$$\n",
        "\\mathrm{PE}(p o s, 2 i+1)=\\cos \\left(\\frac{p o s}{10000^{2 i / d_{\\text {model }}}}\\right),\n",
        "$$\n",
        "where $pos$ is the position, $i$ is the dimension and $d_{\\text{model}}$ is the dimension of the model's embeddings.\n",
        "\n",
        "In practice, the positional encodings is added to the word embeddings, which is done by first creating a tensor of shape (1, sqeuence_length, d_model) and then adding it to the embeddings. Therefore, each dimension of the positional encoding corresponds to a sinusoid.\n",
        "\n",
        "If implemented correctly, the output should be like:\n",
        "\n",
        "Word Embeddings with Positional Encoding:\n",
        "\n",
        " tensor([[ 1.4000,  1.0479,  0.2396, -0.4558, -0.5485,  0.0267,  0.8648,  1.3756,\n",
        "          1.1994,  0.4603],\n",
        "        [ 1.4000,  1.0479,  0.2396, -0.4558, -0.5485,  0.0267,  0.8648,  1.3756,\n",
        "          1.1994,  0.4603],\n",
        "        [ 1.4000,  1.0479,  0.2396, -0.4558, -0.5485,  0.0267,  0.8648,  1.3756,\n",
        "          1.1994,  0.4603]], dtype=torch.float64)"
      ]
    },
    {
      "cell_type": "code",
      "execution_count": 56,
      "metadata": {
        "id": "1JEqA3WTjdvl",
        "colab": {
          "base_uri": "https://localhost:8080/"
        },
        "outputId": "0bc828c2-f887-49ea-9d66-13b65ff1a438"
      },
      "outputs": [
        {
          "output_type": "stream",
          "name": "stdout",
          "text": [
            "Word Embeddings with Positional Encoding:\n",
            " tensor([[ 1.4000,  1.0479,  0.2396, -0.4558, -0.5485,  0.0267,  0.8648,  1.3756,\n",
            "          1.1994,  0.4603],\n",
            "        [ 1.4000,  1.0479,  0.2396, -0.4558, -0.5485,  0.0267,  0.8648,  1.3756,\n",
            "          1.1994,  0.4603],\n",
            "        [ 1.4000,  1.0479,  0.2396, -0.4558, -0.5485,  0.0267,  0.8648,  1.3756,\n",
            "          1.1994,  0.4603]], dtype=torch.float64)\n"
          ]
        }
      ],
      "source": [
        "class PositionalEncoding:\n",
        "    def __init__(self, d_model, max_len):\n",
        "        self.d_model = d_model\n",
        "        self.max_len = max_len\n",
        "        self.positional_encoding = self._get_positional_encoding()\n",
        "\n",
        "    def _get_positional_encoding(self):\n",
        "        \"\"\"\n",
        "        Generate a matrix where each row corresponds to the positional encoding for a position.\n",
        "        \"\"\"\n",
        "        # <YOUR CODE HERE>\n",
        "\n",
        "        # Initialize positional encoding matrix\n",
        "        positional_encoding = torch.zeros(self.max_len, self.d_model, dtype=torch.float64)\n",
        "\n",
        "        # Loop over each position\n",
        "        for pos in range(self.max_len):\n",
        "            # Loop over each dimension\n",
        "            for i in range(0, self.d_model, 2):\n",
        "                # Calculate PE(pos, 2i) and PE(pos, 2i+1)\n",
        "                positional_encoding[pos, i] = math.sin(pos / (10000 ** (i / self.d_model)))\n",
        "                if i + 1 < self.d_model:\n",
        "                    positional_encoding[pos, i + 1] = math.cos(pos / (10000 ** (i / self.d_model)))\n",
        "\n",
        "        return positional_encoding.unsqueeze(0)\n",
        "\n",
        "        # <END YOUR CODE>\n",
        "\n",
        "    def get_encoding(self):\n",
        "        \"\"\"\n",
        "        Returns the positional encoding matrix.\n",
        "        \"\"\"\n",
        "        return self.positional_encoding\n",
        "\n",
        "def add_positional_encoding(word_embeddings, positional_encodings):\n",
        "    \"\"\"\n",
        "    Add positional encoding to word embeddings.\n",
        "\n",
        "    Parameters:\n",
        "    - word_embeddings: (batch_size, seq_len, d_model) input embeddings\n",
        "    - positional_encodings: (seq_len, d_model) precomputed positional encodings\n",
        "\n",
        "    Returns:\n",
        "    - embeddings with positional encodings added.\n",
        "    \"\"\"\n",
        "    # <YOUR CODE HERE>\n",
        "\n",
        "    word_embeddings = word_embeddings.to(torch.float64)\n",
        "    pos_enc = positional_encodings[:, :word_embeddings.size(1), :]\n",
        "    return word_embeddings + pos_enc\n",
        "\n",
        "    # <END YOUR CODE>\n",
        "\n",
        "# Test positional encoding on a sample embedding\n",
        "\n",
        "batch_size = 3\n",
        "seq_len = 10\n",
        "d_model = 128\n",
        "word_embeddings = torch.arange(1,129).repeat(batch_size, seq_len, 1).float()\n",
        "word_embeddings *= 0.1\n",
        "\n",
        "# Create Positional Encoding instance\n",
        "pos_enc = PositionalEncoding(d_model, seq_len)\n",
        "\n",
        "# Get positional encoding\n",
        "positional_encodings = pos_enc.get_encoding()\n",
        "\n",
        "# Add positional encodings to word embeddings\n",
        "encoded_embeddings = add_positional_encoding(word_embeddings, positional_encodings)\n",
        "\n",
        "print(\"Word Embeddings with Positional Encoding:\\n\", encoded_embeddings[:,:,3])"
      ]
    },
    {
      "cell_type": "markdown",
      "metadata": {
        "id": "-MNoM7wNuwew"
      },
      "source": [
        "## Task 2: Visualize Positional Encoding (5 points)\n",
        "\n",
        "Generate and visualize the positional encodings using the positional_encoding function. You will use a heatmap to visualize how different positions and dimensions are represented by the encoding.\n",
        "\n"
      ]
    },
    {
      "cell_type": "code",
      "execution_count": 57,
      "metadata": {
        "id": "WCgngo3Agz0p",
        "colab": {
          "base_uri": "https://localhost:8080/",
          "height": 547
        },
        "outputId": "d805390c-39f7-4762-99d8-8e6a5efc8a5b"
      },
      "outputs": [
        {
          "output_type": "display_data",
          "data": {
            "text/plain": [
              "<Figure size 1000x600 with 2 Axes>"
            ],
            "image/png": "[encoded data removed]"
          },
          "metadata": {}
        }
      ],
      "source": [
        "def visualize_positional_encoding(PE):\n",
        "    plt.figure(figsize=(10, 6))\n",
        "    plt.imshow(PE, aspect='auto', cmap='viridis')\n",
        "    plt.colorbar(label=\"Encoding values\")\n",
        "    plt.xlabel(\"Embedding Dimension\")\n",
        "    plt.ylabel(\"Position in Sequence\")\n",
        "    plt.show()\n",
        "\n",
        "# Visualize for a sequence of length 64 and embedding size 32\n",
        "# <YOUR CODE HERE>\n",
        "\n",
        "seq_len = 64\n",
        "d_model = 32\n",
        "\n",
        "# PositionalEncoding instance\n",
        "pos_enc = PositionalEncoding(d_model, seq_len)\n",
        "\n",
        "# Positional encoding matrix\n",
        "positional_encoding_matrix = pos_enc.get_encoding().squeeze(0).numpy()\n",
        "\n",
        "# Visualize\n",
        "visualize_positional_encoding(positional_encoding_matrix)\n",
        "\n",
        "# <END YOUR CODE>"
      ]
    },
    {
      "cell_type": "markdown",
      "metadata": {
        "id": "WbJLiwLNnxwS"
      },
      "source": [
        "#Exercise 2: Attention Score Function (30 points)"
      ]
    },
    {
      "cell_type": "markdown",
      "metadata": {
        "id": "DoXzr6Kgvzls"
      },
      "source": [
        "##Task 1. Implement Scaled Dot-Product Attention (20 points)\n",
        "\n",
        "In this task, you will implement a function that computes scaled dot-product attention and use it to create a simple attention-based layer. The scaled dot-product attention computes the attention score by taking the dot product of queries $Q$ and keys $K$, scaling by the square root of the key dimension $d_k$, and applying a softmax to compute attention weights. These weights are then used to compute the weighted sum of the values $V$:\n",
        "$$\n",
        "\\operatorname{A}(Q, K, V)=\\operatorname{softmax}\\left(\\frac{Q K^T}{\\sqrt{d_k}}\\right) V,\n",
        "$$\n",
        "where $Q, K \\in \\mathbb{R}^{L \\times d_k}$ and $V \\in \\mathbb{R}^{L \\times d_v}$. Notice that the softmax function is performed column-wise, and the output  of attention should be a matrix $A \\in \\mathbb{R}^{L \\times d_v}$.\n",
        "\n",
        "Furthermore, you will implement a batched version which takes into account several sequences at the same time, such that $Q, K \\in \\mathbb{R}^{N \\times L \\times d_k}$ and $V \\in \\mathbb{R}^{N \\times L \\times d_v}$ with $N$ the batch size. To do this, we recommend that you use `torch.bmm` for batched version of matrix multiplication for clarity.\n",
        "\n",
        "If implemented correctly, the output should be like:\n",
        "\n",
        "Attention output Shape: torch.Size([20, 5, 64])\n",
        "\n",
        "Attention Weights Shape: torch.Size([20, 5, 5])\n",
        "\n",
        "Is the implementation close to PyTorch implementation? True\n"
      ]
    },
    {
      "cell_type": "code",
      "execution_count": 58,
      "metadata": {
        "id": "4qkQPFNFrkQn",
        "colab": {
          "base_uri": "https://localhost:8080/"
        },
        "outputId": "e60dce52-31b4-4975-90eb-099cefffc70c"
      },
      "outputs": [
        {
          "output_type": "stream",
          "name": "stdout",
          "text": [
            "Attention Output Shape: torch.Size([20, 5, 64])\n",
            "Attention Weights Shape: torch.Size([20, 5, 5])\n",
            "Is the implementation close to PyTorch implementation? True\n"
          ]
        }
      ],
      "source": [
        "def att_score(Q, K, V):\n",
        "    \"\"\"\n",
        "    Computes scaled dot-product attention.\n",
        "\n",
        "    Parameters:\n",
        "    Q (torch.Tensor): Query matrix of shape (batch_size, num_heads, seq_len, d_k)\n",
        "    K (torch.Tensor): Key matrix of shape (batch_size, num_heads, seq_len, d_k)\n",
        "    V (torch.Tensor): Value matrix of shape (batch_size, num_heads, seq_len, d_v)\n",
        "    mask (torch.Tensor): Optional attention mask of shape (batch_size, 1, 1, seq_len)\n",
        "\n",
        "    Returns:\n",
        "    torch.Tensor: The attention output of shape (batch_size, num_heads, seq_len, d_v)\n",
        "    \"\"\"\n",
        "    d_k = Q.size(-1)\n",
        "    # <YOUR CODE HERE>\n",
        "\n",
        "    # Compute QK^T\n",
        "    scores = torch.bmm(Q, K.transpose(-2, -1))\n",
        "    scores = scores / torch.sqrt(torch.tensor(d_k, dtype=torch.float32))\n",
        "\n",
        "    # Apply softmax to get attention weights\n",
        "    attention_weights = F.softmax(scores, dim=-1)\n",
        "\n",
        "    #Compute the weighted sum of values\n",
        "    attention_output = torch.bmm(attention_weights, V)\n",
        "\n",
        "    return attention_output, attention_weights\n",
        "\n",
        "    # <END YOUR CODE>\n",
        "\n",
        "# Test the attention function with some random values\n",
        "\n",
        "batch_size = 20\n",
        "seq_len = 5\n",
        "d_k = 512\n",
        "d_v = 64\n",
        "\n",
        "Q = torch.rand(batch_size, seq_len, d_k)\n",
        "K = torch.rand(batch_size, seq_len, d_k)\n",
        "V = torch.rand(batch_size, seq_len, d_v)\n",
        "\n",
        "attention_output, attention_weights = att_score(Q, K, V)\n",
        "attention_output_ref = F.scaled_dot_product_attention(Q, K, V)\n",
        "\n",
        "print(f\"Attention Output Shape:\", attention_output.shape)\n",
        "print(f\"Attention Weights Shape:\", attention_weights.shape)\n",
        "\n",
        "print(f\"Is the implementation close to PyTorch implementation? \" f'{torch.allclose(attention_output,attention_output_ref, atol = 1e-3)}')"
      ]
    },
    {
      "cell_type": "markdown",
      "metadata": {
        "id": "ScdFiFz5zsZJ"
      },
      "source": [
        "##Task 2. Masking Mechanism (10 points)\n",
        "\n",
        "In certain scenarios, we need to prevent the model from \"seeing\" future tokens, which ensures that the predictions are only based on the previous tokens in the sequence. For instance, When predicting the next word in a sequence, we don't want the model to attend to future words, as it would give the model access to information it shouldn't have.\n",
        "\n",
        "In this task, you will implement and test a lower-triangular mask, which masks out upper-triangular entries of the score matrix. Notice that the lower-triangular mask is applied before the softmax function, i.e., on $\\left(\\frac{Q K^T}{\\sqrt{d_k}}\\right)$. Accordingly, you will need to modify the `attention_score` function in task 1 to take into account such change.\n",
        "\n",
        "Hint: you may use the `masked_fill` function to mask out lower-triangular entries. Try to use a boolean mask in the implementation.\n",
        "\n",
        "If implemented correctly, the output should be like:\n",
        "\n",
        "Is the implementation close to PyTorch implementation?: True\n"
      ]
    },
    {
      "cell_type": "code",
      "execution_count": 59,
      "metadata": {
        "id": "CzuJt6fg05qq",
        "colab": {
          "base_uri": "https://localhost:8080/"
        },
        "outputId": "b77844ed-fdc7-46a5-ff30-54579e4614a0"
      },
      "outputs": [
        {
          "output_type": "stream",
          "name": "stdout",
          "text": [
            "Is the implementation close to PyTorch implementation? True\n"
          ]
        }
      ],
      "source": [
        "def create_mask(seq_len):\n",
        "  # <YOUR CODE HERE>\n",
        "\n",
        "    mask = torch.tril(torch.ones(seq_len, seq_len)).bool()\n",
        "    return mask\n",
        "\n",
        "  # <END YOUR CODE>\n",
        "\n",
        "def attention_score(Q, K, V, mask=None):\n",
        "    \"\"\"\n",
        "    Computes scaled dot-product attention.\n",
        "\n",
        "    Parameters:\n",
        "    Q (torch.Tensor): Query matrix of shape (batch_size, num_heads, seq_len, d_k)\n",
        "    K (torch.Tensor): Key matrix of shape (batch_size, num_heads, seq_len, d_k)\n",
        "    V (torch.Tensor): Value matrix of shape (batch_size, num_heads, seq_len, d_v)\n",
        "    mask (torch.Tensor): Optional attention mask of shape (batch_size, 1, 1, seq_len)\n",
        "\n",
        "    Returns:\n",
        "    torch.Tensor: The attention output of shape (batch_size, num_heads, seq_len, d_v)\n",
        "    \"\"\"\n",
        "    d_k = Q.size(-1)\n",
        "    # <YOUR CODE HERE>\n",
        "\n",
        "    # Compute QK^T\n",
        "    scores = torch.matmul(Q, K.transpose(-2, -1)) / torch.sqrt(torch.tensor(d_k, dtype=torch.float32))\n",
        "\n",
        "    # Apply mask\n",
        "    if mask is not None:\n",
        "        scores = scores.masked_fill(~mask, float('-inf'))\n",
        "\n",
        "\n",
        "    # Compute attention weights\n",
        "    attention_weights = F.softmax(scores, dim=-1)\n",
        "\n",
        "    # Compute the weighted sum of values\n",
        "    attention_output = torch.matmul(attention_weights, V)\n",
        "\n",
        "    return attention_output, attention_weights\n",
        "\n",
        "    # <END YOUR CODE>\n",
        "\n",
        "# Test the masked attention function\n",
        "\n",
        "mask = create_mask(seq_len=5)\n",
        "attention_output, attention_weights = attention_score(Q, K, V, mask=mask)\n",
        "attention_output_ref = F.scaled_dot_product_attention(Q, K, V, attn_mask=mask)\n",
        "\n",
        "print(f\"Is the implementation close to PyTorch implementation? \" f'{torch.allclose(attention_output,attention_output_ref, atol = 1e-3)}')"
      ]
    },
    {
      "cell_type": "markdown",
      "metadata": {
        "id": "-59t7pOen3gi"
      },
      "source": [
        "#Exercise 3: Self-Attention Module (20 points)\n",
        "\n"
      ]
    },
    {
      "cell_type": "markdown",
      "metadata": {
        "id": "Spld39wV7a7C"
      },
      "source": [
        "Implement a self-attention module that takes $X$ and computes $Q$, $K$ and $V$ using three linear layers. If implemented correctly, the output should be like:\n",
        "\n",
        "Output shape: torch.Size([20, 5, 64])\n",
        "\n",
        "Output shape: torch.Size([20, 5, 64])\n",
        "Are the outputs permutation-equivalent? True\n",
        "\n",
        "The following two lines should be identical:\n",
        "\n",
        "tensor([-0.0166, -0.4199, -0.5860,  0.3721,  0.5411,  0.4073,  0.8418,  0.2554,\n",
        "        -0.2712,  0.6178, -0.0495, -0.0552,  0.6988, -0.3643,  0.7696],\n",
        "       grad_fn=<SliceBackward0>)\n",
        "       \n",
        "tensor([-0.0166, -0.4199, -0.5860,  0.3721,  0.5411,  0.4073,  0.8418,  0.2554,\n",
        "        -0.2712,  0.6178, -0.0495, -0.0552,  0.6988, -0.3643,  0.7696],\n",
        "       grad_fn=<SliceBackward0>)"
      ]
    },
    {
      "cell_type": "code",
      "execution_count": 60,
      "metadata": {
        "id": "tJban62L7HBi",
        "colab": {
          "base_uri": "https://localhost:8080/"
        },
        "outputId": "6c685e6f-5e32-4b0a-a5b4-d64eeb9d68ae"
      },
      "outputs": [
        {
          "output_type": "stream",
          "name": "stdout",
          "text": [
            "Output shape: torch.Size([20, 5, 64])\n",
            "Are the outputs permutation-equivalent? True\n",
            "The following two lines should be identical:\n",
            "tensor([-0.0166, -0.4199, -0.5860,  0.3721,  0.5411,  0.4073,  0.8418,  0.2554,\n",
            "        -0.2712,  0.6178, -0.0495, -0.0552,  0.6988, -0.3643,  0.7696],\n",
            "       grad_fn=<SliceBackward0>)\n",
            "tensor([-0.0166, -0.4199, -0.5860,  0.3721,  0.5411,  0.4073,  0.8418,  0.2554,\n",
            "        -0.2712,  0.6178, -0.0495, -0.0552,  0.6988, -0.3643,  0.7696],\n",
            "       grad_fn=<SliceBackward0>)\n"
          ]
        }
      ],
      "source": [
        "class SelfAttention(torch.nn.Module):\n",
        "    def __init__(self, d_in, d_k, d_v):\n",
        "        \"\"\"\n",
        "        Initialize the Self-Attention module.\n",
        "\n",
        "        Parameters:\n",
        "        d_in (int): Dimensionality of the input sequence.\n",
        "        d_k (int): Dimensionality of the queries and keys.\n",
        "        d_v (int): Dimensionality of the values.\n",
        "        \"\"\"\n",
        "        super(SelfAttention, self).__init__()\n",
        "        # <YOUR CODE HERE>\n",
        "\n",
        "        self.d_k = d_k\n",
        "        self.linear_q = nn.Linear(d_in, d_k)\n",
        "        self.linear_k = nn.Linear(d_in, d_k)\n",
        "        self.linear_v = nn.Linear(d_in, d_v)\n",
        "\n",
        "        # <END YOUR CODE>\n",
        "\n",
        "    def forward(self, X, mask=None):\n",
        "        \"\"\"\n",
        "        Compute the self-attention for the input sequence.\n",
        "\n",
        "        Parameters:\n",
        "        X (torch.Tensor): Input sequence of shape (batch_size, seq_len, d_model)\n",
        "\n",
        "        Returns:\n",
        "        torch.Tensor: Output sequence of shape (batch_size, seq_len, d_model)\n",
        "        torch.Tensor: Attention weights of shape (batch_size, seq_len, seq_len)\n",
        "        \"\"\"\n",
        "        # <YOUR CODE HERE>\n",
        "\n",
        "        # Compute Q, K, V using linear layers\n",
        "        Q = self.linear_q(X)\n",
        "        K = self.linear_k(X)\n",
        "        V = self.linear_v(X)\n",
        "\n",
        "        # Scaled dot-product attention\n",
        "        d_k = Q.size(-1)\n",
        "        scores = torch.matmul(Q, K.transpose(-2, -1)) / torch.sqrt(torch.tensor(d_k, dtype=torch.float32))\n",
        "\n",
        "        if mask is not None:\n",
        "            scores = scores.masked_fill(~mask, float('-inf'))\n",
        "\n",
        "        # Attention weights\n",
        "        attention_weights = F.softmax(scores, dim=-1)\n",
        "\n",
        "        # Compute output\n",
        "        output = torch.matmul(attention_weights, V)\n",
        "\n",
        "        return output, attention_weights\n",
        "\n",
        "        # <END YOUR CODE>\n",
        "\n",
        "# Test the self-attention module\n",
        "\n",
        "torch.manual_seed(40)\n",
        "batch_size = 20\n",
        "seq_len = 5\n",
        "d_in = 32\n",
        "d_k = 512\n",
        "d_v = 64\n",
        "\n",
        "X = torch.ones(batch_size, seq_len, d_in)\n",
        "self_attention = SelfAttention(d_in, d_k, d_v)\n",
        "output, _ = self_attention(X)\n",
        "\n",
        "print(\"Output shape:\", output.shape)\n",
        "\n",
        "# Check the permutation-equivalent property of self-attention\n",
        "perm = torch.randperm(seq_len)\n",
        "\n",
        "permuted_X = X[:, perm, :]\n",
        "\n",
        "# Forward pass with permuted input\n",
        "permuted_output, _ = self_attention(permuted_X)\n",
        "\n",
        "# Apply the same permutation to the original output to compare\n",
        "repermuted_output = output[:, perm, :]\n",
        "\n",
        "# Check if the outputs are the same (up to numerical precision)\n",
        "are_outputs_equivalent = torch.allclose(permuted_output, repermuted_output, atol=1e-3)\n",
        "\n",
        "print(\"Are the outputs permutation-equivalent?\", are_outputs_equivalent)\n",
        "print(\"The following two lines should be identical:\")\n",
        "print(permuted_output[-1,1,:15])\n",
        "print(repermuted_output[-1,1,:15])"
      ]
    },
    {
      "cell_type": "markdown",
      "metadata": {
        "id": "C13rckw8oKyr"
      },
      "source": [
        "#Exercise 4: Multi-head Self-Attention Module (30 points)\n",
        "\n",
        "Self-attention mechanisms allow a model to focus on different parts of the input sequence while processing each element. In the multi-head attention setup, multiple attention heads are computed in parallel, and their results are concatenated, which allows the model to capture information from different subspaces. Specifically, multi-head self-attention passes the input to each attention module, concatenates the outputs, and apply a linear layer to obtain the final output:\n",
        "$$\n",
        "\\operatorname{MultiHead}(X)=\\operatorname{Concat}\\left(\\text {head}_1, \\text {head}_2, \\ldots, \\text {head}_h \\right) W^O,\n",
        "$$\n",
        "$$\n",
        "\\operatorname{head}_i=\\operatorname{Attention}(X),\n",
        "$$\n",
        "where $\\operatorname{Attention}$ corresponds to the self-attention module where the dimensions of key, query and values are given as $\\frac{d_k}{h}$, $\\frac{d_k}{h}$ and $\\frac{d_v}{h}$ respectively. Notice that the weights are not necessarily identical for different heads; instead, you may save the attention heads as a `nn.ModuleList`.\n",
        "\n",
        "If implemented correctly, the output should be like:\n",
        "\n",
        "tensor([ 0.0275, -0.1630,  0.1510,  0.3983, -0.0111, -0.4692, -0.1411,  0.1411,\n",
        "         0.2040,  0.0587,  0.1210, -0.1313, -0.0088,  0.1773, -0.0538],\n",
        "       grad_fn=<SliceBackward0>)\n",
        "Output shape: torch.Size([32, 10, 64])"
      ]
    },
    {
      "cell_type": "code",
      "source": [
        "class MultiHeadSelfAttention(nn.Module):\n",
        "    def __init__(self, d_in, d_k, d_v, num_heads):\n",
        "        \"\"\"\n",
        "        Initialize the Multi-Head Self-Attention module.\n",
        "        Parameters:\n",
        "        d_in (int): Dimensionality of the input sequence.\n",
        "        d_k (int): Dimensionality of the queries and keys.\n",
        "        d_v (int): Dimensionality of the values.\n",
        "        num_heads (int): Number of attention heads.\n",
        "        \"\"\"\n",
        "        super(MultiHeadSelfAttention, self).__init__()\n",
        "\n",
        "        # <YOUR CODE HERE>\n",
        "\n",
        "        assert d_k % num_heads == 0\n",
        "        assert d_v % num_heads == 0\n",
        "\n",
        "        self.num_heads = num_heads\n",
        "        self.d_k_per_head = d_k // num_heads\n",
        "        self.d_v_per_head = d_v // num_heads\n",
        "\n",
        "        # Linear layers for queries,keys, and values\n",
        "        self.q_linear = nn.ModuleList([nn.Linear(d_in, self.d_k_per_head) for _ in range(num_heads)])\n",
        "        self.k_linear = nn.ModuleList([nn.Linear(d_in, self.d_k_per_head) for _ in range(num_heads)])\n",
        "        self.v_linear = nn.ModuleList([nn.Linear(d_in, self.d_v_per_head) for _ in range(num_heads)])\n",
        "\n",
        "         # Final output linear layer\n",
        "        self.out_linear = nn.Linear(d_v, d_v)\n",
        "\n",
        "        # <END YOUR CODE>\n",
        "\n",
        "\n",
        "    def forward(self, X, mask=None):\n",
        "      # <YOUR CODE HERE>\n",
        "\n",
        "        \"\"\"\n",
        "        Args:\n",
        "          X: Input sequence of shape (batch_size, seq_len, d_in)\n",
        "          mask: Optional attention mask of shape (batch_size, 1, 1, seq_len)\n",
        "\n",
        "        Returns:\n",
        "          Output sequence of shape (batch_size, seq_len, d_v)\n",
        "        \"\"\"\n",
        "        batch_size, seq_len, _ = X.size()\n",
        "\n",
        "        # Empty lists to store the Q, K, V for each head\n",
        "        Q, K, V = [], [], []\n",
        "\n",
        "        # Compute Q, K, V for each head\n",
        "        for i in range(self.num_heads):\n",
        "            Q.append(self.q_linear[i](X))\n",
        "            K.append(self.k_linear[i](X))\n",
        "            V.append(self.v_linear[i](X))\n",
        "\n",
        "        # Stack Q, K, V to form multi-head representations\n",
        "        Q = torch.stack(Q, dim=1)\n",
        "        K = torch.stack(K, dim=1)\n",
        "        V = torch.stack(V, dim=1)\n",
        "\n",
        "        # Scaled dot-product attention for each head\n",
        "        scores = torch.matmul(Q, K.transpose(-2, -1)) / torch.sqrt(torch.tensor(self.d_k_per_head, dtype=torch.float32))\n",
        "\n",
        "\n",
        "        if mask is not None:\n",
        "            scores = scores.masked_fill(~mask[:, None, None, :], float('-inf'))\n",
        "\n",
        "        attention_weights = F.softmax(scores, dim=-1)\n",
        "\n",
        "        # Compute attention output for each head\n",
        "        heads_output = torch.matmul(attention_weights, V)\n",
        "\n",
        "        # Concatenate the outputs\n",
        "        concatenated_heads = heads_output.transpose(1, 2).contiguous().view(batch_size, seq_len, -1)\n",
        "\n",
        "        # Final linear projection\n",
        "        output = self.out_linear(concatenated_heads)\n",
        "\n",
        "        return output\n",
        "\n",
        "        # <END YOUR CODE>\n",
        "\n",
        "# Testing Multi-Head Attention\n",
        "torch.manual_seed(40)\n",
        "batch_size = 32\n",
        "seq_len = 10\n",
        "d_in = 256\n",
        "d_k = 512\n",
        "d_v = 64\n",
        "num_heads = 8\n",
        "\n",
        "X = torch.rand(batch_size, seq_len, d_in)\n",
        "\n",
        "multi_head_attention = MultiHeadSelfAttention(d_in, d_k, d_v, num_heads)\n",
        "\n",
        "output = multi_head_attention(X)\n",
        "\n",
        "print(output[-1,1,:15])\n",
        "print(\"Output shape:\", output.shape)"
      ],
      "metadata": {
        "colab": {
          "base_uri": "https://localhost:8080/"
        },
        "id": "yI07ohXLTHmO",
        "outputId": "8f0c6246-bfa4-454a-8382-996cd7fabe61"
      },
      "execution_count": 61,
      "outputs": [
        {
          "output_type": "stream",
          "name": "stdout",
          "text": [
            "tensor([ 0.0955,  0.0810,  0.0534,  0.0958,  0.0714,  0.2688, -0.1957, -0.0403,\n",
            "        -0.0532,  0.1391, -0.1612, -0.2668, -0.1906,  0.1828,  0.2624],\n",
            "       grad_fn=<SliceBackward0>)\n",
            "Output shape: torch.Size([32, 10, 64])\n"
          ]
        }
      ]
    },
    {
      "cell_type": "markdown",
      "source": [],
      "metadata": {
        "id": "h-zQr28O5309"
      }
    }
  ],
  "metadata": {
    "colab": {
      "provenance": [],
      "machine_shape": "hm",
      "include_colab_link": true
    },
    "kernelspec": {
      "display_name": "Python 3",
      "name": "python3"
    },
    "language_info": {
      "codemirror_mode": {
        "name": "ipython",
        "version": 3
      },
      "file_extension": ".py",
      "mimetype": "text/x-python",
      "name": "python",
      "nbconvert_exporter": "python",
      "pygments_lexer": "ipython3",
      "version": "3.10.15"
    }
  },
  "nbformat": 4,
  "nbformat_minor": 0
}