{
  "cells": [
    {
      "cell_type": "markdown",
      "metadata": {
        "id": "view-in-github",
        "colab_type": "text"
      },
      "source": [
        "<a href=\"https://colab.research.google.com/github/Shaunak-Mukherjee/ECE570-Artificial-Intelligence/blob/main/ECE570_F2024_Assignment_03_Exercise_Shaunak_Mukherjee.ipynb\" target=\"_parent\"><img src=\"https://colab.research.google.com/assets/colab-badge.svg\" alt=\"Open In Colab\"/></a>"
      ]
    },
    {
      "cell_type": "markdown",
      "metadata": {
        "id": "zmwWs4S9cRIn"
      },
      "source": [
        "# ECE 57000 Assignment 3 Exercise\n",
        "\n",
        "Your Name: Shaunak Mukherjee"
      ]
    },
    {
      "cell_type": "markdown",
      "metadata": {
        "id": "a7PCeyTdv4Ku"
      },
      "source": [
        "Prepare the pacakge we will use."
      ]
    },
    {
      "cell_type": "code",
      "execution_count": null,
      "metadata": {
        "id": "MMFxWrQfv4Kv"
      },
      "outputs": [],
      "source": [
        "import time\n",
        "from typing import List, Dict\n",
        "from tqdm import tqdm\n",
        "import copy\n",
        "import torch\n",
        "import torch.nn as nn\n",
        "import torch.optim as optim\n",
        "import torch.nn.functional as F\n",
        "import torchvision\n",
        "import torchvision.models as models\n",
        "import torchvision.transforms as transforms\n",
        "from torchvision import datasets, transforms\n",
        "from torch.utils.data import DataLoader\n",
        "import matplotlib.pyplot as plt"
      ]
    },
    {
      "cell_type": "markdown",
      "metadata": {
        "id": "Vmlsa88cqmib"
      },
      "source": [
        "## Exercise 0: Train your model on GPU (0 points)"
      ]
    },
    {
      "cell_type": "markdown",
      "metadata": {
        "id": "WfirXJR3qvB0"
      },
      "source": [
        "Some tasks in this assignment can take a long time if you run it on the CPU. For example, based on our solution of Exercise 3 Task 4 (Transfer Learning: finetuning of a pretrained model (resnet18)), it will take roughly 2 hours to train the model end-to-end (complete model and not only the last fc layer) for 1 epoch on CPU. Hence, we highly recommend you try to train your model on GPU.\n",
        "\n",
        "To do so, first you need to enable GPU on Colab (this will restart the runtime). Click `Runtime`-> `Change runtime type` and select the `Hardware accelerator` there.  You can then run the following code to see if the GPU is correctly initialized and available.\n",
        "\n",
        "**Note**: If you would like to avoid GPU overages on Colab, we would suggest writing and debugging your code before switching on the GPU runtime. Otherwise, the time you spent debugging code will likely count against your GPU usage. Once you have the code running, you can switch on the GPU runtime and train the model much faster."
      ]
    },
    {
      "cell_type": "code",
      "execution_count": null,
      "metadata": {
        "colab": {
          "base_uri": "https://localhost:8080/"
        },
        "id": "TT7wKvilvBvX",
        "outputId": "9ec3a600-4652-4075-e697-1f592267f48a"
      },
      "outputs": [
        {
          "output_type": "stream",
          "name": "stdout",
          "text": [
            "Can I can use GPU now? -- True\n"
          ]
        }
      ],
      "source": [
        "print(f'Can I can use GPU now? -- {torch.cuda.is_available()}')"
      ]
    },
    {
      "cell_type": "markdown",
      "metadata": {
        "id": "hnPPDoA7vQWp"
      },
      "source": [
        "### You must manually move your model and data to the GPU (and sometimes back to the cpu)\n",
        "After setting the GPU up on colab, then you should put your **model** and **data** to GPU. We give a simple example below. You can use `to` function for this task. See [torch.Tensor.to](https://pytorch.org/docs/stable/generated/torch.Tensor.to.html) to move a tensor to the GPU (probably your mini-batch of data in each iteration) or [torch.nn.Module.to](https://pytorch.org/docs/stable/generated/torch.nn.Module.html#torch.nn.Module.to) to move your NN model to GPU (assuming you create subclass [torch.nn.Module](https://pytorch.org/docs/stable/generated/torch.nn.Module.html)). Note that `to()` of tensor returns a NEW tensor while `to` of a NN model will apply this in-place. To be safe, the best semantics are `obj = obj.to(device)`. For printing, you will need to move a tensor back to the CPU via the `cpu()` function.\n",
        "\n",
        "Once the model and input data are on the GPU, everything else can be done the same.  This is the beauty of PyTorch GPU acceleration.  None of the other code needs to be altered.\n",
        "\n",
        "To summarize, you need to 1) enable GPU acceleration in Colab, 2) put the model on the GPU, and 3) put the input data (i.e., the batch of samples) onto the GPU using `to()` after it is loaded by the data loaders (usually you only put one batch of data on the GPU at a time)."
      ]
    },
    {
      "cell_type": "code",
      "execution_count": null,
      "metadata": {
        "colab": {
          "base_uri": "https://localhost:8080/"
        },
        "id": "lUdR8v7Kt-6S",
        "outputId": "ae0d1318-485a-44c9-e4c5-260388fdb970"
      },
      "outputs": [
        {
          "output_type": "stream",
          "name": "stdout",
          "text": [
            "input is on cpu\n",
            "model parameters are on [device(type='cpu'), device(type='cpu'), device(type='cpu'), device(type='cpu')]\n",
            "output is on cpu\n",
            "input is on cuda:0\n",
            "model parameters are on [device(type='cuda', index=0), device(type='cuda', index=0), device(type='cuda', index=0), device(type='cuda', index=0)]\n",
            "output is on cuda:0\n"
          ]
        }
      ],
      "source": [
        "rand_tensor = torch.rand(5,2)\n",
        "simple_model = nn.Sequential(nn.Linear(2,10), nn.ReLU(), nn.Linear(10,1))\n",
        "print(f'input is on {rand_tensor.device}')\n",
        "print(f'model parameters are on {[param.device for param in simple_model.parameters()]}')\n",
        "print(f'output is on {simple_model(rand_tensor).device}')\n",
        "\n",
        "# device = torch.device('cuda')\n",
        "\n",
        "device = torch.device('cuda' if torch.cuda.is_available() else 'cpu')\n",
        "# ----------- <Your code> ---------------\n",
        "# Move rand_tensor and model onto the GPU device\n",
        "\n",
        "rand_tensor = rand_tensor.to(device)\n",
        "simple_model = simple_model.to(device)\n",
        "\n",
        "# --------- <End your code> -------------\n",
        "print(f'input is on {rand_tensor.device}')\n",
        "print(f'model parameters are on {[param.device for param in simple_model.parameters()]}')\n",
        "print(f'output is on {simple_model(rand_tensor).device}')"
      ]
    },
    {
      "cell_type": "markdown",
      "metadata": {
        "id": "Zz2T0QYYpwVR"
      },
      "source": [
        "## Exercise 1: Why use a CNN rather than only fully connected layers? (40 points)\n",
        "\n",
        "In this exercise, you will build two models for the **MNIST** dataset: one uses only fully connected layers and another uses a standard CNN layout (convolution layers everywhere except the last layer is fully connected layer). Note, you will need to use cross entropy loss as your objective function. The two models should be built with roughly the same accuracy performance, your task is to compare the number of network parameters (a huge number of parameters can affect training/testing time, memory requirements, overfitting, etc.)."
      ]
    },
    {
      "cell_type": "markdown",
      "metadata": {
        "id": "Uy8SpN1kv4Kz"
      },
      "source": [
        "### Task 1: Prepare train and test function\n",
        "\n",
        "We will create our train and test procedure in these two functions. The train function should apply one epoch of training. The functions inputs should take everything we need for training and testing and return some logs.\n",
        "\n",
        "#### Arguments requirement:\n",
        "* For the `train` function, it takes the `model`, `loss_fn`, `optimizer`, `train_loader`, and `epoch` as arguments.\n",
        "    * `model`: the classifier, or deep neural network, should be an instance of `nn.Module`.\n",
        "    * `loss_fn`: the loss function instance. For example, `nn.CrossEntropy()`, or `nn.L1Loss()`, etc.\n",
        "    * `optimizer`: should be an instance of `torch.optim.Optimizer`. For example, it could be `optim.SGD()` or `optim.Adam()`, etc.\n",
        "    * `train_loader`: should be an instance of `torch.utils.data.DataLoader`.\n",
        "    * `epoch`: the current number of epoch. Only used for log printing.(default: 1.)\n",
        "\n",
        "* For the `test` function, it takes all the inputs above except for the optimizer (and it takes a test loader instead of a train loader).\n",
        "\n",
        "#### Log requirement:\n",
        "Here are some further requirements:\n",
        "* In the `train` function, print the log 8-10 times per epoch. The print statement should be:\n",
        "```python\n",
        "print(f'Epoch {epoch}: [{batch_idx*len(images)}/{len(train_loader.dataset)}] Loss: {loss.item():.3f}')\n",
        "```\n",
        "* In the `test` function, print the log after the testing. The print statement is:\n",
        "```python\n",
        "print(f\"Test result on epoch {epoch}: total sample: {total_num}, Avg loss: {test_stat['loss']:.3f}, Acc: {100*test_stat['accuracy']:.3f}%\")\n",
        "```\n",
        "\n",
        "#### Return requirement\n",
        "* The `train` function should return a list, which the element is the loss per batch, i.e., one loss value for every batch.\n",
        "* The `test` function should return a dictionary with three keys: \"loss\", \"accuracy\", and \"prediction\". The values are the average loss of all the testset, average accuracy of all the test dataset, and the prediction of all test dataset.\n",
        "\n",
        "#### Other requirement:\n",
        "* In the `train` function, the model should be updated in-place, i.e., do not copy the model inside `train` function."
      ]
    },
    {
      "cell_type": "code",
      "execution_count": null,
      "metadata": {
        "id": "f7Fpdi_uv4Kz"
      },
      "outputs": [],
      "source": [
        "def train(model: nn.Module,\n",
        "          loss_fn: nn.modules.loss._Loss,\n",
        "          optimizer: torch.optim.Optimizer,\n",
        "          train_loader: torch.utils.data.DataLoader,\n",
        "          epoch: int=0)-> List:\n",
        "\n",
        "    \"\"\"\n",
        "    Trains our model for one epoch.\n",
        "\n",
        "    Args:\n",
        "      model: the classifier, or deep neural network, should be an instance of nn.Module.\n",
        "      loss_fn: the loss function instance. For example, nn.CrossEntropy(), or nn.L1Loss(), etc.\n",
        "      optimizer: should be an instance of torch.optim.Optimizer. For example, it could be optim.SGD() or optim.Adam(), etc.\n",
        "      train_loader: should be an instance of torch.utils.data.DataLoader.\n",
        "      epoch: the current number of epoch. Only used for log printing.(default: 1.)\n",
        "\n",
        "    Returns:\n",
        "        list: A list containing the loss value for each batch.\n",
        "    \"\"\"\n",
        "    # ----------- <Your code> ---------------\n",
        "\n",
        "    # Model for training mode updated in-place\n",
        "    model.train()\n",
        "    train_loss = [] # Initialize list to store values after each batch\n",
        "\n",
        "    for batch_idx, (images, targets) in enumerate(train_loader):\n",
        "        # Move data and the target labels to GPU if available\n",
        "        # images, targets = images.to(next(model.parameters()).device), targets.to(next(model.parameters()).device)\n",
        "\n",
        "        optimizer.zero_grad() # Zero the gradients\n",
        "        output = model(images) # Forward pass\n",
        "\n",
        "        # Debugging shapes\n",
        "        # print(f\"Batch {batch_idx + 1}, Outputs shape: {output.shape}, Targets shape: {targets.shape}\")\n",
        "\n",
        "        loss = loss_fn(output, targets) # Calculate loss\n",
        "\n",
        "        loss.backward() # Backpropoagation\n",
        "        optimizer.step() # Updte weights\n",
        "\n",
        "        train_loss.append(loss.item())\n",
        "\n",
        "\n",
        "        # Print log 10 times per epoch\n",
        "        if (batch_idx +1) % (len(train_loader) // 10) == 0:\n",
        "            # Preferred print statement\n",
        "            print(f'Epoch {epoch}: [{batch_idx * len(images)}/{len(train_loader.dataset)}] Loss: {loss.item():.3f}')\n",
        "\n",
        "    # ----------- <End Your code> ---------------\n",
        "    assert len(train_loss) == len(train_loader)\n",
        "    return train_loss\n",
        "\n",
        "def test(model: nn.Module,\n",
        "         loss_fn: nn.modules.loss._Loss,\n",
        "         test_loader: torch.utils.data.DataLoader,\n",
        "         epoch: int=0)-> Dict:\n",
        "\n",
        "    \"\"\"\n",
        "    Evaluates the model on test set.\n",
        "\n",
        "    Args:\n",
        "        model: The neural network model.\n",
        "        loss_fn: The loss function (e.g., nn.CrossEntropyLoss()).\n",
        "        test_loader: The test data loader instead of train loader.\n",
        "        epoch (int, optional): The current epoch number (default: 1).\n",
        "\n",
        "    Returns:\n",
        "        dict: return a dictionary with three keys: \"loss\", \"accuracy\", and \"prediction\".\n",
        "        The values are the average loss of all the testset, average accuracy of all the\n",
        "        test dataset, and the prediction of all test dataset.\n",
        "    \"\"\"\n",
        "    # ----------- <Your code> ---------------\n",
        "\n",
        "    # Model for evaluation mode\n",
        "    model.eval()\n",
        "\n",
        "    # Initialize model variables for test\n",
        "    test_loss = 0\n",
        "    correct_ness = 0\n",
        "    total_num = 0\n",
        "    predictions = []\n",
        "    test_stat = {'loss': 0, 'accuracy': 0, 'prediction': None}\n",
        "\n",
        "\n",
        "    with torch.no_grad():  # Disable gradient for test\n",
        "        for images, labels in test_loader:\n",
        "            # Move data and labels to the GPU if available\n",
        "            # images, labels = images.to(next(model.parameters()).device), labels.to(next(model.parameters()).device)\n",
        "\n",
        "            outputs = model(images) # Forward pass\n",
        "\n",
        "\n",
        "            # Calculate loss for each batch and accumulate test loss\n",
        "            loss = loss_fn(outputs, labels)\n",
        "            test_loss += loss.item()* images.size(0)\n",
        "\n",
        "            # Get predictions and append prediction for entire test dataset\n",
        "            _, predicted = torch.max(outputs, dim = 1)\n",
        "            predictions.append(predicted)\n",
        "\n",
        "            # Calculate accuracy from corect predictions\n",
        "            correct_ness += (predicted == labels).sum().item()\n",
        "            total_num += labels.size(0)\n",
        "\n",
        "    # Calculate average loss and accuracy\n",
        "    avg_loss = test_loss / total_num\n",
        "    accuracy = correct_ness / total_num\n",
        "\n",
        "    # Add all predictions into a single tensor\n",
        "    predictions = torch.cat(predictions)\n",
        "\n",
        "    # Return statistics as dictionary\n",
        "    test_stat = {\"loss\": avg_loss, \"accuracy\": accuracy, \"prediction\": predictions}\n",
        "\n",
        "    # Preferred print statement\n",
        "    print(f\"Test result on epoch {epoch}: total sample: {total_num}, Avg loss: {test_stat['loss']:.3f}, Accuracy: {100*test_stat['accuracy']:.3f}%\")\n",
        "\n",
        "    # ----------- <Your code> ---------------\n",
        "    # dictionary should include loss, accuracy and prediction\n",
        "    assert \"loss\" and \"accuracy\" and \"prediction\" in test_stat.keys()\n",
        "    # \"prediction\" value should be a 1D tensor\n",
        "    assert len(test_stat[\"prediction\"]) == len(test_loader.dataset)\n",
        "    assert isinstance(test_stat[\"prediction\"], torch.Tensor)\n",
        "    return test_stat"
      ]
    },
    {
      "cell_type": "markdown",
      "metadata": {
        "id": "DFKqew7r-E-q"
      },
      "source": [
        "### Task 2: Following the structure used in the instructions, you should create\n",
        "\n",
        "*   One network named `OurFC` which should consist with only fully connected layers\n",
        "\n",
        "  *   You should decide how many layers and how many hidden dimensions you want in your network\n",
        "  *   Your final accuracy on the test dataset should lie roughly around 97% ($\\pm$2%)\n",
        "  *   There is no need to make the neural network unnecessarily complex, your total training time should no longer than 3 mins\n",
        "\n",
        "*   Another network named `OurCNN` which applys a standard CNN structure\n",
        "  *   Again, you should decide how many layers and how many channels you want for each layer.\n",
        "  *   Your final accuracy on the test dataset should lie roughly around 97% ($\\pm$2%)\n",
        "  *   A standard CNN structure can be composed as **[Conv2d, MaxPooling, ReLU] x num_conv_layers + FC x num_fc_layers**\n",
        "\n",
        "* Train and test your network on MNIST data as in the instructions.\n",
        "* Notice You can always use the `train` and `test` function you write throughout this assignment.\n",
        "* The code below will also print out the number of parameters for both neural networks to allow comparison.\n",
        "* (You can use multiple cells if helpful but make sure to run all of them to receive credit.)\n"
      ]
    },
    {
      "cell_type": "code",
      "execution_count": null,
      "metadata": {
        "id": "8XfvgD-jt-Ye",
        "colab": {
          "base_uri": "https://localhost:8080/"
        },
        "outputId": "1d91e5d1-7633-45af-cb06-e09300c13f08"
      },
      "outputs": [
        {
          "output_type": "stream",
          "name": "stdout",
          "text": [
            "Downloading http://yann.lecun.com/exdb/mnist/train-images-idx3-ubyte.gz\n",
            "Failed to download (trying next):\n",
            "HTTP Error 403: Forbidden\n",
            "\n",
            "Downloading https://ossci-datasets.s3.amazonaws.com/mnist/train-images-idx3-ubyte.gz\n",
            "Downloading https://ossci-datasets.s3.amazonaws.com/mnist/train-images-idx3-ubyte.gz to ./data/MNIST/raw/train-images-idx3-ubyte.gz\n"
          ]
        },
        {
          "output_type": "stream",
          "name": "stderr",
          "text": [
            "100%|██████████| 9912422/9912422 [00:01<00:00, 6228792.13it/s] \n"
          ]
        },
        {
          "output_type": "stream",
          "name": "stdout",
          "text": [
            "Extracting ./data/MNIST/raw/train-images-idx3-ubyte.gz to ./data/MNIST/raw\n",
            "\n",
            "Downloading http://yann.lecun.com/exdb/mnist/train-labels-idx1-ubyte.gz\n",
            "Failed to download (trying next):\n",
            "HTTP Error 403: Forbidden\n",
            "\n",
            "Downloading https://ossci-datasets.s3.amazonaws.com/mnist/train-labels-idx1-ubyte.gz\n",
            "Downloading https://ossci-datasets.s3.amazonaws.com/mnist/train-labels-idx1-ubyte.gz to ./data/MNIST/raw/train-labels-idx1-ubyte.gz\n"
          ]
        },
        {
          "output_type": "stream",
          "name": "stderr",
          "text": [
            "100%|██████████| 28881/28881 [00:00<00:00, 1148902.59it/s]"
          ]
        },
        {
          "output_type": "stream",
          "name": "stdout",
          "text": [
            "Extracting ./data/MNIST/raw/train-labels-idx1-ubyte.gz to ./data/MNIST/raw\n",
            "\n",
            "Downloading http://yann.lecun.com/exdb/mnist/t10k-images-idx3-ubyte.gz\n"
          ]
        },
        {
          "output_type": "stream",
          "name": "stderr",
          "text": [
            "\n"
          ]
        },
        {
          "output_type": "stream",
          "name": "stdout",
          "text": [
            "Failed to download (trying next):\n",
            "HTTP Error 403: Forbidden\n",
            "\n",
            "Downloading https://ossci-datasets.s3.amazonaws.com/mnist/t10k-images-idx3-ubyte.gz\n",
            "Downloading https://ossci-datasets.s3.amazonaws.com/mnist/t10k-images-idx3-ubyte.gz to ./data/MNIST/raw/t10k-images-idx3-ubyte.gz\n"
          ]
        },
        {
          "output_type": "stream",
          "name": "stderr",
          "text": [
            "100%|██████████| 1648877/1648877 [00:00<00:00, 8083439.09it/s]\n"
          ]
        },
        {
          "output_type": "stream",
          "name": "stdout",
          "text": [
            "Extracting ./data/MNIST/raw/t10k-images-idx3-ubyte.gz to ./data/MNIST/raw\n",
            "\n",
            "Downloading http://yann.lecun.com/exdb/mnist/t10k-labels-idx1-ubyte.gz\n",
            "Failed to download (trying next):\n",
            "HTTP Error 403: Forbidden\n",
            "\n",
            "Downloading https://ossci-datasets.s3.amazonaws.com/mnist/t10k-labels-idx1-ubyte.gz\n",
            "Downloading https://ossci-datasets.s3.amazonaws.com/mnist/t10k-labels-idx1-ubyte.gz to ./data/MNIST/raw/t10k-labels-idx1-ubyte.gz\n"
          ]
        },
        {
          "output_type": "stream",
          "name": "stderr",
          "text": [
            "100%|██████████| 4542/4542 [00:00<00:00, 3126625.43it/s]"
          ]
        },
        {
          "output_type": "stream",
          "name": "stdout",
          "text": [
            "Extracting ./data/MNIST/raw/t10k-labels-idx1-ubyte.gz to ./data/MNIST/raw\n",
            "\n"
          ]
        },
        {
          "output_type": "stream",
          "name": "stderr",
          "text": [
            "\n"
          ]
        }
      ],
      "source": [
        "# Download MNIST and transformation\n",
        "# ----------- <Your code> ---------------\n",
        "\n",
        "def load_mnist_data(batch_size=64):\n",
        "    transform = transforms.Compose([\n",
        "        transforms.ToTensor(),\n",
        "        transforms.Normalize((0.1307,), (0.3081,))  # Normalize with mean and std for MNIST\n",
        "    ])\n",
        "\n",
        "    train_dataset = torchvision.datasets.MNIST(root='./data', train=True, download=True, transform=transform)\n",
        "    test_dataset = torchvision.datasets.MNIST(root='./data', train=False, download=True, transform=transform)\n",
        "\n",
        "    train_loader = DataLoader(train_dataset, batch_size=batch_size, shuffle=True)\n",
        "    test_loader = DataLoader(test_dataset, batch_size=batch_size, shuffle=False)\n",
        "\n",
        "    return train_loader, test_loader\n",
        "\n",
        "# Load MNIST dataset\n",
        "train_loader, test_loader = load_mnist_data(batch_size=64)\n",
        "\n",
        "# ----------- <End Your code> -------------"
      ]
    },
    {
      "cell_type": "code",
      "execution_count": null,
      "metadata": {
        "colab": {
          "base_uri": "https://localhost:8080/"
        },
        "id": "ccYESqrsxNXA",
        "outputId": "2371fd81-796e-421a-b66c-0e4db9c0ef3c"
      },
      "outputs": [
        {
          "output_type": "stream",
          "name": "stdout",
          "text": [
            "OurFC(\n",
            "  (fc1): Linear(in_features=784, out_features=128, bias=True)\n",
            "  (fc2): Linear(in_features=128, out_features=64, bias=True)\n",
            "  (fc3): Linear(in_features=64, out_features=10, bias=True)\n",
            "  (relu): ReLU()\n",
            ")\n",
            "OurFC number of parameters: 109386\n",
            "OurCNN(\n",
            "  (conv1): Conv2d(1, 32, kernel_size=(3, 3), stride=(1, 1), padding=(1, 1))\n",
            "  (conv2): Conv2d(32, 64, kernel_size=(3, 3), stride=(1, 1), padding=(1, 1))\n",
            "  (pool): MaxPool2d(kernel_size=2, stride=2, padding=0, dilation=1, ceil_mode=False)\n",
            "  (fc1): Linear(in_features=12544, out_features=128, bias=True)\n",
            "  (fc2): Linear(in_features=128, out_features=10, bias=True)\n",
            "  (relu): ReLU()\n",
            ")\n",
            "OurCNN number of parameters: 1625866\n"
          ]
        }
      ],
      "source": [
        "# Build OurFC class and OurCNN class.\n",
        "# ----------- <Your code> ---------------\n",
        "\n",
        "# Defining the Fully Connected model\n",
        "class OurFC(nn.Module):\n",
        "    def __init__(self, input_size=28*28, hidden_sizes=[128, 64], num_classes=10):\n",
        "        \"\"\"\n",
        "        Args:\n",
        "          input_size: the size of the input image\n",
        "          hidden_sizes: a list of hidden layer sizes\n",
        "          num_classes: the number of classes\n",
        "        \"\"\"\n",
        "        super(OurFC, self).__init__()\n",
        "        self.fc1 = nn.Linear(input_size, hidden_sizes[0]) #\n",
        "        self.fc2 = nn.Linear(hidden_sizes[0], hidden_sizes[1])\n",
        "        self.fc3 = nn.Linear(hidden_sizes[1], num_classes)\n",
        "        self.relu = nn.ReLU()\n",
        "\n",
        "    def forward(self, x):\n",
        "        \"\"\"\n",
        "        Args:\n",
        "          x: input image\n",
        "        Returns: output of the FC network\n",
        "        \"\"\"\n",
        "        x = x.view(x.size(0), -1)\n",
        "        x = self.relu(self.fc1(x))\n",
        "        x = self.relu(self.fc2(x))\n",
        "        x = self.fc3(x)\n",
        "        return x\n",
        "\n",
        "# Instantiate OurFC model\n",
        "our_fc_model = OurFC()\n",
        "print(our_fc_model)\n",
        "print(f\"OurFC number of parameters: {sum(p.numel() for p in our_fc_model.parameters())}\") # source- https://saturncloud.io/blog/check-the-total-number-of-parameters-in-a-pytorch-model/\n",
        "\n",
        "\n",
        "class OurCNN(nn.Module):\n",
        "    def __init__(self, num_classes=10):\n",
        "        \"\"\"\n",
        "        Args:\n",
        "          num_classes: num of classes from dataset\n",
        "        \"\"\"\n",
        "        super(OurCNN, self).__init__()\n",
        "        self.conv1 = nn.Conv2d(1, 32, kernel_size=3, padding=1)  # Input 1 channel (grayscale)\n",
        "        self.conv2 = nn.Conv2d(32, 64, kernel_size=3, padding=1)\n",
        "        self.pool = nn.MaxPool2d(2, 2)\n",
        "        self.fc1 = nn.Linear(64 * 14 * 14, 128)\n",
        "        self.fc2 = nn.Linear(128, num_classes)  # Output size: num_classes of Cifar10\n",
        "        self.relu = nn.ReLU()\n",
        "\n",
        "    def forward(self, x):\n",
        "        \"\"\"\n",
        "        Args:\n",
        "          x: input image\n",
        "        Returns: output of the CNN network\n",
        "        \"\"\"\n",
        "        x = self.relu(self.conv1(x))  # Conv1 + ReLU\n",
        "        x = self.pool(self.relu(self.conv2(x)))  # Conv2 + ReLU + Pooling\n",
        "        # x = x.view(-1, 64 * 7 * 7)  # Flatten the feature map\n",
        "        x = x.view(x.size(0), -1)\n",
        "        x = self.relu(self.fc1(x))  # FC1 + ReLU\n",
        "        x = self.fc2(x)  # FC2 (output layer)\n",
        "        return x  # Output layer\n",
        "\n",
        "# Instantiate OurCNN model\n",
        "our_cnn_model = OurCNN()\n",
        "print(our_cnn_model)\n",
        "print(f\"OurCNN number of parameters: {sum(p.numel() for p in our_cnn_model.parameters())}\")\n",
        "\n",
        "# ----------- <End Your code> -------------"
      ]
    },
    {
      "cell_type": "code",
      "execution_count": null,
      "metadata": {
        "colab": {
          "base_uri": "https://localhost:8080/"
        },
        "id": "TxhAyKGCx_iC",
        "outputId": "d28584a9-bcd0-4e9e-fda8-7e2e9ce9e1b9"
      },
      "outputs": [
        {
          "output_type": "stream",
          "name": "stdout",
          "text": [
            "Starting Epoch 1/3 for Our FC Modl\n",
            "Epoch 1: [5888/60000] Loss: 0.395\n",
            "Epoch 1: [11840/60000] Loss: 0.265\n",
            "Epoch 1: [17792/60000] Loss: 0.288\n",
            "Epoch 1: [23744/60000] Loss: 0.365\n",
            "Epoch 1: [29696/60000] Loss: 0.131\n",
            "Epoch 1: [35648/60000] Loss: 0.373\n",
            "Epoch 1: [41600/60000] Loss: 0.183\n",
            "Epoch 1: [47552/60000] Loss: 0.111\n",
            "Epoch 1: [53504/60000] Loss: 0.211\n",
            "Epoch 1: [59456/60000] Loss: 0.068\n",
            "Test result on epoch 1: total sample: 10000, Avg loss: 0.133, Accuracy: 95.980%\n",
            "Starting Epoch 2/3 for Our FC Modl\n",
            "Epoch 2: [5888/60000] Loss: 0.089\n",
            "Epoch 2: [11840/60000] Loss: 0.053\n",
            "Epoch 2: [17792/60000] Loss: 0.115\n",
            "Epoch 2: [23744/60000] Loss: 0.141\n",
            "Epoch 2: [29696/60000] Loss: 0.124\n",
            "Epoch 2: [35648/60000] Loss: 0.042\n",
            "Epoch 2: [41600/60000] Loss: 0.046\n",
            "Epoch 2: [47552/60000] Loss: 0.140\n",
            "Epoch 2: [53504/60000] Loss: 0.016\n",
            "Epoch 2: [59456/60000] Loss: 0.087\n",
            "Test result on epoch 2: total sample: 10000, Avg loss: 0.089, Accuracy: 97.270%\n",
            "Starting Epoch 3/3 for Our FC Modl\n",
            "Epoch 3: [5888/60000] Loss: 0.186\n",
            "Epoch 3: [11840/60000] Loss: 0.090\n",
            "Epoch 3: [17792/60000] Loss: 0.050\n",
            "Epoch 3: [23744/60000] Loss: 0.095\n",
            "Epoch 3: [29696/60000] Loss: 0.090\n",
            "Epoch 3: [35648/60000] Loss: 0.018\n",
            "Epoch 3: [41600/60000] Loss: 0.062\n",
            "Epoch 3: [47552/60000] Loss: 0.176\n",
            "Epoch 3: [53504/60000] Loss: 0.053\n",
            "Epoch 3: [59456/60000] Loss: 0.144\n",
            "Test result on epoch 3: total sample: 10000, Avg loss: 0.107, Accuracy: 96.690%\n",
            "Finished Training after 82.85646653175354 s \n"
          ]
        }
      ],
      "source": [
        "# Let's first train the FC model. Below are there common hyperparameters.\n",
        "criterion = nn.CrossEntropyLoss()\n",
        "\n",
        "start = time.time()\n",
        "max_epoch = 3\n",
        "# ----------- <Your code> ---------------\n",
        "\n",
        "# Initialize optimizer\n",
        "optimizer_fc = optim.Adam(our_fc_model.parameters(), lr=0.001)\n",
        "\n",
        "# Training loop\n",
        "start = time.time()  # Record the start time\n",
        "max_epoch = 3  # Set the number of epochs\n",
        "\n",
        "# Training loop\n",
        "for epoch in range(1, max_epoch + 1):\n",
        "    print(f\"Starting Epoch {epoch}/{max_epoch} for Our FC Modl\")\n",
        "\n",
        "    # Train the FC model\n",
        "    train_loss = train(our_fc_model, criterion, optimizer_fc, train_loader, epoch)\n",
        "    # Test the FC model\n",
        "    test_stat= test(our_fc_model, criterion, test_loader, epoch)\n",
        "\n",
        "# ----------- <End Your code> ---------------\n",
        "end = time.time()\n",
        "print(f'Finished Training after {end-start} s ')"
      ]
    },
    {
      "cell_type": "markdown",
      "source": [
        "Your final accuracy on the test dataset should lie roughly around 97% (±2%)- Achieved!"
      ],
      "metadata": {
        "id": "m3WnonIKTo6K"
      }
    },
    {
      "cell_type": "code",
      "execution_count": null,
      "metadata": {
        "colab": {
          "base_uri": "https://localhost:8080/"
        },
        "id": "DX8q9Dtqylks",
        "outputId": "a7ea3f4a-af14-415d-d3f5-a882d6212757"
      },
      "outputs": [
        {
          "output_type": "stream",
          "name": "stdout",
          "text": [
            "Starting Epoch 1/3 for Our CNN Model\n",
            "Epoch 1: [5888/60000] Loss: 0.197\n",
            "Epoch 1: [11840/60000] Loss: 0.103\n",
            "Epoch 1: [17792/60000] Loss: 0.055\n",
            "Epoch 1: [23744/60000] Loss: 0.016\n",
            "Epoch 1: [29696/60000] Loss: 0.063\n",
            "Epoch 1: [35648/60000] Loss: 0.094\n",
            "Epoch 1: [41600/60000] Loss: 0.143\n",
            "Epoch 1: [47552/60000] Loss: 0.030\n",
            "Epoch 1: [53504/60000] Loss: 0.028\n",
            "Epoch 1: [59456/60000] Loss: 0.074\n",
            "Test result on epoch 1: total sample: 10000, Avg loss: 0.049, Accuracy: 98.410%\n",
            "Starting Epoch 2/3 for Our CNN Model\n",
            "Epoch 2: [5888/60000] Loss: 0.017\n",
            "Epoch 2: [11840/60000] Loss: 0.018\n",
            "Epoch 2: [17792/60000] Loss: 0.028\n",
            "Epoch 2: [23744/60000] Loss: 0.025\n",
            "Epoch 2: [29696/60000] Loss: 0.017\n",
            "Epoch 2: [35648/60000] Loss: 0.006\n",
            "Epoch 2: [41600/60000] Loss: 0.003\n",
            "Epoch 2: [47552/60000] Loss: 0.009\n",
            "Epoch 2: [53504/60000] Loss: 0.084\n",
            "Epoch 2: [59456/60000] Loss: 0.192\n",
            "Test result on epoch 2: total sample: 10000, Avg loss: 0.032, Accuracy: 99.020%\n",
            "Starting Epoch 3/3 for Our CNN Model\n",
            "Epoch 3: [5888/60000] Loss: 0.004\n",
            "Epoch 3: [11840/60000] Loss: 0.002\n",
            "Epoch 3: [17792/60000] Loss: 0.011\n",
            "Epoch 3: [23744/60000] Loss: 0.033\n",
            "Epoch 3: [29696/60000] Loss: 0.000\n",
            "Epoch 3: [35648/60000] Loss: 0.000\n",
            "Epoch 3: [41600/60000] Loss: 0.001\n",
            "Epoch 3: [47552/60000] Loss: 0.010\n",
            "Epoch 3: [53504/60000] Loss: 0.066\n",
            "Epoch 3: [59456/60000] Loss: 0.005\n",
            "Test result on epoch 3: total sample: 10000, Avg loss: 0.038, Accuracy: 98.780%\n",
            "Finished Training after 760.3527166843414 s \n"
          ]
        }
      ],
      "source": [
        "# Let's then train the OurCNN model.\n",
        "start = time.time()\n",
        "# ----------- <Your code> ---------------\n",
        "# Define Optimizer and Loss Criterion\n",
        "optimizer_cnn = optim.Adam(our_cnn_model.parameters(), lr=0.001)\n",
        "criterion = nn.CrossEntropyLoss()\n",
        "max_epoch = 3  # Set the number of epochs\n",
        "\n",
        "\n",
        "# Training loop for OurCNN\n",
        "for epoch in range(1, max_epoch + 1):\n",
        "    print(f\"Starting Epoch {epoch}/{max_epoch} for Our CNN Model\")\n",
        "\n",
        "    # Train the model\n",
        "    train_loss = train(our_cnn_model, criterion, optimizer_cnn, train_loader, epoch)\n",
        "    # Test the model\n",
        "    test_stat = test(our_cnn_model, criterion, test_loader, epoch)\n",
        "\n",
        "# ----------- <End Your code> ---------------\n",
        "end = time.time()\n",
        "print(f'Finished Training after {end-start} s ')"
      ]
    },
    {
      "cell_type": "markdown",
      "source": [
        "Your final accuracy on the test dataset should lie roughly around 97% (±2%)- Achieved!"
      ],
      "metadata": {
        "id": "v5-kIqkiTh2c"
      }
    },
    {
      "cell_type": "code",
      "execution_count": null,
      "metadata": {
        "colab": {
          "base_uri": "https://localhost:8080/"
        },
        "id": "FIVO5T4JgA_N",
        "outputId": "db29c377-961d-4a48-fe76-1d44f80e8901"
      },
      "outputs": [
        {
          "output_type": "stream",
          "name": "stdout",
          "text": [
            "OurFC has a total of 109386 parameters\n",
            "OurCNN has a total of 1625866 parameters\n"
          ]
        }
      ],
      "source": [
        "ourfc = OurFC()\n",
        "total_params = sum(p.numel() for p in ourfc.parameters())\n",
        "print(f'OurFC has a total of {total_params} parameters')\n",
        "\n",
        "ourcnn = OurCNN()\n",
        "total_params = sum(p.numel() for p in ourcnn.parameters())\n",
        "print(f'OurCNN has a total of {total_params} parameters')"
      ]
    },
    {
      "cell_type": "markdown",
      "metadata": {
        "id": "v5oMKOrhmfpM"
      },
      "source": [
        "Questions (0 points, just for understanding): Which one has more parameters?  Which one is likely to have less computational cost when deployed? Which one took longer to train?"
      ]
    },
    {
      "cell_type": "markdown",
      "metadata": {
        "id": "290mOBEHgEXr"
      },
      "source": [
        "## Exercise 2: Train classifier on CIFAR-10 data. (30 points)\n",
        "Now, lets move our dataset to color images. CIFAR-10 dataset is another widely used dataset. Here all images have colors, i.e each image has 3 color channels instead of only one channel in MNIST. You need to pay more attention to the dimension of the data as it passes through the layers of your network."
      ]
    },
    {
      "cell_type": "markdown",
      "metadata": {
        "id": "IHClZywoGwWt"
      },
      "source": [
        "### Task 1: Create data loaders\n",
        "* Load CIFAR10 train and test datas with appropriate composite transform where the normalize transform should be `transforms.Normalize((0.5, 0.5, 0.5), (0.5, 0.5, 0.5))])`.\n",
        "* Set up a `train_loader` and `test_loader` for the CIFAR-10 data with a batch size of 9 similar to the instructions.\n",
        "* The code below will plot a 3 x 3 subplot of images including their labels. (do not modify)"
      ]
    },
    {
      "cell_type": "code",
      "execution_count": null,
      "metadata": {
        "colab": {
          "base_uri": "https://localhost:8080/",
          "height": 825
        },
        "id": "ANpwc7CSPlYP",
        "outputId": "64583063-4aad-428f-d130-5b1108826e2a"
      },
      "outputs": [
        {
          "output_type": "stream",
          "name": "stdout",
          "text": [
            "Downloading https://www.cs.toronto.edu/~kriz/cifar-10-python.tar.gz to ./data/cifar-10-python.tar.gz\n"
          ]
        },
        {
          "output_type": "stream",
          "name": "stderr",
          "text": [
            "100%|██████████| 170498071/170498071 [00:01<00:00, 104612093.81it/s]\n"
          ]
        },
        {
          "output_type": "stream",
          "name": "stdout",
          "text": [
            "Extracting ./data/cifar-10-python.tar.gz to ./data\n",
            "Files already downloaded and verified\n"
          ]
        },
        {
          "output_type": "display_data",
          "data": {
            "text/plain": [
              "<Figure size 900x900 with 9 Axes>"
            ],
            "image/png": "[encoded data removed]"
          },
          "metadata": {}
        }
      ],
      "source": [
        "classes = ('plane', 'car', 'bird', 'cat', 'deer', 'dog', 'frog', 'horse', 'ship', 'truck')\n",
        "\n",
        "\n",
        "device = torch.device(\"cuda\" if torch.cuda.is_available() else \"cpu\")\n",
        "\n",
        "# Create the appropriate transform, load/download CIFAR10 train and test datasets with transform\n",
        "# ----------- <Your code> ---------------\n",
        "\n",
        "transform = transforms.Compose(\n",
        "    [transforms.ToTensor(),\n",
        "    transforms.Normalize((0.5, 0.5, 0.5), (0.5, 0.5, 0.5))])\n",
        "\n",
        "# ----------- <End Your code> ---------------\n",
        "\n",
        "# Define trainloader and testloader\n",
        "# ----------- <Your code> ---------------\n",
        "\n",
        "# Load CIFAR10 train and test datasets with transform (source: Pytorch cifar10_tutorial page)\n",
        "trainset = torchvision.datasets.CIFAR10(root='./data', train=True, download=True, transform=transform)\n",
        "testset = torchvision.datasets.CIFAR10(root='./data', train=False, download=True, transform=transform)\n",
        "\n",
        "# Define trainloader and testloader\n",
        "train_loader = torch.utils.data.DataLoader(trainset, batch_size=9, shuffle=True, num_workers=2)\n",
        "test_loader = torch.utils.data.DataLoader(testset, batch_size=9, shuffle=False, num_workers=2)\n",
        "\n",
        "# ----------- <End Your code> ---------------\n",
        "\n",
        "# Code to display images\n",
        "batch_idx, (images, targets) = next(enumerate(train_loader))\n",
        "fig, ax = plt.subplots(3,3,figsize = (9,9))\n",
        "for i in range(3):\n",
        "    for j in range(3):\n",
        "        image = images[i*3+j].permute(1,2,0)\n",
        "        image = image/2 + 0.5\n",
        "        ax[i,j].imshow(image)\n",
        "        ax[i,j].set_axis_off()\n",
        "        ax[i,j].set_title(f'{classes[targets[i*3+j]]}')\n",
        "fig.show()"
      ]
    },
    {
      "cell_type": "markdown",
      "metadata": {
        "id": "f0FMDyDzijEG"
      },
      "source": [
        "### Task 2: Create CNN and train it\n",
        "Set up a convolutional neural network and have your data trained on it. You have to decide all the details in your network, overall your neural network should meet the following standards to receive full credit:\n",
        "\n",
        "*   You should not use more than three convolutional layers and three fully connected layers\n",
        "*   Accuracy on the test dataset should be **above** 50%\n",
        "\n"
      ]
    },
    {
      "cell_type": "code",
      "execution_count": null,
      "metadata": {
        "colab": {
          "base_uri": "https://localhost:8080/"
        },
        "id": "a1pkwtIAzwfg",
        "outputId": "cf302ff2-17e9-4025-e56f-0a0ac494394c"
      },
      "outputs": [
        {
          "output_type": "stream",
          "name": "stdout",
          "text": [
            "Net(\n",
            "  (conv1): Conv2d(3, 6, kernel_size=(5, 5), stride=(1, 1))\n",
            "  (pool): MaxPool2d(kernel_size=2, stride=2, padding=0, dilation=1, ceil_mode=False)\n",
            "  (conv2): Conv2d(6, 16, kernel_size=(5, 5), stride=(1, 1))\n",
            "  (fc1): Linear(in_features=400, out_features=120, bias=True)\n",
            "  (fc2): Linear(in_features=120, out_features=84, bias=True)\n",
            "  (fc3): Linear(in_features=84, out_features=10, bias=True)\n",
            ")\n"
          ]
        }
      ],
      "source": [
        "# Create CNN network.\n",
        "# ----------- <Your code> ---------------\n",
        "\n",
        "class Net(nn.Module):\n",
        "    def __init__(self):\n",
        "        super().__init__()\n",
        "        self.conv1 = nn.Conv2d(3, 6, 5)\n",
        "        self.pool = nn.MaxPool2d(2, 2)\n",
        "        self.conv2 = nn.Conv2d(6, 16, 5)\n",
        "        self.fc1 = nn.Linear(16 * 5 * 5, 120)\n",
        "        self.fc2 = nn.Linear(120, 84)\n",
        "        self.fc3 = nn.Linear(84, 10)\n",
        "\n",
        "    def forward(self, x):\n",
        "        x = self.pool(F.relu(self.conv1(x)))\n",
        "        x = self.pool(F.relu(self.conv2(x)))\n",
        "        x = torch.flatten(x, 1)\n",
        "        x = F.relu(self.fc1(x))\n",
        "        x = F.relu(self.fc2(x))\n",
        "        x = self.fc3(x)\n",
        "        return x\n",
        "\n",
        "cifar_CNN = Net()\n",
        "net = cifar_CNN.to(device)\n",
        "print(cifar_CNN)\n",
        "# ----------- <End Your code> ---------------"
      ]
    },
    {
      "cell_type": "code",
      "execution_count": null,
      "metadata": {
        "colab": {
          "base_uri": "https://localhost:8080/"
        },
        "id": "jbz_imJYn5v4",
        "outputId": "536c9918-44f6-48ed-8802-b44311f9291c"
      },
      "outputs": [
        {
          "output_type": "stream",
          "name": "stderr",
          "text": [
            "Epoch 1/4: 110it [00:01, 73.20it/s]"
          ]
        },
        {
          "output_type": "stream",
          "name": "stdout",
          "text": [
            "[Epoch 1, Batch 100] Loss: 2.216\n"
          ]
        },
        {
          "output_type": "stream",
          "name": "stderr",
          "text": [
            "Epoch 1/4: 212it [00:02, 82.33it/s]"
          ]
        },
        {
          "output_type": "stream",
          "name": "stdout",
          "text": [
            "[Epoch 1, Batch 200] Loss: 2.061\n"
          ]
        },
        {
          "output_type": "stream",
          "name": "stderr",
          "text": [
            "Epoch 1/4: 312it [00:03, 85.54it/s]"
          ]
        },
        {
          "output_type": "stream",
          "name": "stdout",
          "text": [
            "[Epoch 1, Batch 300] Loss: 1.980\n"
          ]
        },
        {
          "output_type": "stream",
          "name": "stderr",
          "text": [
            "Epoch 1/4: 411it [00:05, 88.22it/s]"
          ]
        },
        {
          "output_type": "stream",
          "name": "stdout",
          "text": [
            "[Epoch 1, Batch 400] Loss: 1.897\n"
          ]
        },
        {
          "output_type": "stream",
          "name": "stderr",
          "text": [
            "Epoch 1/4: 514it [00:06, 88.52it/s]"
          ]
        },
        {
          "output_type": "stream",
          "name": "stdout",
          "text": [
            "[Epoch 1, Batch 500] Loss: 1.790\n"
          ]
        },
        {
          "output_type": "stream",
          "name": "stderr",
          "text": [
            "Epoch 1/4: 614it [00:07, 90.35it/s]"
          ]
        },
        {
          "output_type": "stream",
          "name": "stdout",
          "text": [
            "[Epoch 1, Batch 600] Loss: 1.813\n"
          ]
        },
        {
          "output_type": "stream",
          "name": "stderr",
          "text": [
            "Epoch 1/4: 707it [00:08, 59.36it/s]"
          ]
        },
        {
          "output_type": "stream",
          "name": "stdout",
          "text": [
            "[Epoch 1, Batch 700] Loss: 1.819\n"
          ]
        },
        {
          "output_type": "stream",
          "name": "stderr",
          "text": [
            "Epoch 1/4: 805it [00:10, 52.74it/s]"
          ]
        },
        {
          "output_type": "stream",
          "name": "stdout",
          "text": [
            "[Epoch 1, Batch 800] Loss: 1.743\n"
          ]
        },
        {
          "output_type": "stream",
          "name": "stderr",
          "text": [
            "Epoch 1/4: 915it [00:12, 85.52it/s]"
          ]
        },
        {
          "output_type": "stream",
          "name": "stdout",
          "text": [
            "[Epoch 1, Batch 900] Loss: 1.720\n"
          ]
        },
        {
          "output_type": "stream",
          "name": "stderr",
          "text": [
            "Epoch 1/4: 1014it [00:13, 83.60it/s]"
          ]
        },
        {
          "output_type": "stream",
          "name": "stdout",
          "text": [
            "[Epoch 1, Batch 1000] Loss: 1.676\n"
          ]
        },
        {
          "output_type": "stream",
          "name": "stderr",
          "text": [
            "Epoch 1/4: 1114it [00:14, 85.33it/s]"
          ]
        },
        {
          "output_type": "stream",
          "name": "stdout",
          "text": [
            "[Epoch 1, Batch 1100] Loss: 1.625\n"
          ]
        },
        {
          "output_type": "stream",
          "name": "stderr",
          "text": [
            "Epoch 1/4: 1208it [00:15, 73.62it/s]"
          ]
        },
        {
          "output_type": "stream",
          "name": "stdout",
          "text": [
            "[Epoch 1, Batch 1200] Loss: 1.669\n"
          ]
        },
        {
          "output_type": "stream",
          "name": "stderr",
          "text": [
            "Epoch 1/4: 1317it [00:17, 85.83it/s]"
          ]
        },
        {
          "output_type": "stream",
          "name": "stdout",
          "text": [
            "[Epoch 1, Batch 1300] Loss: 1.647\n"
          ]
        },
        {
          "output_type": "stream",
          "name": "stderr",
          "text": [
            "Epoch 1/4: 1411it [00:18, 88.01it/s]"
          ]
        },
        {
          "output_type": "stream",
          "name": "stdout",
          "text": [
            "[Epoch 1, Batch 1400] Loss: 1.647\n"
          ]
        },
        {
          "output_type": "stream",
          "name": "stderr",
          "text": [
            "Epoch 1/4: 1514it [00:19, 88.58it/s]"
          ]
        },
        {
          "output_type": "stream",
          "name": "stdout",
          "text": [
            "[Epoch 1, Batch 1500] Loss: 1.577\n"
          ]
        },
        {
          "output_type": "stream",
          "name": "stderr",
          "text": [
            "Epoch 1/4: 1616it [00:20, 88.40it/s]"
          ]
        },
        {
          "output_type": "stream",
          "name": "stdout",
          "text": [
            "[Epoch 1, Batch 1600] Loss: 1.524\n"
          ]
        },
        {
          "output_type": "stream",
          "name": "stderr",
          "text": [
            "Epoch 1/4: 1706it [00:21, 65.15it/s]"
          ]
        },
        {
          "output_type": "stream",
          "name": "stdout",
          "text": [
            "[Epoch 1, Batch 1700] Loss: 1.578\n"
          ]
        },
        {
          "output_type": "stream",
          "name": "stderr",
          "text": [
            "Epoch 1/4: 1809it [00:23, 59.07it/s]"
          ]
        },
        {
          "output_type": "stream",
          "name": "stdout",
          "text": [
            "[Epoch 1, Batch 1800] Loss: 1.555\n"
          ]
        },
        {
          "output_type": "stream",
          "name": "stderr",
          "text": [
            "Epoch 1/4: 1915it [00:25, 71.33it/s]"
          ]
        },
        {
          "output_type": "stream",
          "name": "stdout",
          "text": [
            "[Epoch 1, Batch 1900] Loss: 1.538\n"
          ]
        },
        {
          "output_type": "stream",
          "name": "stderr",
          "text": [
            "Epoch 1/4: 2011it [00:26, 87.52it/s]"
          ]
        },
        {
          "output_type": "stream",
          "name": "stdout",
          "text": [
            "[Epoch 1, Batch 2000] Loss: 1.498\n"
          ]
        },
        {
          "output_type": "stream",
          "name": "stderr",
          "text": [
            "Epoch 1/4: 2116it [00:27, 91.34it/s]"
          ]
        },
        {
          "output_type": "stream",
          "name": "stdout",
          "text": [
            "[Epoch 1, Batch 2100] Loss: 1.544\n"
          ]
        },
        {
          "output_type": "stream",
          "name": "stderr",
          "text": [
            "Epoch 1/4: 2209it [00:28, 63.59it/s]"
          ]
        },
        {
          "output_type": "stream",
          "name": "stdout",
          "text": [
            "[Epoch 1, Batch 2200] Loss: 1.532\n"
          ]
        },
        {
          "output_type": "stream",
          "name": "stderr",
          "text": [
            "Epoch 1/4: 2309it [00:30, 55.27it/s]"
          ]
        },
        {
          "output_type": "stream",
          "name": "stdout",
          "text": [
            "[Epoch 1, Batch 2300] Loss: 1.541\n"
          ]
        },
        {
          "output_type": "stream",
          "name": "stderr",
          "text": [
            "Epoch 1/4: 2414it [00:32, 75.84it/s]"
          ]
        },
        {
          "output_type": "stream",
          "name": "stdout",
          "text": [
            "[Epoch 1, Batch 2400] Loss: 1.490\n"
          ]
        },
        {
          "output_type": "stream",
          "name": "stderr",
          "text": [
            "Epoch 1/4: 2513it [00:33, 82.29it/s]"
          ]
        },
        {
          "output_type": "stream",
          "name": "stdout",
          "text": [
            "[Epoch 1, Batch 2500] Loss: 1.462\n"
          ]
        },
        {
          "output_type": "stream",
          "name": "stderr",
          "text": [
            "Epoch 1/4: 2611it [00:34, 68.67it/s]"
          ]
        },
        {
          "output_type": "stream",
          "name": "stdout",
          "text": [
            "[Epoch 1, Batch 2600] Loss: 1.515\n"
          ]
        },
        {
          "output_type": "stream",
          "name": "stderr",
          "text": [
            "Epoch 1/4: 2707it [00:36, 53.85it/s]"
          ]
        },
        {
          "output_type": "stream",
          "name": "stdout",
          "text": [
            "[Epoch 1, Batch 2700] Loss: 1.501\n"
          ]
        },
        {
          "output_type": "stream",
          "name": "stderr",
          "text": [
            "Epoch 1/4: 2804it [00:38, 47.76it/s]"
          ]
        },
        {
          "output_type": "stream",
          "name": "stdout",
          "text": [
            "[Epoch 1, Batch 2800] Loss: 1.489\n"
          ]
        },
        {
          "output_type": "stream",
          "name": "stderr",
          "text": [
            "Epoch 1/4: 2910it [00:40, 80.65it/s]"
          ]
        },
        {
          "output_type": "stream",
          "name": "stdout",
          "text": [
            "[Epoch 1, Batch 2900] Loss: 1.453\n"
          ]
        },
        {
          "output_type": "stream",
          "name": "stderr",
          "text": [
            "Epoch 1/4: 3012it [00:41, 71.50it/s]"
          ]
        },
        {
          "output_type": "stream",
          "name": "stdout",
          "text": [
            "[Epoch 1, Batch 3000] Loss: 1.462\n"
          ]
        },
        {
          "output_type": "stream",
          "name": "stderr",
          "text": [
            "Epoch 1/4: 3110it [00:42, 78.38it/s]"
          ]
        },
        {
          "output_type": "stream",
          "name": "stdout",
          "text": [
            "[Epoch 1, Batch 3100] Loss: 1.441\n"
          ]
        },
        {
          "output_type": "stream",
          "name": "stderr",
          "text": [
            "Epoch 1/4: 3216it [00:44, 76.40it/s]"
          ]
        },
        {
          "output_type": "stream",
          "name": "stdout",
          "text": [
            "[Epoch 1, Batch 3200] Loss: 1.447\n"
          ]
        },
        {
          "output_type": "stream",
          "name": "stderr",
          "text": [
            "Epoch 1/4: 3315it [00:45, 88.12it/s]"
          ]
        },
        {
          "output_type": "stream",
          "name": "stdout",
          "text": [
            "[Epoch 1, Batch 3300] Loss: 1.452\n"
          ]
        },
        {
          "output_type": "stream",
          "name": "stderr",
          "text": [
            "Epoch 1/4: 3409it [00:46, 90.75it/s]"
          ]
        },
        {
          "output_type": "stream",
          "name": "stdout",
          "text": [
            "[Epoch 1, Batch 3400] Loss: 1.501\n"
          ]
        },
        {
          "output_type": "stream",
          "name": "stderr",
          "text": [
            "Epoch 1/4: 3512it [00:47, 85.81it/s]"
          ]
        },
        {
          "output_type": "stream",
          "name": "stdout",
          "text": [
            "[Epoch 1, Batch 3500] Loss: 1.477\n"
          ]
        },
        {
          "output_type": "stream",
          "name": "stderr",
          "text": [
            "Epoch 1/4: 3611it [00:49, 67.10it/s]"
          ]
        },
        {
          "output_type": "stream",
          "name": "stdout",
          "text": [
            "[Epoch 1, Batch 3600] Loss: 1.411\n"
          ]
        },
        {
          "output_type": "stream",
          "name": "stderr",
          "text": [
            "Epoch 1/4: 3708it [00:50, 62.98it/s]"
          ]
        },
        {
          "output_type": "stream",
          "name": "stdout",
          "text": [
            "[Epoch 1, Batch 3700] Loss: 1.398\n"
          ]
        },
        {
          "output_type": "stream",
          "name": "stderr",
          "text": [
            "Epoch 1/4: 3808it [00:53, 32.69it/s]"
          ]
        },
        {
          "output_type": "stream",
          "name": "stdout",
          "text": [
            "[Epoch 1, Batch 3800] Loss: 1.445\n"
          ]
        },
        {
          "output_type": "stream",
          "name": "stderr",
          "text": [
            "Epoch 1/4: 3902it [00:56, 30.26it/s]"
          ]
        },
        {
          "output_type": "stream",
          "name": "stdout",
          "text": [
            "[Epoch 1, Batch 3900] Loss: 1.358\n"
          ]
        },
        {
          "output_type": "stream",
          "name": "stderr",
          "text": [
            "Epoch 1/4: 4013it [00:58, 75.97it/s]"
          ]
        },
        {
          "output_type": "stream",
          "name": "stdout",
          "text": [
            "[Epoch 1, Batch 4000] Loss: 1.377\n"
          ]
        },
        {
          "output_type": "stream",
          "name": "stderr",
          "text": [
            "Epoch 1/4: 4110it [00:59, 75.96it/s]"
          ]
        },
        {
          "output_type": "stream",
          "name": "stdout",
          "text": [
            "[Epoch 1, Batch 4100] Loss: 1.364\n"
          ]
        },
        {
          "output_type": "stream",
          "name": "stderr",
          "text": [
            "Epoch 1/4: 4212it [01:01, 81.38it/s]"
          ]
        },
        {
          "output_type": "stream",
          "name": "stdout",
          "text": [
            "[Epoch 1, Batch 4200] Loss: 1.402\n"
          ]
        },
        {
          "output_type": "stream",
          "name": "stderr",
          "text": [
            "Epoch 1/4: 4313it [01:02, 86.65it/s]"
          ]
        },
        {
          "output_type": "stream",
          "name": "stdout",
          "text": [
            "[Epoch 1, Batch 4300] Loss: 1.340\n"
          ]
        },
        {
          "output_type": "stream",
          "name": "stderr",
          "text": [
            "Epoch 1/4: 4404it [01:03, 61.31it/s]"
          ]
        },
        {
          "output_type": "stream",
          "name": "stdout",
          "text": [
            "[Epoch 1, Batch 4400] Loss: 1.345\n"
          ]
        },
        {
          "output_type": "stream",
          "name": "stderr",
          "text": [
            "Epoch 1/4: 4507it [01:05, 55.20it/s]"
          ]
        },
        {
          "output_type": "stream",
          "name": "stdout",
          "text": [
            "[Epoch 1, Batch 4500] Loss: 1.425\n"
          ]
        },
        {
          "output_type": "stream",
          "name": "stderr",
          "text": [
            "Epoch 1/4: 4609it [01:06, 81.80it/s]"
          ]
        },
        {
          "output_type": "stream",
          "name": "stdout",
          "text": [
            "[Epoch 1, Batch 4600] Loss: 1.385\n"
          ]
        },
        {
          "output_type": "stream",
          "name": "stderr",
          "text": [
            "Epoch 1/4: 4714it [01:08, 80.68it/s]"
          ]
        },
        {
          "output_type": "stream",
          "name": "stdout",
          "text": [
            "[Epoch 1, Batch 4700] Loss: 1.363\n"
          ]
        },
        {
          "output_type": "stream",
          "name": "stderr",
          "text": [
            "Epoch 1/4: 4816it [01:09, 83.75it/s]"
          ]
        },
        {
          "output_type": "stream",
          "name": "stdout",
          "text": [
            "[Epoch 1, Batch 4800] Loss: 1.400\n"
          ]
        },
        {
          "output_type": "stream",
          "name": "stderr",
          "text": [
            "Epoch 1/4: 4908it [01:10, 87.23it/s]"
          ]
        },
        {
          "output_type": "stream",
          "name": "stdout",
          "text": [
            "[Epoch 1, Batch 4900] Loss: 1.373\n"
          ]
        },
        {
          "output_type": "stream",
          "name": "stderr",
          "text": [
            "Epoch 1/4: 5010it [01:11, 69.99it/s]"
          ]
        },
        {
          "output_type": "stream",
          "name": "stdout",
          "text": [
            "[Epoch 1, Batch 5000] Loss: 1.453\n"
          ]
        },
        {
          "output_type": "stream",
          "name": "stderr",
          "text": [
            "Epoch 1/4: 5117it [01:13, 81.40it/s]"
          ]
        },
        {
          "output_type": "stream",
          "name": "stdout",
          "text": [
            "[Epoch 1, Batch 5100] Loss: 1.370\n"
          ]
        },
        {
          "output_type": "stream",
          "name": "stderr",
          "text": [
            "Epoch 1/4: 5211it [01:14, 88.03it/s]"
          ]
        },
        {
          "output_type": "stream",
          "name": "stdout",
          "text": [
            "[Epoch 1, Batch 5200] Loss: 1.396\n"
          ]
        },
        {
          "output_type": "stream",
          "name": "stderr",
          "text": [
            "Epoch 1/4: 5313it [01:15, 76.80it/s]"
          ]
        },
        {
          "output_type": "stream",
          "name": "stdout",
          "text": [
            "[Epoch 1, Batch 5300] Loss: 1.324\n"
          ]
        },
        {
          "output_type": "stream",
          "name": "stderr",
          "text": [
            "Epoch 1/4: 5410it [01:17, 54.87it/s]"
          ]
        },
        {
          "output_type": "stream",
          "name": "stdout",
          "text": [
            "[Epoch 1, Batch 5400] Loss: 1.355\n"
          ]
        },
        {
          "output_type": "stream",
          "name": "stderr",
          "text": [
            "Epoch 1/4: 5509it [01:19, 48.55it/s]"
          ]
        },
        {
          "output_type": "stream",
          "name": "stdout",
          "text": [
            "[Epoch 1, Batch 5500] Loss: 1.408\n"
          ]
        },
        {
          "output_type": "stream",
          "name": "stderr",
          "text": [
            "Epoch 1/4: 5556it [01:20, 69.27it/s]\n",
            "Epoch 2/4: 116it [00:01, 85.65it/s]"
          ]
        },
        {
          "output_type": "stream",
          "name": "stdout",
          "text": [
            "[Epoch 2, Batch 100] Loss: 1.292\n"
          ]
        },
        {
          "output_type": "stream",
          "name": "stderr",
          "text": [
            "Epoch 2/4: 207it [00:02, 82.92it/s]"
          ]
        },
        {
          "output_type": "stream",
          "name": "stdout",
          "text": [
            "[Epoch 2, Batch 200] Loss: 1.321\n"
          ]
        },
        {
          "output_type": "stream",
          "name": "stderr",
          "text": [
            "Epoch 2/4: 309it [00:03, 81.09it/s]"
          ]
        },
        {
          "output_type": "stream",
          "name": "stdout",
          "text": [
            "[Epoch 2, Batch 300] Loss: 1.306\n"
          ]
        },
        {
          "output_type": "stream",
          "name": "stderr",
          "text": [
            "Epoch 2/4: 412it [00:04, 87.20it/s]"
          ]
        },
        {
          "output_type": "stream",
          "name": "stdout",
          "text": [
            "[Epoch 2, Batch 400] Loss: 1.268\n"
          ]
        },
        {
          "output_type": "stream",
          "name": "stderr",
          "text": [
            "Epoch 2/4: 514it [00:06, 87.35it/s]"
          ]
        },
        {
          "output_type": "stream",
          "name": "stdout",
          "text": [
            "[Epoch 2, Batch 500] Loss: 1.297\n"
          ]
        },
        {
          "output_type": "stream",
          "name": "stderr",
          "text": [
            "Epoch 2/4: 618it [00:07, 89.66it/s]"
          ]
        },
        {
          "output_type": "stream",
          "name": "stdout",
          "text": [
            "[Epoch 2, Batch 600] Loss: 1.312\n"
          ]
        },
        {
          "output_type": "stream",
          "name": "stderr",
          "text": [
            "Epoch 2/4: 711it [00:08, 84.76it/s]"
          ]
        },
        {
          "output_type": "stream",
          "name": "stdout",
          "text": [
            "[Epoch 2, Batch 700] Loss: 1.243\n"
          ]
        },
        {
          "output_type": "stream",
          "name": "stderr",
          "text": [
            "Epoch 2/4: 815it [00:09, 83.83it/s]"
          ]
        },
        {
          "output_type": "stream",
          "name": "stdout",
          "text": [
            "[Epoch 2, Batch 800] Loss: 1.261\n"
          ]
        },
        {
          "output_type": "stream",
          "name": "stderr",
          "text": [
            "Epoch 2/4: 905it [00:11, 52.09it/s]"
          ]
        },
        {
          "output_type": "stream",
          "name": "stdout",
          "text": [
            "[Epoch 2, Batch 900] Loss: 1.292\n"
          ]
        },
        {
          "output_type": "stream",
          "name": "stderr",
          "text": [
            "Epoch 2/4: 1009it [00:13, 52.84it/s]"
          ]
        },
        {
          "output_type": "stream",
          "name": "stdout",
          "text": [
            "[Epoch 2, Batch 1000] Loss: 1.264\n"
          ]
        },
        {
          "output_type": "stream",
          "name": "stderr",
          "text": [
            "Epoch 2/4: 1111it [00:14, 82.47it/s]"
          ]
        },
        {
          "output_type": "stream",
          "name": "stdout",
          "text": [
            "[Epoch 2, Batch 1100] Loss: 1.284\n"
          ]
        },
        {
          "output_type": "stream",
          "name": "stderr",
          "text": [
            "Epoch 2/4: 1215it [00:15, 87.81it/s]"
          ]
        },
        {
          "output_type": "stream",
          "name": "stdout",
          "text": [
            "[Epoch 2, Batch 1200] Loss: 1.307\n"
          ]
        },
        {
          "output_type": "stream",
          "name": "stderr",
          "text": [
            "Epoch 2/4: 1311it [00:16, 89.15it/s]"
          ]
        },
        {
          "output_type": "stream",
          "name": "stdout",
          "text": [
            "[Epoch 2, Batch 1300] Loss: 1.352\n"
          ]
        },
        {
          "output_type": "stream",
          "name": "stderr",
          "text": [
            "Epoch 2/4: 1411it [00:18, 74.59it/s]"
          ]
        },
        {
          "output_type": "stream",
          "name": "stdout",
          "text": [
            "[Epoch 2, Batch 1400] Loss: 1.266\n"
          ]
        },
        {
          "output_type": "stream",
          "name": "stderr",
          "text": [
            "Epoch 2/4: 1509it [00:19, 70.55it/s]"
          ]
        },
        {
          "output_type": "stream",
          "name": "stdout",
          "text": [
            "[Epoch 2, Batch 1500] Loss: 1.231\n"
          ]
        },
        {
          "output_type": "stream",
          "name": "stderr",
          "text": [
            "Epoch 2/4: 1611it [00:20, 80.38it/s]"
          ]
        },
        {
          "output_type": "stream",
          "name": "stdout",
          "text": [
            "[Epoch 2, Batch 1600] Loss: 1.252\n"
          ]
        },
        {
          "output_type": "stream",
          "name": "stderr",
          "text": [
            "Epoch 2/4: 1714it [00:22, 87.76it/s]"
          ]
        },
        {
          "output_type": "stream",
          "name": "stdout",
          "text": [
            "[Epoch 2, Batch 1700] Loss: 1.287\n"
          ]
        },
        {
          "output_type": "stream",
          "name": "stderr",
          "text": [
            "Epoch 2/4: 1815it [00:23, 88.40it/s]"
          ]
        },
        {
          "output_type": "stream",
          "name": "stdout",
          "text": [
            "[Epoch 2, Batch 1800] Loss: 1.296\n"
          ]
        },
        {
          "output_type": "stream",
          "name": "stderr",
          "text": [
            "Epoch 2/4: 1905it [00:24, 53.84it/s]"
          ]
        },
        {
          "output_type": "stream",
          "name": "stdout",
          "text": [
            "[Epoch 2, Batch 1900] Loss: 1.237\n"
          ]
        },
        {
          "output_type": "stream",
          "name": "stderr",
          "text": [
            "Epoch 2/4: 2006it [00:26, 49.24it/s]"
          ]
        },
        {
          "output_type": "stream",
          "name": "stdout",
          "text": [
            "[Epoch 2, Batch 2000] Loss: 1.231\n"
          ]
        },
        {
          "output_type": "stream",
          "name": "stderr",
          "text": [
            "Epoch 2/4: 2112it [00:28, 76.49it/s]"
          ]
        },
        {
          "output_type": "stream",
          "name": "stdout",
          "text": [
            "[Epoch 2, Batch 2100] Loss: 1.282\n"
          ]
        },
        {
          "output_type": "stream",
          "name": "stderr",
          "text": [
            "Epoch 2/4: 2209it [00:29, 74.42it/s]"
          ]
        },
        {
          "output_type": "stream",
          "name": "stdout",
          "text": [
            "[Epoch 2, Batch 2200] Loss: 1.275\n"
          ]
        },
        {
          "output_type": "stream",
          "name": "stderr",
          "text": [
            "Epoch 2/4: 2317it [00:30, 77.94it/s]"
          ]
        },
        {
          "output_type": "stream",
          "name": "stdout",
          "text": [
            "[Epoch 2, Batch 2300] Loss: 1.212\n"
          ]
        },
        {
          "output_type": "stream",
          "name": "stderr",
          "text": [
            "Epoch 2/4: 2417it [00:32, 84.79it/s]"
          ]
        },
        {
          "output_type": "stream",
          "name": "stdout",
          "text": [
            "[Epoch 2, Batch 2400] Loss: 1.185\n"
          ]
        },
        {
          "output_type": "stream",
          "name": "stderr",
          "text": [
            "Epoch 2/4: 2509it [00:33, 85.76it/s]"
          ]
        },
        {
          "output_type": "stream",
          "name": "stdout",
          "text": [
            "[Epoch 2, Batch 2500] Loss: 1.273\n"
          ]
        },
        {
          "output_type": "stream",
          "name": "stderr",
          "text": [
            "Epoch 2/4: 2610it [00:34, 86.21it/s]"
          ]
        },
        {
          "output_type": "stream",
          "name": "stdout",
          "text": [
            "[Epoch 2, Batch 2600] Loss: 1.294\n"
          ]
        },
        {
          "output_type": "stream",
          "name": "stderr",
          "text": [
            "Epoch 2/4: 2711it [00:35, 84.22it/s]"
          ]
        },
        {
          "output_type": "stream",
          "name": "stdout",
          "text": [
            "[Epoch 2, Batch 2700] Loss: 1.264\n"
          ]
        },
        {
          "output_type": "stream",
          "name": "stderr",
          "text": [
            "Epoch 2/4: 2815it [00:36, 87.17it/s]"
          ]
        },
        {
          "output_type": "stream",
          "name": "stdout",
          "text": [
            "[Epoch 2, Batch 2800] Loss: 1.231\n"
          ]
        },
        {
          "output_type": "stream",
          "name": "stderr",
          "text": [
            "Epoch 2/4: 2912it [00:38, 60.02it/s]"
          ]
        },
        {
          "output_type": "stream",
          "name": "stdout",
          "text": [
            "[Epoch 2, Batch 2900] Loss: 1.278\n"
          ]
        },
        {
          "output_type": "stream",
          "name": "stderr",
          "text": [
            "Epoch 2/4: 3007it [00:39, 55.77it/s]"
          ]
        },
        {
          "output_type": "stream",
          "name": "stdout",
          "text": [
            "[Epoch 2, Batch 3000] Loss: 1.178\n"
          ]
        },
        {
          "output_type": "stream",
          "name": "stderr",
          "text": [
            "Epoch 2/4: 3114it [00:41, 78.95it/s]"
          ]
        },
        {
          "output_type": "stream",
          "name": "stdout",
          "text": [
            "[Epoch 2, Batch 3100] Loss: 1.325\n"
          ]
        },
        {
          "output_type": "stream",
          "name": "stderr",
          "text": [
            "Epoch 2/4: 3213it [00:42, 73.97it/s]"
          ]
        },
        {
          "output_type": "stream",
          "name": "stdout",
          "text": [
            "[Epoch 2, Batch 3200] Loss: 1.265\n"
          ]
        },
        {
          "output_type": "stream",
          "name": "stderr",
          "text": [
            "Epoch 2/4: 3311it [00:44, 85.05it/s]"
          ]
        },
        {
          "output_type": "stream",
          "name": "stdout",
          "text": [
            "[Epoch 2, Batch 3300] Loss: 1.263\n"
          ]
        },
        {
          "output_type": "stream",
          "name": "stderr",
          "text": [
            "Epoch 2/4: 3412it [00:45, 85.75it/s]"
          ]
        },
        {
          "output_type": "stream",
          "name": "stdout",
          "text": [
            "[Epoch 2, Batch 3400] Loss: 1.226\n"
          ]
        },
        {
          "output_type": "stream",
          "name": "stderr",
          "text": [
            "Epoch 2/4: 3507it [00:46, 87.79it/s]"
          ]
        },
        {
          "output_type": "stream",
          "name": "stdout",
          "text": [
            "[Epoch 2, Batch 3500] Loss: 1.192\n"
          ]
        },
        {
          "output_type": "stream",
          "name": "stderr",
          "text": [
            "Epoch 2/4: 3614it [00:47, 87.49it/s]"
          ]
        },
        {
          "output_type": "stream",
          "name": "stdout",
          "text": [
            "[Epoch 2, Batch 3600] Loss: 1.258\n"
          ]
        },
        {
          "output_type": "stream",
          "name": "stderr",
          "text": [
            "Epoch 2/4: 3713it [00:48, 74.62it/s]"
          ]
        },
        {
          "output_type": "stream",
          "name": "stdout",
          "text": [
            "[Epoch 2, Batch 3700] Loss: 1.229\n"
          ]
        },
        {
          "output_type": "stream",
          "name": "stderr",
          "text": [
            "Epoch 2/4: 3812it [00:50, 86.36it/s]"
          ]
        },
        {
          "output_type": "stream",
          "name": "stdout",
          "text": [
            "[Epoch 2, Batch 3800] Loss: 1.288\n"
          ]
        },
        {
          "output_type": "stream",
          "name": "stderr",
          "text": [
            "Epoch 2/4: 3904it [00:51, 69.67it/s]"
          ]
        },
        {
          "output_type": "stream",
          "name": "stdout",
          "text": [
            "[Epoch 2, Batch 3900] Loss: 1.126\n"
          ]
        },
        {
          "output_type": "stream",
          "name": "stderr",
          "text": [
            "Epoch 2/4: 4010it [00:53, 55.18it/s]"
          ]
        },
        {
          "output_type": "stream",
          "name": "stdout",
          "text": [
            "[Epoch 2, Batch 4000] Loss: 1.315\n"
          ]
        },
        {
          "output_type": "stream",
          "name": "stderr",
          "text": [
            "Epoch 2/4: 4115it [00:54, 70.48it/s]"
          ]
        },
        {
          "output_type": "stream",
          "name": "stdout",
          "text": [
            "[Epoch 2, Batch 4100] Loss: 1.294\n"
          ]
        },
        {
          "output_type": "stream",
          "name": "stderr",
          "text": [
            "Epoch 2/4: 4209it [00:55, 86.33it/s]"
          ]
        },
        {
          "output_type": "stream",
          "name": "stdout",
          "text": [
            "[Epoch 2, Batch 4200] Loss: 1.224\n"
          ]
        },
        {
          "output_type": "stream",
          "name": "stderr",
          "text": [
            "Epoch 2/4: 4308it [00:57, 77.89it/s]"
          ]
        },
        {
          "output_type": "stream",
          "name": "stdout",
          "text": [
            "[Epoch 2, Batch 4300] Loss: 1.209\n"
          ]
        },
        {
          "output_type": "stream",
          "name": "stderr",
          "text": [
            "Epoch 2/4: 4411it [00:58, 88.37it/s]"
          ]
        },
        {
          "output_type": "stream",
          "name": "stdout",
          "text": [
            "[Epoch 2, Batch 4400] Loss: 1.291\n"
          ]
        },
        {
          "output_type": "stream",
          "name": "stderr",
          "text": [
            "Epoch 2/4: 4514it [00:59, 88.47it/s]"
          ]
        },
        {
          "output_type": "stream",
          "name": "stdout",
          "text": [
            "[Epoch 2, Batch 4500] Loss: 1.252\n"
          ]
        },
        {
          "output_type": "stream",
          "name": "stderr",
          "text": [
            "Epoch 2/4: 4617it [01:00, 87.97it/s]"
          ]
        },
        {
          "output_type": "stream",
          "name": "stdout",
          "text": [
            "[Epoch 2, Batch 4600] Loss: 1.203\n"
          ]
        },
        {
          "output_type": "stream",
          "name": "stderr",
          "text": [
            "Epoch 2/4: 4717it [01:01, 84.91it/s]"
          ]
        },
        {
          "output_type": "stream",
          "name": "stdout",
          "text": [
            "[Epoch 2, Batch 4700] Loss: 1.285\n"
          ]
        },
        {
          "output_type": "stream",
          "name": "stderr",
          "text": [
            "Epoch 2/4: 4811it [01:03, 85.10it/s]"
          ]
        },
        {
          "output_type": "stream",
          "name": "stdout",
          "text": [
            "[Epoch 2, Batch 4800] Loss: 1.323\n"
          ]
        },
        {
          "output_type": "stream",
          "name": "stderr",
          "text": [
            "Epoch 2/4: 4911it [01:04, 83.87it/s]"
          ]
        },
        {
          "output_type": "stream",
          "name": "stdout",
          "text": [
            "[Epoch 2, Batch 4900] Loss: 1.226\n"
          ]
        },
        {
          "output_type": "stream",
          "name": "stderr",
          "text": [
            "Epoch 2/4: 5007it [01:05, 59.54it/s]"
          ]
        },
        {
          "output_type": "stream",
          "name": "stdout",
          "text": [
            "[Epoch 2, Batch 5000] Loss: 1.196\n"
          ]
        },
        {
          "output_type": "stream",
          "name": "stderr",
          "text": [
            "Epoch 2/4: 5109it [01:07, 49.23it/s]"
          ]
        },
        {
          "output_type": "stream",
          "name": "stdout",
          "text": [
            "[Epoch 2, Batch 5100] Loss: 1.156\n"
          ]
        },
        {
          "output_type": "stream",
          "name": "stderr",
          "text": [
            "Epoch 2/4: 5210it [01:09, 69.89it/s]"
          ]
        },
        {
          "output_type": "stream",
          "name": "stdout",
          "text": [
            "[Epoch 2, Batch 5200] Loss: 1.225\n"
          ]
        },
        {
          "output_type": "stream",
          "name": "stderr",
          "text": [
            "Epoch 2/4: 5313it [01:10, 87.44it/s]"
          ]
        },
        {
          "output_type": "stream",
          "name": "stdout",
          "text": [
            "[Epoch 2, Batch 5300] Loss: 1.206\n"
          ]
        },
        {
          "output_type": "stream",
          "name": "stderr",
          "text": [
            "Epoch 2/4: 5413it [01:12, 87.21it/s]"
          ]
        },
        {
          "output_type": "stream",
          "name": "stdout",
          "text": [
            "[Epoch 2, Batch 5400] Loss: 1.168\n"
          ]
        },
        {
          "output_type": "stream",
          "name": "stderr",
          "text": [
            "Epoch 2/4: 5517it [01:13, 89.05it/s]"
          ]
        },
        {
          "output_type": "stream",
          "name": "stdout",
          "text": [
            "[Epoch 2, Batch 5500] Loss: 1.243\n"
          ]
        },
        {
          "output_type": "stream",
          "name": "stderr",
          "text": [
            "Epoch 2/4: 5556it [01:13, 75.35it/s]\n",
            "Epoch 3/4: 109it [00:01, 88.36it/s]"
          ]
        },
        {
          "output_type": "stream",
          "name": "stdout",
          "text": [
            "[Epoch 3, Batch 100] Loss: 1.164\n"
          ]
        },
        {
          "output_type": "stream",
          "name": "stderr",
          "text": [
            "Epoch 3/4: 212it [00:02, 88.79it/s]"
          ]
        },
        {
          "output_type": "stream",
          "name": "stdout",
          "text": [
            "[Epoch 3, Batch 200] Loss: 1.183\n"
          ]
        },
        {
          "output_type": "stream",
          "name": "stderr",
          "text": [
            "Epoch 3/4: 308it [00:03, 75.26it/s]"
          ]
        },
        {
          "output_type": "stream",
          "name": "stdout",
          "text": [
            "[Epoch 3, Batch 300] Loss: 1.142\n"
          ]
        },
        {
          "output_type": "stream",
          "name": "stderr",
          "text": [
            "Epoch 3/4: 406it [00:05, 55.32it/s]"
          ]
        },
        {
          "output_type": "stream",
          "name": "stdout",
          "text": [
            "[Epoch 3, Batch 400] Loss: 1.176\n"
          ]
        },
        {
          "output_type": "stream",
          "name": "stderr",
          "text": [
            "Epoch 3/4: 504it [00:08, 21.75it/s]"
          ]
        },
        {
          "output_type": "stream",
          "name": "stdout",
          "text": [
            "[Epoch 3, Batch 500] Loss: 1.097\n"
          ]
        },
        {
          "output_type": "stream",
          "name": "stderr",
          "text": [
            "Epoch 3/4: 604it [00:11, 31.44it/s]"
          ]
        },
        {
          "output_type": "stream",
          "name": "stdout",
          "text": [
            "[Epoch 3, Batch 600] Loss: 1.167\n"
          ]
        },
        {
          "output_type": "stream",
          "name": "stderr",
          "text": [
            "Epoch 3/4: 716it [00:13, 83.90it/s]"
          ]
        },
        {
          "output_type": "stream",
          "name": "stdout",
          "text": [
            "[Epoch 3, Batch 700] Loss: 1.183\n"
          ]
        },
        {
          "output_type": "stream",
          "name": "stderr",
          "text": [
            "Epoch 3/4: 817it [00:14, 86.14it/s]"
          ]
        },
        {
          "output_type": "stream",
          "name": "stdout",
          "text": [
            "[Epoch 3, Batch 800] Loss: 1.174\n"
          ]
        },
        {
          "output_type": "stream",
          "name": "stderr",
          "text": [
            "Epoch 3/4: 910it [00:15, 86.63it/s]"
          ]
        },
        {
          "output_type": "stream",
          "name": "stdout",
          "text": [
            "[Epoch 3, Batch 900] Loss: 1.179\n"
          ]
        },
        {
          "output_type": "stream",
          "name": "stderr",
          "text": [
            "Epoch 3/4: 1011it [00:16, 85.24it/s]"
          ]
        },
        {
          "output_type": "stream",
          "name": "stdout",
          "text": [
            "[Epoch 3, Batch 1000] Loss: 1.150\n"
          ]
        },
        {
          "output_type": "stream",
          "name": "stderr",
          "text": [
            "Epoch 3/4: 1102it [00:19, 21.55it/s]"
          ]
        },
        {
          "output_type": "stream",
          "name": "stdout",
          "text": [
            "[Epoch 3, Batch 1100] Loss: 1.142\n"
          ]
        },
        {
          "output_type": "stream",
          "name": "stderr",
          "text": [
            "Epoch 3/4: 1206it [00:23, 40.79it/s]"
          ]
        },
        {
          "output_type": "stream",
          "name": "stdout",
          "text": [
            "[Epoch 3, Batch 1200] Loss: 1.170\n"
          ]
        },
        {
          "output_type": "stream",
          "name": "stderr",
          "text": [
            "Epoch 3/4: 1314it [00:25, 76.85it/s]"
          ]
        },
        {
          "output_type": "stream",
          "name": "stdout",
          "text": [
            "[Epoch 3, Batch 1300] Loss: 1.148\n"
          ]
        },
        {
          "output_type": "stream",
          "name": "stderr",
          "text": [
            "Epoch 3/4: 1417it [00:26, 88.74it/s]"
          ]
        },
        {
          "output_type": "stream",
          "name": "stdout",
          "text": [
            "[Epoch 3, Batch 1400] Loss: 1.210\n"
          ]
        },
        {
          "output_type": "stream",
          "name": "stderr",
          "text": [
            "Epoch 3/4: 1510it [00:27, 86.33it/s]"
          ]
        },
        {
          "output_type": "stream",
          "name": "stdout",
          "text": [
            "[Epoch 3, Batch 1500] Loss: 1.070\n"
          ]
        },
        {
          "output_type": "stream",
          "name": "stderr",
          "text": [
            "Epoch 3/4: 1606it [00:28, 74.53it/s]"
          ]
        },
        {
          "output_type": "stream",
          "name": "stdout",
          "text": [
            "[Epoch 3, Batch 1600] Loss: 1.152\n"
          ]
        },
        {
          "output_type": "stream",
          "name": "stderr",
          "text": [
            "Epoch 3/4: 1711it [00:30, 75.14it/s]"
          ]
        },
        {
          "output_type": "stream",
          "name": "stdout",
          "text": [
            "[Epoch 3, Batch 1700] Loss: 1.176\n"
          ]
        },
        {
          "output_type": "stream",
          "name": "stderr",
          "text": [
            "Epoch 3/4: 1810it [00:31, 73.93it/s]"
          ]
        },
        {
          "output_type": "stream",
          "name": "stdout",
          "text": [
            "[Epoch 3, Batch 1800] Loss: 1.187\n"
          ]
        },
        {
          "output_type": "stream",
          "name": "stderr",
          "text": [
            "Epoch 3/4: 1911it [00:32, 74.67it/s]"
          ]
        },
        {
          "output_type": "stream",
          "name": "stdout",
          "text": [
            "[Epoch 3, Batch 1900] Loss: 1.091\n"
          ]
        },
        {
          "output_type": "stream",
          "name": "stderr",
          "text": [
            "Epoch 3/4: 2010it [00:34, 51.75it/s]"
          ]
        },
        {
          "output_type": "stream",
          "name": "stdout",
          "text": [
            "[Epoch 3, Batch 2000] Loss: 1.098\n"
          ]
        },
        {
          "output_type": "stream",
          "name": "stderr",
          "text": [
            "Epoch 3/4: 2112it [00:37, 54.21it/s]"
          ]
        },
        {
          "output_type": "stream",
          "name": "stdout",
          "text": [
            "[Epoch 3, Batch 2100] Loss: 1.110\n"
          ]
        },
        {
          "output_type": "stream",
          "name": "stderr",
          "text": [
            "Epoch 3/4: 2214it [00:38, 75.21it/s]"
          ]
        },
        {
          "output_type": "stream",
          "name": "stdout",
          "text": [
            "[Epoch 3, Batch 2200] Loss: 1.046\n"
          ]
        },
        {
          "output_type": "stream",
          "name": "stderr",
          "text": [
            "Epoch 3/4: 2306it [00:40, 34.14it/s]"
          ]
        },
        {
          "output_type": "stream",
          "name": "stdout",
          "text": [
            "[Epoch 3, Batch 2300] Loss: 1.126\n"
          ]
        },
        {
          "output_type": "stream",
          "name": "stderr",
          "text": [
            "Epoch 3/4: 2411it [00:42, 88.15it/s]"
          ]
        },
        {
          "output_type": "stream",
          "name": "stdout",
          "text": [
            "[Epoch 3, Batch 2400] Loss: 1.174\n"
          ]
        },
        {
          "output_type": "stream",
          "name": "stderr",
          "text": [
            "Epoch 3/4: 2507it [00:44, 48.25it/s]"
          ]
        },
        {
          "output_type": "stream",
          "name": "stdout",
          "text": [
            "[Epoch 3, Batch 2500] Loss: 1.114\n"
          ]
        },
        {
          "output_type": "stream",
          "name": "stderr",
          "text": [
            "Epoch 3/4: 2612it [00:45, 86.09it/s]"
          ]
        },
        {
          "output_type": "stream",
          "name": "stdout",
          "text": [
            "[Epoch 3, Batch 2600] Loss: 1.134\n"
          ]
        },
        {
          "output_type": "stream",
          "name": "stderr",
          "text": [
            "Epoch 3/4: 2708it [00:46, 84.38it/s]"
          ]
        },
        {
          "output_type": "stream",
          "name": "stdout",
          "text": [
            "[Epoch 3, Batch 2700] Loss: 1.148\n"
          ]
        },
        {
          "output_type": "stream",
          "name": "stderr",
          "text": [
            "Epoch 3/4: 2811it [00:48, 57.56it/s]"
          ]
        },
        {
          "output_type": "stream",
          "name": "stdout",
          "text": [
            "[Epoch 3, Batch 2800] Loss: 1.190\n"
          ]
        },
        {
          "output_type": "stream",
          "name": "stderr",
          "text": [
            "Epoch 3/4: 2904it [00:50, 54.57it/s]"
          ]
        },
        {
          "output_type": "stream",
          "name": "stdout",
          "text": [
            "[Epoch 3, Batch 2900] Loss: 1.207\n"
          ]
        },
        {
          "output_type": "stream",
          "name": "stderr",
          "text": [
            "Epoch 3/4: 3007it [00:52, 49.74it/s]"
          ]
        },
        {
          "output_type": "stream",
          "name": "stdout",
          "text": [
            "[Epoch 3, Batch 3000] Loss: 1.148\n"
          ]
        },
        {
          "output_type": "stream",
          "name": "stderr",
          "text": [
            "Epoch 3/4: 3111it [00:53, 88.56it/s]"
          ]
        },
        {
          "output_type": "stream",
          "name": "stdout",
          "text": [
            "[Epoch 3, Batch 3100] Loss: 1.155\n"
          ]
        },
        {
          "output_type": "stream",
          "name": "stderr",
          "text": [
            "Epoch 3/4: 3208it [00:54, 91.19it/s]"
          ]
        },
        {
          "output_type": "stream",
          "name": "stdout",
          "text": [
            "[Epoch 3, Batch 3200] Loss: 1.163\n"
          ]
        },
        {
          "output_type": "stream",
          "name": "stderr",
          "text": [
            "Epoch 3/4: 3314it [00:55, 82.84it/s]"
          ]
        },
        {
          "output_type": "stream",
          "name": "stdout",
          "text": [
            "[Epoch 3, Batch 3300] Loss: 1.168\n"
          ]
        },
        {
          "output_type": "stream",
          "name": "stderr",
          "text": [
            "Epoch 3/4: 3418it [00:57, 86.80it/s]"
          ]
        },
        {
          "output_type": "stream",
          "name": "stdout",
          "text": [
            "[Epoch 3, Batch 3400] Loss: 1.068\n"
          ]
        },
        {
          "output_type": "stream",
          "name": "stderr",
          "text": [
            "Epoch 3/4: 3511it [00:58, 87.82it/s]"
          ]
        },
        {
          "output_type": "stream",
          "name": "stdout",
          "text": [
            "[Epoch 3, Batch 3500] Loss: 1.109\n"
          ]
        },
        {
          "output_type": "stream",
          "name": "stderr",
          "text": [
            "Epoch 3/4: 3612it [00:59, 77.36it/s]"
          ]
        },
        {
          "output_type": "stream",
          "name": "stdout",
          "text": [
            "[Epoch 3, Batch 3600] Loss: 1.163\n"
          ]
        },
        {
          "output_type": "stream",
          "name": "stderr",
          "text": [
            "Epoch 3/4: 3708it [01:00, 64.77it/s]"
          ]
        },
        {
          "output_type": "stream",
          "name": "stdout",
          "text": [
            "[Epoch 3, Batch 3700] Loss: 1.059\n"
          ]
        },
        {
          "output_type": "stream",
          "name": "stderr",
          "text": [
            "Epoch 3/4: 3809it [01:02, 54.26it/s]"
          ]
        },
        {
          "output_type": "stream",
          "name": "stdout",
          "text": [
            "[Epoch 3, Batch 3800] Loss: 1.115\n"
          ]
        },
        {
          "output_type": "stream",
          "name": "stderr",
          "text": [
            "Epoch 3/4: 3912it [01:04, 77.01it/s]"
          ]
        },
        {
          "output_type": "stream",
          "name": "stdout",
          "text": [
            "[Epoch 3, Batch 3900] Loss: 1.165\n"
          ]
        },
        {
          "output_type": "stream",
          "name": "stderr",
          "text": [
            "Epoch 3/4: 4014it [01:05, 87.87it/s]"
          ]
        },
        {
          "output_type": "stream",
          "name": "stdout",
          "text": [
            "[Epoch 3, Batch 4000] Loss: 1.114\n"
          ]
        },
        {
          "output_type": "stream",
          "name": "stderr",
          "text": [
            "Epoch 3/4: 4115it [01:06, 84.74it/s]"
          ]
        },
        {
          "output_type": "stream",
          "name": "stdout",
          "text": [
            "[Epoch 3, Batch 4100] Loss: 1.135\n"
          ]
        },
        {
          "output_type": "stream",
          "name": "stderr",
          "text": [
            "Epoch 3/4: 4209it [01:07, 87.75it/s]"
          ]
        },
        {
          "output_type": "stream",
          "name": "stdout",
          "text": [
            "[Epoch 3, Batch 4200] Loss: 1.152\n"
          ]
        },
        {
          "output_type": "stream",
          "name": "stderr",
          "text": [
            "Epoch 3/4: 4313it [01:08, 76.74it/s]"
          ]
        },
        {
          "output_type": "stream",
          "name": "stdout",
          "text": [
            "[Epoch 3, Batch 4300] Loss: 1.152\n"
          ]
        },
        {
          "output_type": "stream",
          "name": "stderr",
          "text": [
            "Epoch 3/4: 4416it [01:10, 84.62it/s]"
          ]
        },
        {
          "output_type": "stream",
          "name": "stdout",
          "text": [
            "[Epoch 3, Batch 4400] Loss: 1.103\n"
          ]
        },
        {
          "output_type": "stream",
          "name": "stderr",
          "text": [
            "Epoch 3/4: 4508it [01:12, 37.34it/s]"
          ]
        },
        {
          "output_type": "stream",
          "name": "stdout",
          "text": [
            "[Epoch 3, Batch 4500] Loss: 1.031\n"
          ]
        },
        {
          "output_type": "stream",
          "name": "stderr",
          "text": [
            "Epoch 3/4: 4609it [01:14, 47.36it/s]"
          ]
        },
        {
          "output_type": "stream",
          "name": "stdout",
          "text": [
            "[Epoch 3, Batch 4600] Loss: 1.108\n"
          ]
        },
        {
          "output_type": "stream",
          "name": "stderr",
          "text": [
            "Epoch 3/4: 4704it [01:17, 45.23it/s]"
          ]
        },
        {
          "output_type": "stream",
          "name": "stdout",
          "text": [
            "[Epoch 3, Batch 4700] Loss: 1.212\n"
          ]
        },
        {
          "output_type": "stream",
          "name": "stderr",
          "text": [
            "Epoch 3/4: 4811it [01:19, 53.51it/s]"
          ]
        },
        {
          "output_type": "stream",
          "name": "stdout",
          "text": [
            "[Epoch 3, Batch 4800] Loss: 1.057\n"
          ]
        },
        {
          "output_type": "stream",
          "name": "stderr",
          "text": [
            "Epoch 3/4: 4906it [01:20, 70.08it/s]"
          ]
        },
        {
          "output_type": "stream",
          "name": "stdout",
          "text": [
            "[Epoch 3, Batch 4900] Loss: 1.141\n"
          ]
        },
        {
          "output_type": "stream",
          "name": "stderr",
          "text": [
            "Epoch 3/4: 5009it [01:21, 85.47it/s]"
          ]
        },
        {
          "output_type": "stream",
          "name": "stdout",
          "text": [
            "[Epoch 3, Batch 5000] Loss: 1.138\n"
          ]
        },
        {
          "output_type": "stream",
          "name": "stderr",
          "text": [
            "Epoch 3/4: 5113it [01:23, 85.45it/s]"
          ]
        },
        {
          "output_type": "stream",
          "name": "stdout",
          "text": [
            "[Epoch 3, Batch 5100] Loss: 1.113\n"
          ]
        },
        {
          "output_type": "stream",
          "name": "stderr",
          "text": [
            "Epoch 3/4: 5208it [01:24, 82.33it/s]"
          ]
        },
        {
          "output_type": "stream",
          "name": "stdout",
          "text": [
            "[Epoch 3, Batch 5200] Loss: 1.101\n"
          ]
        },
        {
          "output_type": "stream",
          "name": "stderr",
          "text": [
            "Epoch 3/4: 5316it [01:25, 87.12it/s]"
          ]
        },
        {
          "output_type": "stream",
          "name": "stdout",
          "text": [
            "[Epoch 3, Batch 5300] Loss: 1.101\n"
          ]
        },
        {
          "output_type": "stream",
          "name": "stderr",
          "text": [
            "Epoch 3/4: 5410it [01:26, 85.25it/s]"
          ]
        },
        {
          "output_type": "stream",
          "name": "stdout",
          "text": [
            "[Epoch 3, Batch 5400] Loss: 1.068\n"
          ]
        },
        {
          "output_type": "stream",
          "name": "stderr",
          "text": [
            "Epoch 3/4: 5513it [01:28, 70.99it/s]"
          ]
        },
        {
          "output_type": "stream",
          "name": "stdout",
          "text": [
            "[Epoch 3, Batch 5500] Loss: 1.140\n"
          ]
        },
        {
          "output_type": "stream",
          "name": "stderr",
          "text": [
            "Epoch 3/4: 5556it [01:28, 62.71it/s]\n",
            "Epoch 4/4: 110it [00:01, 69.08it/s]"
          ]
        },
        {
          "output_type": "stream",
          "name": "stdout",
          "text": [
            "[Epoch 4, Batch 100] Loss: 0.989\n"
          ]
        },
        {
          "output_type": "stream",
          "name": "stderr",
          "text": [
            "Epoch 4/4: 208it [00:03, 52.99it/s]"
          ]
        },
        {
          "output_type": "stream",
          "name": "stdout",
          "text": [
            "[Epoch 4, Batch 200] Loss: 1.013\n"
          ]
        },
        {
          "output_type": "stream",
          "name": "stderr",
          "text": [
            "Epoch 4/4: 312it [00:05, 57.93it/s]"
          ]
        },
        {
          "output_type": "stream",
          "name": "stdout",
          "text": [
            "[Epoch 4, Batch 300] Loss: 1.066\n"
          ]
        },
        {
          "output_type": "stream",
          "name": "stderr",
          "text": [
            "Epoch 4/4: 409it [00:06, 77.18it/s]"
          ]
        },
        {
          "output_type": "stream",
          "name": "stdout",
          "text": [
            "[Epoch 4, Batch 400] Loss: 1.008\n"
          ]
        },
        {
          "output_type": "stream",
          "name": "stderr",
          "text": [
            "Epoch 4/4: 511it [00:07, 80.63it/s]"
          ]
        },
        {
          "output_type": "stream",
          "name": "stdout",
          "text": [
            "[Epoch 4, Batch 500] Loss: 1.037\n"
          ]
        },
        {
          "output_type": "stream",
          "name": "stderr",
          "text": [
            "Epoch 4/4: 610it [00:09, 72.91it/s]"
          ]
        },
        {
          "output_type": "stream",
          "name": "stdout",
          "text": [
            "[Epoch 4, Batch 600] Loss: 1.087\n"
          ]
        },
        {
          "output_type": "stream",
          "name": "stderr",
          "text": [
            "Epoch 4/4: 710it [00:10, 81.50it/s]"
          ]
        },
        {
          "output_type": "stream",
          "name": "stdout",
          "text": [
            "[Epoch 4, Batch 700] Loss: 1.058\n"
          ]
        },
        {
          "output_type": "stream",
          "name": "stderr",
          "text": [
            "Epoch 4/4: 811it [00:11, 85.42it/s]"
          ]
        },
        {
          "output_type": "stream",
          "name": "stdout",
          "text": [
            "[Epoch 4, Batch 800] Loss: 1.100\n"
          ]
        },
        {
          "output_type": "stream",
          "name": "stderr",
          "text": [
            "Epoch 4/4: 912it [00:12, 85.97it/s]"
          ]
        },
        {
          "output_type": "stream",
          "name": "stdout",
          "text": [
            "[Epoch 4, Batch 900] Loss: 1.010\n"
          ]
        },
        {
          "output_type": "stream",
          "name": "stderr",
          "text": [
            "Epoch 4/4: 1011it [00:13, 75.86it/s]"
          ]
        },
        {
          "output_type": "stream",
          "name": "stdout",
          "text": [
            "[Epoch 4, Batch 1000] Loss: 1.040\n"
          ]
        },
        {
          "output_type": "stream",
          "name": "stderr",
          "text": [
            "Epoch 4/4: 1108it [00:15, 61.66it/s]"
          ]
        },
        {
          "output_type": "stream",
          "name": "stdout",
          "text": [
            "[Epoch 4, Batch 1100] Loss: 1.130\n"
          ]
        },
        {
          "output_type": "stream",
          "name": "stderr",
          "text": [
            "Epoch 4/4: 1205it [00:17, 33.43it/s]"
          ]
        },
        {
          "output_type": "stream",
          "name": "stdout",
          "text": [
            "[Epoch 4, Batch 1200] Loss: 1.053\n"
          ]
        },
        {
          "output_type": "stream",
          "name": "stderr",
          "text": [
            "Epoch 4/4: 1305it [00:20, 36.95it/s]"
          ]
        },
        {
          "output_type": "stream",
          "name": "stdout",
          "text": [
            "[Epoch 4, Batch 1300] Loss: 1.039\n"
          ]
        },
        {
          "output_type": "stream",
          "name": "stderr",
          "text": [
            "Epoch 4/4: 1407it [00:22, 57.35it/s]"
          ]
        },
        {
          "output_type": "stream",
          "name": "stdout",
          "text": [
            "[Epoch 4, Batch 1400] Loss: 1.044\n"
          ]
        },
        {
          "output_type": "stream",
          "name": "stderr",
          "text": [
            "Epoch 4/4: 1508it [00:23, 59.05it/s]"
          ]
        },
        {
          "output_type": "stream",
          "name": "stdout",
          "text": [
            "[Epoch 4, Batch 1500] Loss: 1.130\n"
          ]
        },
        {
          "output_type": "stream",
          "name": "stderr",
          "text": [
            "Epoch 4/4: 1612it [00:25, 59.16it/s]"
          ]
        },
        {
          "output_type": "stream",
          "name": "stdout",
          "text": [
            "[Epoch 4, Batch 1600] Loss: 1.013\n"
          ]
        },
        {
          "output_type": "stream",
          "name": "stderr",
          "text": [
            "Epoch 4/4: 1706it [00:27, 45.09it/s]"
          ]
        },
        {
          "output_type": "stream",
          "name": "stdout",
          "text": [
            "[Epoch 4, Batch 1700] Loss: 1.053\n"
          ]
        },
        {
          "output_type": "stream",
          "name": "stderr",
          "text": [
            "Epoch 4/4: 1808it [00:30, 45.92it/s]"
          ]
        },
        {
          "output_type": "stream",
          "name": "stdout",
          "text": [
            "[Epoch 4, Batch 1800] Loss: 1.053\n"
          ]
        },
        {
          "output_type": "stream",
          "name": "stderr",
          "text": [
            "Epoch 4/4: 1908it [00:32, 56.01it/s]"
          ]
        },
        {
          "output_type": "stream",
          "name": "stdout",
          "text": [
            "[Epoch 4, Batch 1900] Loss: 0.992\n"
          ]
        },
        {
          "output_type": "stream",
          "name": "stderr",
          "text": [
            "Epoch 4/4: 2005it [00:35, 31.27it/s]"
          ]
        },
        {
          "output_type": "stream",
          "name": "stdout",
          "text": [
            "[Epoch 4, Batch 2000] Loss: 1.085\n"
          ]
        },
        {
          "output_type": "stream",
          "name": "stderr",
          "text": [
            "Epoch 4/4: 2109it [00:38, 53.14it/s]"
          ]
        },
        {
          "output_type": "stream",
          "name": "stdout",
          "text": [
            "[Epoch 4, Batch 2100] Loss: 1.094\n"
          ]
        },
        {
          "output_type": "stream",
          "name": "stderr",
          "text": [
            "Epoch 4/4: 2208it [00:39, 77.84it/s]"
          ]
        },
        {
          "output_type": "stream",
          "name": "stdout",
          "text": [
            "[Epoch 4, Batch 2200] Loss: 1.010\n"
          ]
        },
        {
          "output_type": "stream",
          "name": "stderr",
          "text": [
            "Epoch 4/4: 2305it [00:41, 54.23it/s]"
          ]
        },
        {
          "output_type": "stream",
          "name": "stdout",
          "text": [
            "[Epoch 4, Batch 2300] Loss: 1.030\n"
          ]
        },
        {
          "output_type": "stream",
          "name": "stderr",
          "text": [
            "Epoch 4/4: 2414it [00:43, 71.84it/s]"
          ]
        },
        {
          "output_type": "stream",
          "name": "stdout",
          "text": [
            "[Epoch 4, Batch 2400] Loss: 1.070\n"
          ]
        },
        {
          "output_type": "stream",
          "name": "stderr",
          "text": [
            "Epoch 4/4: 2511it [00:44, 73.33it/s]"
          ]
        },
        {
          "output_type": "stream",
          "name": "stdout",
          "text": [
            "[Epoch 4, Batch 2500] Loss: 1.067\n"
          ]
        },
        {
          "output_type": "stream",
          "name": "stderr",
          "text": [
            "Epoch 4/4: 2606it [00:46, 53.84it/s]"
          ]
        },
        {
          "output_type": "stream",
          "name": "stdout",
          "text": [
            "[Epoch 4, Batch 2600] Loss: 1.050\n"
          ]
        },
        {
          "output_type": "stream",
          "name": "stderr",
          "text": [
            "Epoch 4/4: 2705it [00:47, 51.23it/s]"
          ]
        },
        {
          "output_type": "stream",
          "name": "stdout",
          "text": [
            "[Epoch 4, Batch 2700] Loss: 1.051\n"
          ]
        },
        {
          "output_type": "stream",
          "name": "stderr",
          "text": [
            "Epoch 4/4: 2817it [00:49, 83.72it/s]"
          ]
        },
        {
          "output_type": "stream",
          "name": "stdout",
          "text": [
            "[Epoch 4, Batch 2800] Loss: 1.074\n"
          ]
        },
        {
          "output_type": "stream",
          "name": "stderr",
          "text": [
            "Epoch 4/4: 2916it [00:50, 81.84it/s]"
          ]
        },
        {
          "output_type": "stream",
          "name": "stdout",
          "text": [
            "[Epoch 4, Batch 2900] Loss: 1.058\n"
          ]
        },
        {
          "output_type": "stream",
          "name": "stderr",
          "text": [
            "Epoch 4/4: 3010it [00:51, 80.92it/s]"
          ]
        },
        {
          "output_type": "stream",
          "name": "stdout",
          "text": [
            "[Epoch 4, Batch 3000] Loss: 1.086\n"
          ]
        },
        {
          "output_type": "stream",
          "name": "stderr",
          "text": [
            "Epoch 4/4: 3110it [00:53, 82.71it/s]"
          ]
        },
        {
          "output_type": "stream",
          "name": "stdout",
          "text": [
            "[Epoch 4, Batch 3100] Loss: 1.009\n"
          ]
        },
        {
          "output_type": "stream",
          "name": "stderr",
          "text": [
            "Epoch 4/4: 3212it [00:54, 83.67it/s]"
          ]
        },
        {
          "output_type": "stream",
          "name": "stdout",
          "text": [
            "[Epoch 4, Batch 3200] Loss: 1.061\n"
          ]
        },
        {
          "output_type": "stream",
          "name": "stderr",
          "text": [
            "Epoch 4/4: 3317it [00:55, 88.31it/s]"
          ]
        },
        {
          "output_type": "stream",
          "name": "stdout",
          "text": [
            "[Epoch 4, Batch 3300] Loss: 1.013\n"
          ]
        },
        {
          "output_type": "stream",
          "name": "stderr",
          "text": [
            "Epoch 4/4: 3412it [00:56, 89.17it/s]"
          ]
        },
        {
          "output_type": "stream",
          "name": "stdout",
          "text": [
            "[Epoch 4, Batch 3400] Loss: 1.048\n"
          ]
        },
        {
          "output_type": "stream",
          "name": "stderr",
          "text": [
            "Epoch 4/4: 3516it [00:57, 84.69it/s]"
          ]
        },
        {
          "output_type": "stream",
          "name": "stdout",
          "text": [
            "[Epoch 4, Batch 3500] Loss: 1.005\n"
          ]
        },
        {
          "output_type": "stream",
          "name": "stderr",
          "text": [
            "Epoch 4/4: 3605it [00:59, 62.83it/s]"
          ]
        },
        {
          "output_type": "stream",
          "name": "stdout",
          "text": [
            "[Epoch 4, Batch 3600] Loss: 1.074\n"
          ]
        },
        {
          "output_type": "stream",
          "name": "stderr",
          "text": [
            "Epoch 4/4: 3707it [01:01, 51.99it/s]"
          ]
        },
        {
          "output_type": "stream",
          "name": "stdout",
          "text": [
            "[Epoch 4, Batch 3700] Loss: 1.011\n"
          ]
        },
        {
          "output_type": "stream",
          "name": "stderr",
          "text": [
            "Epoch 4/4: 3811it [01:02, 67.14it/s]"
          ]
        },
        {
          "output_type": "stream",
          "name": "stdout",
          "text": [
            "[Epoch 4, Batch 3800] Loss: 1.067\n"
          ]
        },
        {
          "output_type": "stream",
          "name": "stderr",
          "text": [
            "Epoch 4/4: 3912it [01:04, 83.28it/s]"
          ]
        },
        {
          "output_type": "stream",
          "name": "stdout",
          "text": [
            "[Epoch 4, Batch 3900] Loss: 1.027\n"
          ]
        },
        {
          "output_type": "stream",
          "name": "stderr",
          "text": [
            "Epoch 4/4: 4013it [01:05, 85.83it/s]"
          ]
        },
        {
          "output_type": "stream",
          "name": "stdout",
          "text": [
            "[Epoch 4, Batch 4000] Loss: 1.042\n"
          ]
        },
        {
          "output_type": "stream",
          "name": "stderr",
          "text": [
            "Epoch 4/4: 4109it [01:06, 83.01it/s]"
          ]
        },
        {
          "output_type": "stream",
          "name": "stdout",
          "text": [
            "[Epoch 4, Batch 4100] Loss: 1.103\n"
          ]
        },
        {
          "output_type": "stream",
          "name": "stderr",
          "text": [
            "Epoch 4/4: 4212it [01:07, 87.83it/s]"
          ]
        },
        {
          "output_type": "stream",
          "name": "stdout",
          "text": [
            "[Epoch 4, Batch 4200] Loss: 1.071\n"
          ]
        },
        {
          "output_type": "stream",
          "name": "stderr",
          "text": [
            "Epoch 4/4: 4311it [01:09, 70.94it/s]"
          ]
        },
        {
          "output_type": "stream",
          "name": "stdout",
          "text": [
            "[Epoch 4, Batch 4300] Loss: 1.073\n"
          ]
        },
        {
          "output_type": "stream",
          "name": "stderr",
          "text": [
            "Epoch 4/4: 4411it [01:10, 78.31it/s]"
          ]
        },
        {
          "output_type": "stream",
          "name": "stdout",
          "text": [
            "[Epoch 4, Batch 4400] Loss: 1.098\n"
          ]
        },
        {
          "output_type": "stream",
          "name": "stderr",
          "text": [
            "Epoch 4/4: 4511it [01:11, 81.53it/s]"
          ]
        },
        {
          "output_type": "stream",
          "name": "stdout",
          "text": [
            "[Epoch 4, Batch 4500] Loss: 1.039\n"
          ]
        },
        {
          "output_type": "stream",
          "name": "stderr",
          "text": [
            "Epoch 4/4: 4611it [01:12, 84.03it/s]"
          ]
        },
        {
          "output_type": "stream",
          "name": "stdout",
          "text": [
            "[Epoch 4, Batch 4600] Loss: 1.053\n"
          ]
        },
        {
          "output_type": "stream",
          "name": "stderr",
          "text": [
            "Epoch 4/4: 4707it [01:14, 56.29it/s]"
          ]
        },
        {
          "output_type": "stream",
          "name": "stdout",
          "text": [
            "[Epoch 4, Batch 4700] Loss: 1.054\n"
          ]
        },
        {
          "output_type": "stream",
          "name": "stderr",
          "text": [
            "Epoch 4/4: 4806it [01:16, 53.72it/s]"
          ]
        },
        {
          "output_type": "stream",
          "name": "stdout",
          "text": [
            "[Epoch 4, Batch 4800] Loss: 1.076\n"
          ]
        },
        {
          "output_type": "stream",
          "name": "stderr",
          "text": [
            "Epoch 4/4: 4918it [01:17, 85.86it/s]"
          ]
        },
        {
          "output_type": "stream",
          "name": "stdout",
          "text": [
            "[Epoch 4, Batch 4900] Loss: 1.012\n"
          ]
        },
        {
          "output_type": "stream",
          "name": "stderr",
          "text": [
            "Epoch 4/4: 5009it [01:18, 85.54it/s]"
          ]
        },
        {
          "output_type": "stream",
          "name": "stdout",
          "text": [
            "[Epoch 4, Batch 5000] Loss: 1.135\n"
          ]
        },
        {
          "output_type": "stream",
          "name": "stderr",
          "text": [
            "Epoch 4/4: 5111it [01:19, 88.72it/s]"
          ]
        },
        {
          "output_type": "stream",
          "name": "stdout",
          "text": [
            "[Epoch 4, Batch 5100] Loss: 1.023\n"
          ]
        },
        {
          "output_type": "stream",
          "name": "stderr",
          "text": [
            "Epoch 4/4: 5213it [01:21, 85.05it/s]"
          ]
        },
        {
          "output_type": "stream",
          "name": "stdout",
          "text": [
            "[Epoch 4, Batch 5200] Loss: 1.036\n"
          ]
        },
        {
          "output_type": "stream",
          "name": "stderr",
          "text": [
            "Epoch 4/4: 5314it [01:22, 84.60it/s]"
          ]
        },
        {
          "output_type": "stream",
          "name": "stdout",
          "text": [
            "[Epoch 4, Batch 5300] Loss: 0.997\n"
          ]
        },
        {
          "output_type": "stream",
          "name": "stderr",
          "text": [
            "Epoch 4/4: 5416it [01:23, 81.68it/s]"
          ]
        },
        {
          "output_type": "stream",
          "name": "stdout",
          "text": [
            "[Epoch 4, Batch 5400] Loss: 1.038\n"
          ]
        },
        {
          "output_type": "stream",
          "name": "stderr",
          "text": [
            "Epoch 4/4: 5509it [01:24, 80.49it/s]"
          ]
        },
        {
          "output_type": "stream",
          "name": "stdout",
          "text": [
            "[Epoch 4, Batch 5500] Loss: 1.137\n"
          ]
        },
        {
          "output_type": "stream",
          "name": "stderr",
          "text": [
            "Epoch 4/4: 5556it [01:25, 65.20it/s]"
          ]
        },
        {
          "output_type": "stream",
          "name": "stdout",
          "text": [
            "Finished Training after 328.07 seconds\n"
          ]
        },
        {
          "output_type": "stream",
          "name": "stderr",
          "text": [
            "\n"
          ]
        },
        {
          "output_type": "stream",
          "name": "stdout",
          "text": [
            "Accuracy on the test set (Epoch N/A): 60.22%\n",
            "Finished Testing after 8.53 seconds\n"
          ]
        }
      ],
      "source": [
        "# Train your neural network here.\n",
        "# start = time.time() # I started the timer when training/test begins\n",
        "max_epoch = 4 # Set the number of epochs\n",
        "# ----------- <Your code> ---------------\n",
        "\n",
        "\n",
        "# Define the network\n",
        "net = Net().to(device)\n",
        "\n",
        "# Define the loss function and optimizer\n",
        "criterion = nn.CrossEntropyLoss()\n",
        "# optimizer = optim.SGD(net.parameters(), lr=0.001, momentum=0.9) # Using SGD optimizer\n",
        "optimizer = optim.Adam(net.parameters(), lr=0.001)  # Using Adam optimizer\n",
        "\n",
        "# Function to train the neural network\n",
        "def train(net, criterion, train_loader, optimizer, max_epoch):\n",
        "    net.train()  # Set the model to training mode\n",
        "    for epoch in range(max_epoch):\n",
        "        running_loss = 0.0\n",
        "\n",
        "        # Use tqdm to show progress bar for the training loop\n",
        "        for i, data in tqdm(enumerate(train_loader, 0), desc=f\"Epoch {epoch + 1}/{max_epoch}\"):\n",
        "            inputs, labels = data[0].to(device), data[1].to(device)\n",
        "\n",
        "            # Zero the parameter gradients\n",
        "            optimizer.zero_grad()\n",
        "\n",
        "            # Forward pass\n",
        "            outputs = net(inputs)\n",
        "            loss = criterion(outputs, labels)\n",
        "\n",
        "            # Backward pass and optimization\n",
        "            loss.backward()\n",
        "            optimizer.step()\n",
        "\n",
        "            running_loss += loss.item()\n",
        "            if i % 100 == 99:  # Print every 100 mini-batches\n",
        "                print(f'[Epoch {epoch + 1}, Batch {i + 1}] Loss: {running_loss / 100:.3f}')\n",
        "                running_loss = 0.0\n",
        "\n",
        "\n",
        "# Train the neural network\n",
        "start = time.time()\n",
        "max_epoch = 4  # Set the number of epochs\n",
        "train(net, criterion, train_loader, optimizer, max_epoch)\n",
        "end = time.time()\n",
        "print(f'Finished Training after {end - start:.2f} seconds')\n",
        "\n",
        "\n",
        "# Function to test the neural network\n",
        "def test(net, criterion, test_loader, epoch=1):\n",
        "    net.eval()  # Set the model to evaluation mode\n",
        "    correct = 0\n",
        "    total = 0\n",
        "    all_predictions = []\n",
        "\n",
        "    with torch.no_grad():  # No need to calculate gradients during evaluation\n",
        "        for data in test_loader:\n",
        "            images, labels = data[0].to(device), data[1].to(device)\n",
        "            outputs = net(images)\n",
        "            _, predicted = torch.max(outputs.data, 1)\n",
        "            all_predictions.append(predicted)\n",
        "            total += labels.size(0)\n",
        "            correct += (predicted == labels).sum().item()\n",
        "\n",
        "    accuracy = 100 * correct / total\n",
        "    print(f'Accuracy on the test set (Epoch {epoch if epoch is not None else \"N/A\"}): {accuracy:.2f}%')\n",
        "    all_preds = torch.cat(all_predictions).cpu()\n",
        "    return {'prediction': all_predictions, 'accuracy': accuracy}  # Return a dictionary\n",
        "\n",
        "start = time.time()\n",
        "# ----------- <End Your code> ---------------\n",
        "output = test(net, criterion, test_loader, epoch= None)\n",
        "end = time.time()\n",
        "print(f'Finished Testing after {end - start:.2f} seconds')"
      ]
    },
    {
      "cell_type": "markdown",
      "metadata": {
        "id": "xMn0h-1J8Ngl"
      },
      "source": [
        "Test accuracy above 50% achieved!"
      ]
    },
    {
      "cell_type": "markdown",
      "metadata": {
        "id": "hS1mXr9Cl6pM"
      },
      "source": [
        "### Task 3: Plot misclassified test images\n",
        "Plot some misclassified images in your test dataset:\n",
        "\n",
        "*   select three images that are **misclassified** by your neural network\n",
        "*   label each images with true label and predicted label\n",
        "*   use `detach().cpu()` when plotting images if the image is in gpu"
      ]
    },
    {
      "cell_type": "code",
      "execution_count": null,
      "metadata": {
        "colab": {
          "base_uri": "https://localhost:8080/",
          "height": 445
        },
        "id": "xd8vWof8nIHw",
        "outputId": "231caa85-9fc0-424c-8a83-ab69a5aa8f73"
      },
      "outputs": [
        {
          "output_type": "display_data",
          "data": {
            "text/plain": [
              "<Figure size 1500x500 with 3 Axes>"
            ],
            "image/png": "[encoded data removed]"
          },
          "metadata": {}
        }
      ],
      "source": [
        "total_images = 3\n",
        "predictions = output['prediction']\n",
        "targets = torch.tensor(testset.targets)\n",
        "\n",
        "# ----------- <Your code> ---------------\n",
        "\n",
        "# Identify misclassified indices\n",
        "misclassified_indices = []\n",
        "all_predictions = torch.cat(output['prediction'])\n",
        "\n",
        "# Append to the list of all miscalssified indices\n",
        "for i in range(len(all_predictions)):\n",
        "    if all_predictions[i] != targets[i]:\n",
        "        misclassified_indices.append(i)\n",
        "\n",
        "# Convert to tensor\n",
        "misclassified_indices = torch.tensor(misclassified_indices)\n",
        "\n",
        "# Select three random misclassified images\n",
        "total_images = 3\n",
        "# misclassified_images = misclassified_indices[:total_images]\n",
        "misclassified_images = misclassified_indices[torch.randperm(len(misclassified_indices))[:total_images]]\n",
        "# Plot misclassified images\n",
        "fig, ax = plt.subplots(1, total_images, figsize=(15, 5))\n",
        "for i, index in enumerate(misclassified_images):\n",
        "    image = testset.data[index].transpose((2, 0, 1))  # Transpose to (Channel, Height, Width)\n",
        "    image = torch.tensor(image).float() / 255.0  # Normalize image to [0, 1]\n",
        "\n",
        "    # Check if image is on GPU and move to CPU if necessary\n",
        "    # Move to CPU and detach from graph as per guideline\n",
        "    if image.is_cuda:\n",
        "        image = image.detach().cpu()\n",
        "    ax[i].imshow(image.permute(1, 2, 0).detach().cpu())\n",
        "\n",
        "    # Convert true and predicted class indices\n",
        "    true_class_index = targets[index].cpu().numpy().item() # True label\n",
        "    pred_class_index = all_predictions[index].cpu().numpy().item() # Predicted label\n",
        "    # Define label per panel\n",
        "    ax[i].set_title(f'True Label: {classes[true_class_index]}, \\nPredicted Label: {classes[pred_class_index]}')\n",
        "    ax[i].axis('on')\n",
        "\n",
        "plt.show()\n",
        "\n",
        "# ----------- <End Your code> ---------------"
      ]
    },
    {
      "cell_type": "markdown",
      "metadata": {
        "id": "jQSHPJdLPS6x"
      },
      "source": [
        "Below is ungraded and for my own curiosity"
      ]
    },
    {
      "cell_type": "code",
      "execution_count": null,
      "metadata": {
        "colab": {
          "base_uri": "https://localhost:8080/",
          "height": 1000
        },
        "id": "MPd9d5TaPS6x",
        "outputId": "d835dde1-bdcd-4e26-cbf9-f6440209f626"
      },
      "outputs": [
        {
          "output_type": "display_data",
          "data": {
            "text/plain": [
              "<Figure size 1200x1200 with 36 Axes>"
            ],
            "image/png": "[encoded data removed]"
          },
          "metadata": {}
        }
      ],
      "source": [
        "# Number of random images to display in 6x6 Grid\n",
        "total_images = 36\n",
        "predictions = torch.cat(output['prediction'])\n",
        "targets = torch.tensor(testset.targets)\n",
        "\n",
        "# Randomly select any 36 images from the test set\n",
        "random_indices = torch.randperm(len(testset))[:total_images]\n",
        "# Create a 6x6 grid for plotting\n",
        "fig, ax = plt.subplots(6, 6, figsize=(12, 12))\n",
        "# Plot the randomly selected images\n",
        "for i, index in enumerate(random_indices):\n",
        "    image = testset.data[index].transpose((2, 0, 1))\n",
        "    image = image / 255.0\n",
        "    row, col = divmod(i, 6)\n",
        "    ax[row, col].imshow(image.transpose(1, 2, 0))\n",
        "    true_label = classes[targets[index].item()]\n",
        "    pred_label = classes[predictions[index].item()]\n",
        "    ax[row, col].set_title(f'True: {true_label}\\nPred: {pred_label}', fontsize=8)\n",
        "    ax[row, col].axis('on')\n",
        "plt.tight_layout()\n",
        "plt.show()"
      ]
    },
    {
      "cell_type": "markdown",
      "metadata": {
        "id": "W2ZVJYKtL5yN"
      },
      "source": [
        "Questions (0 points): Are the mis-classified images also misleading to human eyes?"
      ]
    },
    {
      "cell_type": "markdown",
      "metadata": {
        "id": "N4NfHMwcDjQZ"
      },
      "source": [
        "Only in some cases pixelated images are misleading to even human eyes."
      ]
    },
    {
      "cell_type": "markdown",
      "metadata": {
        "id": "INN54zXpTcZw"
      },
      "source": [
        "## Exercise 3: Transfer Learning (30 points)"
      ]
    },
    {
      "cell_type": "markdown",
      "metadata": {
        "id": "IgDHswfp0k7m"
      },
      "source": [
        "In practice, people won't train an entire CNN from scratch, because it is relatively rare to have a dataset of sufficient size (or sufficient computational power). Instead, it is common to pretrain a CNN on a very large dataset and then use the CNN either as an initialization or a fixed feature extractor for the task of interest.\n",
        "\n",
        "In this task, you will learn how to use a pretrained CNN for CIFAR-10 classification."
      ]
    },
    {
      "cell_type": "markdown",
      "metadata": {
        "id": "f21CjwoW8ty5"
      },
      "source": [
        "### Task1: Load pretrained model"
      ]
    },
    {
      "cell_type": "markdown",
      "metadata": {
        "id": "VZ-21Pv183TX"
      },
      "source": [
        "`torchvision.models` (https://pytorch.org/vision/stable/models.html) contains definitions of models for addressing different tasks, including: image classification, pixelwise semantic segmentation, object detection, instance segmentation, person keypoint detection and video classification.\n",
        "\n",
        "First, you should load the **pretrained** ResNet-18 that has already been trained on [ImageNet](https://www.image-net.org/) using `torchvision.models`. If you are interested in more details about Resnet-18, read this paper https://arxiv.org/pdf/1512.03385.pdf."
      ]
    },
    {
      "cell_type": "code",
      "execution_count": null,
      "metadata": {
        "colab": {
          "base_uri": "https://localhost:8080/"
        },
        "collapsed": true,
        "id": "KaHP0VfAVuDY",
        "outputId": "673d92b3-b13c-4e5a-ef0c-4da366aa5010"
      },
      "outputs": [
        {
          "output_type": "stream",
          "name": "stderr",
          "text": [
            "/usr/local/lib/python3.10/dist-packages/torchvision/models/_utils.py:208: UserWarning: The parameter 'pretrained' is deprecated since 0.13 and may be removed in the future, please use 'weights' instead.\n",
            "  warnings.warn(\n",
            "/usr/local/lib/python3.10/dist-packages/torchvision/models/_utils.py:223: UserWarning: Arguments other than a weight enum or `None` for 'weights' are deprecated since 0.13 and may be removed in the future. The current behavior is equivalent to passing `weights=ResNet18_Weights.IMAGENET1K_V1`. You can also use `weights=ResNet18_Weights.DEFAULT` to get the most up-to-date weights.\n",
            "  warnings.warn(msg)\n",
            "Downloading: \"https://download.pytorch.org/models/resnet18-f37072fd.pth\" to /root/.cache/torch/hub/checkpoints/resnet18-f37072fd.pth\n",
            "100%|██████████| 44.7M/44.7M [00:00<00:00, 161MB/s]\n"
          ]
        },
        {
          "output_type": "stream",
          "name": "stdout",
          "text": [
            "ResNet(\n",
            "  (conv1): Conv2d(3, 64, kernel_size=(7, 7), stride=(2, 2), padding=(3, 3), bias=False)\n",
            "  (bn1): BatchNorm2d(64, eps=1e-05, momentum=0.1, affine=True, track_running_stats=True)\n",
            "  (relu): ReLU(inplace=True)\n",
            "  (maxpool): MaxPool2d(kernel_size=3, stride=2, padding=1, dilation=1, ceil_mode=False)\n",
            "  (layer1): Sequential(\n",
            "    (0): BasicBlock(\n",
            "      (conv1): Conv2d(64, 64, kernel_size=(3, 3), stride=(1, 1), padding=(1, 1), bias=False)\n",
            "      (bn1): BatchNorm2d(64, eps=1e-05, momentum=0.1, affine=True, track_running_stats=True)\n",
            "      (relu): ReLU(inplace=True)\n",
            "      (conv2): Conv2d(64, 64, kernel_size=(3, 3), stride=(1, 1), padding=(1, 1), bias=False)\n",
            "      (bn2): BatchNorm2d(64, eps=1e-05, momentum=0.1, affine=True, track_running_stats=True)\n",
            "    )\n",
            "    (1): BasicBlock(\n",
            "      (conv1): Conv2d(64, 64, kernel_size=(3, 3), stride=(1, 1), padding=(1, 1), bias=False)\n",
            "      (bn1): BatchNorm2d(64, eps=1e-05, momentum=0.1, affine=True, track_running_stats=True)\n",
            "      (relu): ReLU(inplace=True)\n",
            "      (conv2): Conv2d(64, 64, kernel_size=(3, 3), stride=(1, 1), padding=(1, 1), bias=False)\n",
            "      (bn2): BatchNorm2d(64, eps=1e-05, momentum=0.1, affine=True, track_running_stats=True)\n",
            "    )\n",
            "  )\n",
            "  (layer2): Sequential(\n",
            "    (0): BasicBlock(\n",
            "      (conv1): Conv2d(64, 128, kernel_size=(3, 3), stride=(2, 2), padding=(1, 1), bias=False)\n",
            "      (bn1): BatchNorm2d(128, eps=1e-05, momentum=0.1, affine=True, track_running_stats=True)\n",
            "      (relu): ReLU(inplace=True)\n",
            "      (conv2): Conv2d(128, 128, kernel_size=(3, 3), stride=(1, 1), padding=(1, 1), bias=False)\n",
            "      (bn2): BatchNorm2d(128, eps=1e-05, momentum=0.1, affine=True, track_running_stats=True)\n",
            "      (downsample): Sequential(\n",
            "        (0): Conv2d(64, 128, kernel_size=(1, 1), stride=(2, 2), bias=False)\n",
            "        (1): BatchNorm2d(128, eps=1e-05, momentum=0.1, affine=True, track_running_stats=True)\n",
            "      )\n",
            "    )\n",
            "    (1): BasicBlock(\n",
            "      (conv1): Conv2d(128, 128, kernel_size=(3, 3), stride=(1, 1), padding=(1, 1), bias=False)\n",
            "      (bn1): BatchNorm2d(128, eps=1e-05, momentum=0.1, affine=True, track_running_stats=True)\n",
            "      (relu): ReLU(inplace=True)\n",
            "      (conv2): Conv2d(128, 128, kernel_size=(3, 3), stride=(1, 1), padding=(1, 1), bias=False)\n",
            "      (bn2): BatchNorm2d(128, eps=1e-05, momentum=0.1, affine=True, track_running_stats=True)\n",
            "    )\n",
            "  )\n",
            "  (layer3): Sequential(\n",
            "    (0): BasicBlock(\n",
            "      (conv1): Conv2d(128, 256, kernel_size=(3, 3), stride=(2, 2), padding=(1, 1), bias=False)\n",
            "      (bn1): BatchNorm2d(256, eps=1e-05, momentum=0.1, affine=True, track_running_stats=True)\n",
            "      (relu): ReLU(inplace=True)\n",
            "      (conv2): Conv2d(256, 256, kernel_size=(3, 3), stride=(1, 1), padding=(1, 1), bias=False)\n",
            "      (bn2): BatchNorm2d(256, eps=1e-05, momentum=0.1, affine=True, track_running_stats=True)\n",
            "      (downsample): Sequential(\n",
            "        (0): Conv2d(128, 256, kernel_size=(1, 1), stride=(2, 2), bias=False)\n",
            "        (1): BatchNorm2d(256, eps=1e-05, momentum=0.1, affine=True, track_running_stats=True)\n",
            "      )\n",
            "    )\n",
            "    (1): BasicBlock(\n",
            "      (conv1): Conv2d(256, 256, kernel_size=(3, 3), stride=(1, 1), padding=(1, 1), bias=False)\n",
            "      (bn1): BatchNorm2d(256, eps=1e-05, momentum=0.1, affine=True, track_running_stats=True)\n",
            "      (relu): ReLU(inplace=True)\n",
            "      (conv2): Conv2d(256, 256, kernel_size=(3, 3), stride=(1, 1), padding=(1, 1), bias=False)\n",
            "      (bn2): BatchNorm2d(256, eps=1e-05, momentum=0.1, affine=True, track_running_stats=True)\n",
            "    )\n",
            "  )\n",
            "  (layer4): Sequential(\n",
            "    (0): BasicBlock(\n",
            "      (conv1): Conv2d(256, 512, kernel_size=(3, 3), stride=(2, 2), padding=(1, 1), bias=False)\n",
            "      (bn1): BatchNorm2d(512, eps=1e-05, momentum=0.1, affine=True, track_running_stats=True)\n",
            "      (relu): ReLU(inplace=True)\n",
            "      (conv2): Conv2d(512, 512, kernel_size=(3, 3), stride=(1, 1), padding=(1, 1), bias=False)\n",
            "      (bn2): BatchNorm2d(512, eps=1e-05, momentum=0.1, affine=True, track_running_stats=True)\n",
            "      (downsample): Sequential(\n",
            "        (0): Conv2d(256, 512, kernel_size=(1, 1), stride=(2, 2), bias=False)\n",
            "        (1): BatchNorm2d(512, eps=1e-05, momentum=0.1, affine=True, track_running_stats=True)\n",
            "      )\n",
            "    )\n",
            "    (1): BasicBlock(\n",
            "      (conv1): Conv2d(512, 512, kernel_size=(3, 3), stride=(1, 1), padding=(1, 1), bias=False)\n",
            "      (bn1): BatchNorm2d(512, eps=1e-05, momentum=0.1, affine=True, track_running_stats=True)\n",
            "      (relu): ReLU(inplace=True)\n",
            "      (conv2): Conv2d(512, 512, kernel_size=(3, 3), stride=(1, 1), padding=(1, 1), bias=False)\n",
            "      (bn2): BatchNorm2d(512, eps=1e-05, momentum=0.1, affine=True, track_running_stats=True)\n",
            "    )\n",
            "  )\n",
            "  (avgpool): AdaptiveAvgPool2d(output_size=(1, 1))\n",
            "  (fc): Linear(in_features=512, out_features=1000, bias=True)\n",
            ")\n"
          ]
        }
      ],
      "source": [
        "resnet18 = models.resnet18(pretrained=True)\n",
        "resnet18 = resnet18.to(device)\n",
        "print(resnet18) # Check architechture"
      ]
    },
    {
      "cell_type": "markdown",
      "metadata": {
        "id": "CTx2TdFpynEW"
      },
      "source": [
        "Here is better way to vizulalize. https://github.com/mert-kurttutan/torchview"
      ]
    },
    {
      "cell_type": "code",
      "execution_count": null,
      "metadata": {
        "colab": {
          "base_uri": "https://localhost:8080/",
          "height": 1000
        },
        "id": "TXQoh4rE6z0r",
        "outputId": "16010bc2-092e-4f0f-a79a-dbf4827a3322"
      },
      "outputs": [
        {
          "output_type": "stream",
          "name": "stdout",
          "text": [
            "Collecting torchview\n",
            "  Downloading torchview-0.2.6-py3-none-any.whl.metadata (12 kB)\n",
            "Downloading torchview-0.2.6-py3-none-any.whl (25 kB)\n",
            "Installing collected packages: torchview\n",
            "Successfully installed torchview-0.2.6\n",
            "Requirement already satisfied: graphviz in /usr/local/lib/python3.10/dist-packages (0.20.3)\n"
          ]
        },
        {
          "output_type": "execute_result",
          "data": {
            "image/png": "[encoded data removed]",
            "text/plain": [
              "<graphviz.graphs.Digraph at 0x7a7bf1f37010>"
            ]
          },
          "metadata": {},
          "execution_count": 6
        }
      ],
      "source": [
        "!pip install torchview\n",
        "!pip install graphviz\n",
        "import graphviz\n",
        "from torchview import draw_graph\n",
        "from torchvision.models import resnet18\n",
        "import torch.nn as nn\n",
        "import torch.optim as optim\n",
        "graphviz.set_jupyter_format('png')\n",
        "\n",
        "model_graph = draw_graph(resnet18(), input_size=(1,3,32,32))\n",
        "model_graph.visual_graph"
      ]
    },
    {
      "cell_type": "markdown",
      "metadata": {
        "id": "MtQkZUZH84q8"
      },
      "source": [
        "### Task2: Create data loaders for CIFAR-10"
      ]
    },
    {
      "cell_type": "markdown",
      "metadata": {
        "id": "GTlRo-CJ4GQD"
      },
      "source": [
        "Then you need to create a modified dataset and dataloader for CIFAR-10. Importantly, the model you load has been trained on **ImageNet** and it expects inputs as mini-batches of 3-channel RGB images of shape (3 x H x W), where H and W are expected to be **at least** 224. So you need to preprocess the CIFAR-10 data to make sure it has a height and width of 224. Thus, you should add a transform when loading the CIFAR10 dataset (see [`torchvision.transforms.Resize`](https://pytorch.org/vision/stable/transforms.html#torchvision.transforms.Resize)).\n",
        "This should be added appropriately to the `transform` you created in a previous task."
      ]
    },
    {
      "cell_type": "code",
      "execution_count": null,
      "metadata": {
        "colab": {
          "base_uri": "https://localhost:8080/"
        },
        "id": "lhFys7OQV1Wj",
        "outputId": "3ed934fa-0cb8-4f3f-8c0a-fef17e0740c6"
      },
      "outputs": [
        {
          "output_type": "stream",
          "name": "stdout",
          "text": [
            "Downloading https://www.cs.toronto.edu/~kriz/cifar-10-python.tar.gz to ./data/cifar-10-python.tar.gz\n"
          ]
        },
        {
          "output_type": "stream",
          "name": "stderr",
          "text": [
            "100%|██████████| 170498071/170498071 [00:01<00:00, 86673716.70it/s] \n"
          ]
        },
        {
          "output_type": "stream",
          "name": "stdout",
          "text": [
            "Extracting ./data/cifar-10-python.tar.gz to ./data\n",
            "Files already downloaded and verified\n"
          ]
        }
      ],
      "source": [
        "# Create your dataloader here\n",
        "# ----------- <Your code> ---------------\n",
        "\n",
        "# Define the transform\n",
        "transform = transforms.Compose([\n",
        "    transforms.Resize((224, 224)),  # Resize images to 224x224 HxW\n",
        "    transforms.ToTensor(),          # Convert images to PyTorch tensors\n",
        "    transforms.Normalize(mean=[0.485, 0.456, 0.406], std=[0.229, 0.224, 0.225]),  # Normalize (https://pytorch.org/vision/2.0/models/generated/torchvision.models.resnet18.html)\n",
        "])\n",
        "\n",
        "# Create the CIFAR-10 training dataset\n",
        "cifar10_train_dataset = datasets.CIFAR10(root='./data', train=True, download=True, transform=transform)\n",
        "\n",
        "# Create the DataLoader for the training dataset\n",
        "cifar10_train_loader = DataLoader(cifar10_train_dataset, batch_size=32, shuffle=True)\n",
        "\n",
        "# Create the CIFAR-10 test dataset\n",
        "cifar10_test_dataset = datasets.CIFAR10(root='./data', train=False, download=True, transform=transform)\n",
        "\n",
        "# Create the DataLoader for the test dataset\n",
        "cifar10_test_loader = DataLoader(cifar10_test_dataset, batch_size=32, shuffle=False)\n",
        "\n",
        "# ----------- <End Your code> ---------------"
      ]
    },
    {
      "cell_type": "markdown",
      "metadata": {
        "id": "k8nR_aBi9Atb"
      },
      "source": [
        "### Task3: Classify test data on pretrained model"
      ]
    },
    {
      "cell_type": "markdown",
      "metadata": {
        "id": "N8IXXu-J9grR"
      },
      "source": [
        "Use the model you load to classify the **test** CIFAR-10 data and print out the test accuracy.\n",
        "\n",
        "Don't be surprised if the accuracy is bad!"
      ]
    },
    {
      "cell_type": "code",
      "execution_count": null,
      "metadata": {
        "colab": {
          "base_uri": "https://localhost:8080/"
        },
        "collapsed": true,
        "id": "JOuCodyJ4FYp",
        "outputId": "f3644cf2-5f2a-4b65-bb8a-80928d6a8136"
      },
      "outputs": [
        {
          "output_type": "stream",
          "name": "stderr",
          "text": [
            "/usr/local/lib/python3.10/dist-packages/torchvision/models/_utils.py:208: UserWarning: The parameter 'pretrained' is deprecated since 0.13 and may be removed in the future, please use 'weights' instead.\n",
            "  warnings.warn(\n",
            "/usr/local/lib/python3.10/dist-packages/torchvision/models/_utils.py:223: UserWarning: Arguments other than a weight enum or `None` for 'weights' are deprecated since 0.13 and may be removed in the future. The current behavior is equivalent to passing `weights=ResNet18_Weights.IMAGENET1K_V1`. You can also use `weights=ResNet18_Weights.DEFAULT` to get the most up-to-date weights.\n",
            "  warnings.warn(msg)\n"
          ]
        },
        {
          "output_type": "stream",
          "name": "stdout",
          "text": [
            "Batch 100: Loss so far: 13.5618, Accuracy so far: 0.00%\n",
            "Batch 200: Loss so far: 13.5605, Accuracy so far: 0.00%\n",
            "Batch 300: Loss so far: 13.5504, Accuracy so far: 0.00%\n",
            "Test result on epoch 1: Avg loss: 13.5529, Accuracy: 0.00%\n"
          ]
        }
      ],
      "source": [
        "# ----------- <Your code> ---------------\n",
        "\n",
        "# Load original pretrained ResNet18 model\n",
        "original_resnet18 = models.resnet18(pretrained=True)\n",
        "# Move model to the appropriate device (GPU if available)\n",
        "original_resnet18.to(device)\n",
        "\n",
        "# Define the loss function\n",
        "criterion = nn.CrossEntropyLoss()\n",
        "\n",
        "def test(model, criterion, test_loader, epoch):\n",
        "\n",
        "    model.eval()  # Set the model to evaluation mode\n",
        "    # Initialize\n",
        "    test_loss = 0.0\n",
        "    correct = 0\n",
        "    total = 0\n",
        "\n",
        "    with torch.no_grad():  # No gradient calculation for evaluation\n",
        "        for batch_idx, (images, targets) in enumerate(test_loader):\n",
        "            images, targets = images.to(device), targets.to(device)  # Move data to GPU if available\n",
        "            output = model(images)  # Forward pass\n",
        "\n",
        "            # Calculate the loss for the current batch\n",
        "            loss = criterion(output, targets)\n",
        "            test_loss += loss.item() * images.size(0)\n",
        "\n",
        "            # Get predictions\n",
        "            pred = output.argmax(dim=1, keepdim=True)\n",
        "            correct += pred.eq(targets.view_as(pred)).sum().item()\n",
        "            total += targets.size(0)  # Total samples processed\n",
        "\n",
        "            # Print statistics every 100 batches\n",
        "            if batch_idx % 100 == 0 and batch_idx != 0:\n",
        "                accuracy = 100. * correct / total\n",
        "                print(f'Batch {batch_idx}: Loss so far: {test_loss / total:.4f}, Accuracy so far: {accuracy:.2f}%')\n",
        "\n",
        "    # Compute average test loss and accuracy\n",
        "    test_loss /= len(test_loader.dataset)\n",
        "    accuracy = 100. * correct / len(test_loader.dataset)\n",
        "\n",
        "    # Print final test results for the epoch\n",
        "    print(f'Test result on epoch {epoch}: Avg loss: {test_loss:.4f}, Accuracy: {accuracy:.2f}%')\n",
        "\n",
        "# Testing loop for multiple epochs\n",
        "max_epoch = 1  # Set the number of epochs\n",
        "for epoch in range(1, max_epoch + 1):\n",
        "    test(original_resnet18, criterion, cifar10_test_loader, epoch =epoch)\n",
        "\n",
        "# ----------- <End Your code> ---------------"
      ]
    },
    {
      "cell_type": "markdown",
      "metadata": {
        "id": "ETLezHR0-ByE"
      },
      "source": [
        "### Task 4: Fine-tune (i.e., update) the pretrained model for CIFAR-10"
      ]
    },
    {
      "cell_type": "markdown",
      "metadata": {
        "id": "BbQrsL-U-Faq"
      },
      "source": [
        "Now try to improve the test accuracy. We offer several possible solutions:\n",
        "\n",
        "(1) You can try to directly continue to train the model you load with the CIFAR-10 training data.\n",
        "\n",
        "(2) For efficiency, you can try to freeze part of the parameters of the loaded models. For example, you can first freeze all parameters by\n",
        "\n",
        "```\n",
        "for param in model.parameters():\n",
        "    param.requires_grad = False\n",
        "```\n",
        "and then unfreeze the last few layers by setting `somelayer.requires_grad=True`.\n",
        "\n",
        "You are also welcome to try any other approach you can think of.\n",
        "\n",
        "\n",
        "**Note:** You must print out the test accuracy and to get full credits, the test accuracy should be at least **80%**."
      ]
    },
    {
      "cell_type": "code",
      "execution_count": null,
      "metadata": {
        "id": "zaA_dukw-hLt",
        "colab": {
          "base_uri": "https://localhost:8080/"
        },
        "outputId": "0077c85f-257c-4a19-e375-a6d1373210f4"
      },
      "outputs": [
        {
          "output_type": "stream",
          "name": "stdout",
          "text": [
            "ResNet(\n",
            "  (conv1): Conv2d(3, 64, kernel_size=(7, 7), stride=(2, 2), padding=(3, 3), bias=False)\n",
            "  (bn1): BatchNorm2d(64, eps=1e-05, momentum=0.1, affine=True, track_running_stats=True)\n",
            "  (relu): ReLU(inplace=True)\n",
            "  (maxpool): MaxPool2d(kernel_size=3, stride=2, padding=1, dilation=1, ceil_mode=False)\n",
            "  (layer1): Sequential(\n",
            "    (0): BasicBlock(\n",
            "      (conv1): Conv2d(64, 64, kernel_size=(3, 3), stride=(1, 1), padding=(1, 1), bias=False)\n",
            "      (bn1): BatchNorm2d(64, eps=1e-05, momentum=0.1, affine=True, track_running_stats=True)\n",
            "      (relu): ReLU(inplace=True)\n",
            "      (conv2): Conv2d(64, 64, kernel_size=(3, 3), stride=(1, 1), padding=(1, 1), bias=False)\n",
            "      (bn2): BatchNorm2d(64, eps=1e-05, momentum=0.1, affine=True, track_running_stats=True)\n",
            "    )\n",
            "    (1): BasicBlock(\n",
            "      (conv1): Conv2d(64, 64, kernel_size=(3, 3), stride=(1, 1), padding=(1, 1), bias=False)\n",
            "      (bn1): BatchNorm2d(64, eps=1e-05, momentum=0.1, affine=True, track_running_stats=True)\n",
            "      (relu): ReLU(inplace=True)\n",
            "      (conv2): Conv2d(64, 64, kernel_size=(3, 3), stride=(1, 1), padding=(1, 1), bias=False)\n",
            "      (bn2): BatchNorm2d(64, eps=1e-05, momentum=0.1, affine=True, track_running_stats=True)\n",
            "    )\n",
            "  )\n",
            "  (layer2): Sequential(\n",
            "    (0): BasicBlock(\n",
            "      (conv1): Conv2d(64, 128, kernel_size=(3, 3), stride=(2, 2), padding=(1, 1), bias=False)\n",
            "      (bn1): BatchNorm2d(128, eps=1e-05, momentum=0.1, affine=True, track_running_stats=True)\n",
            "      (relu): ReLU(inplace=True)\n",
            "      (conv2): Conv2d(128, 128, kernel_size=(3, 3), stride=(1, 1), padding=(1, 1), bias=False)\n",
            "      (bn2): BatchNorm2d(128, eps=1e-05, momentum=0.1, affine=True, track_running_stats=True)\n",
            "      (downsample): Sequential(\n",
            "        (0): Conv2d(64, 128, kernel_size=(1, 1), stride=(2, 2), bias=False)\n",
            "        (1): BatchNorm2d(128, eps=1e-05, momentum=0.1, affine=True, track_running_stats=True)\n",
            "      )\n",
            "    )\n",
            "    (1): BasicBlock(\n",
            "      (conv1): Conv2d(128, 128, kernel_size=(3, 3), stride=(1, 1), padding=(1, 1), bias=False)\n",
            "      (bn1): BatchNorm2d(128, eps=1e-05, momentum=0.1, affine=True, track_running_stats=True)\n",
            "      (relu): ReLU(inplace=True)\n",
            "      (conv2): Conv2d(128, 128, kernel_size=(3, 3), stride=(1, 1), padding=(1, 1), bias=False)\n",
            "      (bn2): BatchNorm2d(128, eps=1e-05, momentum=0.1, affine=True, track_running_stats=True)\n",
            "    )\n",
            "  )\n",
            "  (layer3): Sequential(\n",
            "    (0): BasicBlock(\n",
            "      (conv1): Conv2d(128, 256, kernel_size=(3, 3), stride=(2, 2), padding=(1, 1), bias=False)\n",
            "      (bn1): BatchNorm2d(256, eps=1e-05, momentum=0.1, affine=True, track_running_stats=True)\n",
            "      (relu): ReLU(inplace=True)\n",
            "      (conv2): Conv2d(256, 256, kernel_size=(3, 3), stride=(1, 1), padding=(1, 1), bias=False)\n",
            "      (bn2): BatchNorm2d(256, eps=1e-05, momentum=0.1, affine=True, track_running_stats=True)\n",
            "      (downsample): Sequential(\n",
            "        (0): Conv2d(128, 256, kernel_size=(1, 1), stride=(2, 2), bias=False)\n",
            "        (1): BatchNorm2d(256, eps=1e-05, momentum=0.1, affine=True, track_running_stats=True)\n",
            "      )\n",
            "    )\n",
            "    (1): BasicBlock(\n",
            "      (conv1): Conv2d(256, 256, kernel_size=(3, 3), stride=(1, 1), padding=(1, 1), bias=False)\n",
            "      (bn1): BatchNorm2d(256, eps=1e-05, momentum=0.1, affine=True, track_running_stats=True)\n",
            "      (relu): ReLU(inplace=True)\n",
            "      (conv2): Conv2d(256, 256, kernel_size=(3, 3), stride=(1, 1), padding=(1, 1), bias=False)\n",
            "      (bn2): BatchNorm2d(256, eps=1e-05, momentum=0.1, affine=True, track_running_stats=True)\n",
            "    )\n",
            "  )\n",
            "  (layer4): Sequential(\n",
            "    (0): BasicBlock(\n",
            "      (conv1): Conv2d(256, 512, kernel_size=(3, 3), stride=(2, 2), padding=(1, 1), bias=False)\n",
            "      (bn1): BatchNorm2d(512, eps=1e-05, momentum=0.1, affine=True, track_running_stats=True)\n",
            "      (relu): ReLU(inplace=True)\n",
            "      (conv2): Conv2d(512, 512, kernel_size=(3, 3), stride=(1, 1), padding=(1, 1), bias=False)\n",
            "      (bn2): BatchNorm2d(512, eps=1e-05, momentum=0.1, affine=True, track_running_stats=True)\n",
            "      (downsample): Sequential(\n",
            "        (0): Conv2d(256, 512, kernel_size=(1, 1), stride=(2, 2), bias=False)\n",
            "        (1): BatchNorm2d(512, eps=1e-05, momentum=0.1, affine=True, track_running_stats=True)\n",
            "      )\n",
            "    )\n",
            "    (1): BasicBlock(\n",
            "      (conv1): Conv2d(512, 512, kernel_size=(3, 3), stride=(1, 1), padding=(1, 1), bias=False)\n",
            "      (bn1): BatchNorm2d(512, eps=1e-05, momentum=0.1, affine=True, track_running_stats=True)\n",
            "      (relu): ReLU(inplace=True)\n",
            "      (conv2): Conv2d(512, 512, kernel_size=(3, 3), stride=(1, 1), padding=(1, 1), bias=False)\n",
            "      (bn2): BatchNorm2d(512, eps=1e-05, momentum=0.1, affine=True, track_running_stats=True)\n",
            "    )\n",
            "  )\n",
            "  (avgpool): AdaptiveAvgPool2d(output_size=(1, 1))\n",
            "  (fc): Linear(in_features=512, out_features=10, bias=True)\n",
            ")\n",
            "Epoch 1: [0/50000] Running Loss: 0.102\n",
            "Epoch 1: [3200/50000] Loss: 0.9391136169433594\n",
            "Epoch 1: [3200/50000] Running Loss: 1.654\n",
            "Epoch 1: [6400/50000] Loss: 0.9926946759223938\n",
            "Epoch 1: [6400/50000] Running Loss: 1.056\n",
            "Epoch 1: [9600/50000] Loss: 0.5014181137084961\n",
            "Epoch 1: [9600/50000] Running Loss: 0.843\n",
            "Epoch 1: [12800/50000] Loss: 0.7733941674232483\n",
            "Epoch 1: [12800/50000] Running Loss: 0.784\n",
            "Epoch 1: [16000/50000] Loss: 0.6961168646812439\n",
            "Epoch 1: [16000/50000] Running Loss: 0.696\n",
            "Epoch 1: [19200/50000] Loss: 0.5656386613845825\n",
            "Epoch 1: [19200/50000] Running Loss: 0.686\n",
            "Epoch 1: [22400/50000] Loss: 0.48210978507995605\n",
            "Epoch 1: [22400/50000] Running Loss: 0.602\n",
            "Epoch 1: [25600/50000] Loss: 0.8672799468040466\n",
            "Epoch 1: [25600/50000] Running Loss: 0.641\n",
            "Epoch 1: [28800/50000] Loss: 0.5781419277191162\n",
            "Epoch 1: [28800/50000] Running Loss: 0.585\n",
            "Epoch 1: [32000/50000] Loss: 0.6068458557128906\n",
            "Epoch 1: [32000/50000] Running Loss: 0.578\n",
            "Epoch 1: [35200/50000] Loss: 0.4782024919986725\n",
            "Epoch 1: [35200/50000] Running Loss: 0.576\n",
            "Epoch 1: [38400/50000] Loss: 0.20382024347782135\n",
            "Epoch 1: [38400/50000] Running Loss: 0.518\n",
            "Epoch 1: [41600/50000] Loss: 0.6080753803253174\n",
            "Epoch 1: [41600/50000] Running Loss: 0.502\n",
            "Epoch 1: [44800/50000] Loss: 0.6187201142311096\n",
            "Epoch 1: [44800/50000] Running Loss: 0.535\n",
            "Epoch 1: [48000/50000] Loss: 0.6748493909835815\n",
            "Epoch 1: [48000/50000] Running Loss: 0.501\n",
            "Epoch 2: [0/50000] Running Loss: 0.325\n",
            "Epoch 2: [3200/50000] Loss: 0.6093780398368835\n",
            "Epoch 2: [3200/50000] Running Loss: 0.409\n",
            "Epoch 2: [6400/50000] Loss: 0.2156154364347458\n",
            "Epoch 2: [6400/50000] Running Loss: 0.409\n",
            "Epoch 2: [9600/50000] Loss: 0.28230220079421997\n",
            "Epoch 2: [9600/50000] Running Loss: 0.418\n",
            "Epoch 2: [12800/50000] Loss: 0.7009278535842896\n",
            "Epoch 2: [12800/50000] Running Loss: 0.451\n",
            "Epoch 2: [16000/50000] Loss: 0.30174288153648376\n",
            "Epoch 2: [16000/50000] Running Loss: 0.407\n",
            "Epoch 2: [19200/50000] Loss: 0.30658212304115295\n",
            "Epoch 2: [19200/50000] Running Loss: 0.397\n",
            "Epoch 2: [22400/50000] Loss: 0.45037299394607544\n",
            "Epoch 2: [22400/50000] Running Loss: 0.418\n",
            "Epoch 2: [25600/50000] Loss: 0.5725665092468262\n",
            "Epoch 2: [25600/50000] Running Loss: 0.405\n",
            "Epoch 2: [28800/50000] Loss: 0.3108314573764801\n",
            "Epoch 2: [28800/50000] Running Loss: 0.394\n",
            "Epoch 2: [32000/50000] Loss: 0.6429806351661682\n",
            "Epoch 2: [32000/50000] Running Loss: 0.401\n",
            "Epoch 2: [35200/50000] Loss: 0.336719810962677\n",
            "Epoch 2: [35200/50000] Running Loss: 0.434\n",
            "Epoch 2: [38400/50000] Loss: 0.7163600325584412\n",
            "Epoch 2: [38400/50000] Running Loss: 0.405\n",
            "Epoch 2: [41600/50000] Loss: 0.31660664081573486\n",
            "Epoch 2: [41600/50000] Running Loss: 0.406\n",
            "Epoch 2: [44800/50000] Loss: 0.3896573781967163\n",
            "Epoch 2: [44800/50000] Running Loss: 0.402\n",
            "Epoch 2: [48000/50000] Loss: 0.4622182548046112\n",
            "Epoch 2: [48000/50000] Running Loss: 0.392\n",
            "Epoch 3: [0/50000] Running Loss: 0.258\n",
            "Epoch 3: [3200/50000] Loss: 0.20829075574874878\n",
            "Epoch 3: [3200/50000] Running Loss: 0.306\n",
            "Epoch 3: [6400/50000] Loss: 0.38759735226631165\n",
            "Epoch 3: [6400/50000] Running Loss: 0.338\n",
            "Epoch 3: [9600/50000] Loss: 0.2612330913543701\n",
            "Epoch 3: [9600/50000] Running Loss: 0.304\n",
            "Epoch 3: [12800/50000] Loss: 0.30886244773864746\n",
            "Epoch 3: [12800/50000] Running Loss: 0.297\n",
            "Epoch 3: [16000/50000] Loss: 0.4837920367717743\n",
            "Epoch 3: [16000/50000] Running Loss: 0.328\n",
            "Epoch 3: [19200/50000] Loss: 0.15442493557929993\n",
            "Epoch 3: [19200/50000] Running Loss: 0.316\n",
            "Epoch 3: [22400/50000] Loss: 0.32816192507743835\n",
            "Epoch 3: [22400/50000] Running Loss: 0.311\n",
            "Epoch 3: [25600/50000] Loss: 0.3288029134273529\n",
            "Epoch 3: [25600/50000] Running Loss: 0.313\n",
            "Epoch 3: [28800/50000] Loss: 0.3757081925868988\n",
            "Epoch 3: [28800/50000] Running Loss: 0.293\n",
            "Epoch 3: [32000/50000] Loss: 0.2548706531524658\n",
            "Epoch 3: [32000/50000] Running Loss: 0.311\n",
            "Epoch 3: [35200/50000] Loss: 0.4021152853965759\n",
            "Epoch 3: [35200/50000] Running Loss: 0.294\n",
            "Epoch 3: [38400/50000] Loss: 0.396536260843277\n",
            "Epoch 3: [38400/50000] Running Loss: 0.334\n",
            "Epoch 3: [41600/50000] Loss: 0.42343953251838684\n",
            "Epoch 3: [41600/50000] Running Loss: 0.290\n",
            "Epoch 3: [44800/50000] Loss: 0.49225738644599915\n",
            "Epoch 3: [44800/50000] Running Loss: 0.296\n",
            "Epoch 3: [48000/50000] Loss: 0.2383739948272705\n",
            "Epoch 3: [48000/50000] Running Loss: 0.299\n",
            "Finished Training after 257.3986597061157 s \n",
            "ResNet(\n",
            "  (conv1): Conv2d(3, 64, kernel_size=(7, 7), stride=(2, 2), padding=(3, 3), bias=False)\n",
            "  (bn1): BatchNorm2d(64, eps=1e-05, momentum=0.1, affine=True, track_running_stats=True)\n",
            "  (relu): ReLU(inplace=True)\n",
            "  (maxpool): MaxPool2d(kernel_size=3, stride=2, padding=1, dilation=1, ceil_mode=False)\n",
            "  (layer1): Sequential(\n",
            "    (0): BasicBlock(\n",
            "      (conv1): Conv2d(64, 64, kernel_size=(3, 3), stride=(1, 1), padding=(1, 1), bias=False)\n",
            "      (bn1): BatchNorm2d(64, eps=1e-05, momentum=0.1, affine=True, track_running_stats=True)\n",
            "      (relu): ReLU(inplace=True)\n",
            "      (conv2): Conv2d(64, 64, kernel_size=(3, 3), stride=(1, 1), padding=(1, 1), bias=False)\n",
            "      (bn2): BatchNorm2d(64, eps=1e-05, momentum=0.1, affine=True, track_running_stats=True)\n",
            "    )\n",
            "    (1): BasicBlock(\n",
            "      (conv1): Conv2d(64, 64, kernel_size=(3, 3), stride=(1, 1), padding=(1, 1), bias=False)\n",
            "      (bn1): BatchNorm2d(64, eps=1e-05, momentum=0.1, affine=True, track_running_stats=True)\n",
            "      (relu): ReLU(inplace=True)\n",
            "      (conv2): Conv2d(64, 64, kernel_size=(3, 3), stride=(1, 1), padding=(1, 1), bias=False)\n",
            "      (bn2): BatchNorm2d(64, eps=1e-05, momentum=0.1, affine=True, track_running_stats=True)\n",
            "    )\n",
            "  )\n",
            "  (layer2): Sequential(\n",
            "    (0): BasicBlock(\n",
            "      (conv1): Conv2d(64, 128, kernel_size=(3, 3), stride=(2, 2), padding=(1, 1), bias=False)\n",
            "      (bn1): BatchNorm2d(128, eps=1e-05, momentum=0.1, affine=True, track_running_stats=True)\n",
            "      (relu): ReLU(inplace=True)\n",
            "      (conv2): Conv2d(128, 128, kernel_size=(3, 3), stride=(1, 1), padding=(1, 1), bias=False)\n",
            "      (bn2): BatchNorm2d(128, eps=1e-05, momentum=0.1, affine=True, track_running_stats=True)\n",
            "      (downsample): Sequential(\n",
            "        (0): Conv2d(64, 128, kernel_size=(1, 1), stride=(2, 2), bias=False)\n",
            "        (1): BatchNorm2d(128, eps=1e-05, momentum=0.1, affine=True, track_running_stats=True)\n",
            "      )\n",
            "    )\n",
            "    (1): BasicBlock(\n",
            "      (conv1): Conv2d(128, 128, kernel_size=(3, 3), stride=(1, 1), padding=(1, 1), bias=False)\n",
            "      (bn1): BatchNorm2d(128, eps=1e-05, momentum=0.1, affine=True, track_running_stats=True)\n",
            "      (relu): ReLU(inplace=True)\n",
            "      (conv2): Conv2d(128, 128, kernel_size=(3, 3), stride=(1, 1), padding=(1, 1), bias=False)\n",
            "      (bn2): BatchNorm2d(128, eps=1e-05, momentum=0.1, affine=True, track_running_stats=True)\n",
            "    )\n",
            "  )\n",
            "  (layer3): Sequential(\n",
            "    (0): BasicBlock(\n",
            "      (conv1): Conv2d(128, 256, kernel_size=(3, 3), stride=(2, 2), padding=(1, 1), bias=False)\n",
            "      (bn1): BatchNorm2d(256, eps=1e-05, momentum=0.1, affine=True, track_running_stats=True)\n",
            "      (relu): ReLU(inplace=True)\n",
            "      (conv2): Conv2d(256, 256, kernel_size=(3, 3), stride=(1, 1), padding=(1, 1), bias=False)\n",
            "      (bn2): BatchNorm2d(256, eps=1e-05, momentum=0.1, affine=True, track_running_stats=True)\n",
            "      (downsample): Sequential(\n",
            "        (0): Conv2d(128, 256, kernel_size=(1, 1), stride=(2, 2), bias=False)\n",
            "        (1): BatchNorm2d(256, eps=1e-05, momentum=0.1, affine=True, track_running_stats=True)\n",
            "      )\n",
            "    )\n",
            "    (1): BasicBlock(\n",
            "      (conv1): Conv2d(256, 256, kernel_size=(3, 3), stride=(1, 1), padding=(1, 1), bias=False)\n",
            "      (bn1): BatchNorm2d(256, eps=1e-05, momentum=0.1, affine=True, track_running_stats=True)\n",
            "      (relu): ReLU(inplace=True)\n",
            "      (conv2): Conv2d(256, 256, kernel_size=(3, 3), stride=(1, 1), padding=(1, 1), bias=False)\n",
            "      (bn2): BatchNorm2d(256, eps=1e-05, momentum=0.1, affine=True, track_running_stats=True)\n",
            "    )\n",
            "  )\n",
            "  (layer4): Sequential(\n",
            "    (0): BasicBlock(\n",
            "      (conv1): Conv2d(256, 512, kernel_size=(3, 3), stride=(2, 2), padding=(1, 1), bias=False)\n",
            "      (bn1): BatchNorm2d(512, eps=1e-05, momentum=0.1, affine=True, track_running_stats=True)\n",
            "      (relu): ReLU(inplace=True)\n",
            "      (conv2): Conv2d(512, 512, kernel_size=(3, 3), stride=(1, 1), padding=(1, 1), bias=False)\n",
            "      (bn2): BatchNorm2d(512, eps=1e-05, momentum=0.1, affine=True, track_running_stats=True)\n",
            "      (downsample): Sequential(\n",
            "        (0): Conv2d(256, 512, kernel_size=(1, 1), stride=(2, 2), bias=False)\n",
            "        (1): BatchNorm2d(512, eps=1e-05, momentum=0.1, affine=True, track_running_stats=True)\n",
            "      )\n",
            "    )\n",
            "    (1): BasicBlock(\n",
            "      (conv1): Conv2d(512, 512, kernel_size=(3, 3), stride=(1, 1), padding=(1, 1), bias=False)\n",
            "      (bn1): BatchNorm2d(512, eps=1e-05, momentum=0.1, affine=True, track_running_stats=True)\n",
            "      (relu): ReLU(inplace=True)\n",
            "      (conv2): Conv2d(512, 512, kernel_size=(3, 3), stride=(1, 1), padding=(1, 1), bias=False)\n",
            "      (bn2): BatchNorm2d(512, eps=1e-05, momentum=0.1, affine=True, track_running_stats=True)\n",
            "    )\n",
            "  )\n",
            "  (avgpool): AdaptiveAvgPool2d(output_size=(1, 1))\n",
            "  (fc): Linear(in_features=512, out_features=10, bias=True)\n",
            ") Test result on epoch None: Avg loss: 0.3880, Accuracy: 86.87%\n",
            "Finished Testing after 13.2892484664917 s \n"
          ]
        }
      ],
      "source": [
        "# (1) Directly train the whole model and optimize model to improve accuracy\n",
        "# start = time.time()\n",
        "# ----------- <Your code> ---------------\n",
        "\n",
        "# Copy of original model\n",
        "my_resnet1 = copy.deepcopy(original_resnet18)\n",
        "my_resnet1.to(device) # Move to GPU if available\n",
        "\n",
        "# Mofidying ResNet18 output to 10 classes corresponding to the dataset class for better training\n",
        "num_classes = max(len(cifar10_train_dataset.classes), len(cifar10_test_dataset.classes))\n",
        "my_resnet1.fc.out_features = num_classes\n",
        "\n",
        "print(my_resnet1) # Check modified architechture\n",
        "max_epoch =3\n",
        "# Define the loss function (criterion) and the optimizer\n",
        "criterion = nn.CrossEntropyLoss()\n",
        "optimizer = optim.Adam(my_resnet1.parameters(), lr=0.001)\n",
        "\n",
        "\n",
        "# Define training function\n",
        "def train(model, criterion, optimizer, train_loader, epoch):\n",
        "\n",
        "    # Initialize training parameters\n",
        "    train_losses = []  # Track losses over time\n",
        "    train_counter = []  # Track which batch was processed for plotting\n",
        "    running_loss = 0.0 # Inilialize loss to zero\n",
        "\n",
        "\n",
        "    # Training loop\n",
        "    model.train()  # Set the model to training mode\n",
        "\n",
        "    for epoch in range(max_epoch):\n",
        "\n",
        "        for batch_idx, (images, labels) in enumerate(train_loader):\n",
        "            # Move images and labels to the GPU here\n",
        "            images, labels = images.to(device), labels.to(device)\n",
        "\n",
        "            # Zero the parameter gradients\n",
        "            optimizer.zero_grad()\n",
        "\n",
        "            # Forward pass\n",
        "            outputs = model(images)\n",
        "            loss = criterion(outputs, labels)\n",
        "\n",
        "            # Backward pass and optimization\n",
        "            loss.backward()\n",
        "            optimizer.step()\n",
        "             # Accumulate loss for running statistics\n",
        "            running_loss += loss.item()\n",
        "\n",
        "            # Print loss every 100 batches\n",
        "            if batch_idx % 100 == 0 and batch_idx != 0:\n",
        "                train_losses.append(loss.item())  # Record the loss\n",
        "                train_counter.append((batch_idx * 64) + ((epoch - 1) * len(train_loader.dataset)))\n",
        "                print(f'Epoch {epoch + 1}: [{batch_idx * len(images)}/{len(train_loader.dataset)}] Loss: {loss.item()}')\n",
        "\n",
        "            # Print statistics every 100 batches\n",
        "            if batch_idx % 100 == 0:  # Every 100 batches\n",
        "                print(f'Epoch {epoch + 1}: [{batch_idx * len(images)}/{len(train_loader.dataset)}] Running Loss: {running_loss / 100:.3f}')\n",
        "                running_loss = 0.0  # Reset the running loss\n",
        "\n",
        "    return model\n",
        "\n",
        "# Define test function\n",
        "def test(model, criterion, test_loader, epoch):\n",
        "\n",
        "    # Test loop\n",
        "    model.eval() # Setting the model to evaluation mode\n",
        "\n",
        "    # Initialize test statistics\n",
        "    test_loss = 0.0\n",
        "    correct = 0\n",
        "\n",
        "    num_test_samples = len(test_loader.dataset)\n",
        "\n",
        "    with torch.no_grad():\n",
        "        for images, labels in test_loader:\n",
        "            images, labels = images.to(device), labels.to(device)\n",
        "\n",
        "            # Forward pass\n",
        "            outputs = model(images)\n",
        "            loss = criterion(outputs, labels)\n",
        "\n",
        "            # Update the test loss\n",
        "            test_loss += loss.item() * images.size(0)\n",
        "\n",
        "            # Compute test accuracy\n",
        "            pred = outputs.data.max(1, keepdim=True)[1]  # Get the index of the max log-probability\n",
        "            correct += pred.eq(labels.view_as(pred)).sum().item()\n",
        "\n",
        "    # Compute average test loss and accuracy\n",
        "    test_loss /= len(test_loader.dataset)  # Average loss over all samples\n",
        "    accuracy = 100. * correct / len(test_loader.dataset)\n",
        "\n",
        "    # Print test results\n",
        "    print(f'{model} Test result on epoch {epoch}: Avg loss: {test_loss:.4f}, Accuracy: {accuracy:.2f}%')\n",
        "\n",
        "    return test_loss, accuracy\n",
        "\n",
        "start = time.time()\n",
        "# Training code\n",
        "my_resnet1 = train(my_resnet1, criterion, optimizer, cifar10_train_loader, epoch= max_epoch)\n",
        "end = time.time()\n",
        "print(f'Finished Training after {end-start} s ')\n",
        "# ----------- <End Your code> ---------------\n",
        "start = time.time()\n",
        "test(my_resnet1, criterion, cifar10_test_loader, epoch= None)\n",
        "end = time.time()\n",
        "print(f'Finished Testing after {end-start} s ')"
      ]
    },
    {
      "cell_type": "markdown",
      "metadata": {
        "id": "5eCA9gdGuQDr"
      },
      "source": [
        "Above 80% accuracy achieved on the first modified instance of ResNet18"
      ]
    },
    {
      "cell_type": "code",
      "execution_count": null,
      "metadata": {
        "colab": {
          "base_uri": "https://localhost:8080/"
        },
        "collapsed": true,
        "id": "53-9dPymv4K5",
        "outputId": "0ebb2067-c23a-4d4f-d3c8-80b34aa3cafe"
      },
      "outputs": [
        {
          "output_type": "stream",
          "name": "stdout",
          "text": [
            "ResNet(\n",
            "  (conv1): Conv2d(3, 64, kernel_size=(7, 7), stride=(2, 2), padding=(3, 3), bias=False)\n",
            "  (bn1): BatchNorm2d(64, eps=1e-05, momentum=0.1, affine=True, track_running_stats=True)\n",
            "  (relu): ReLU(inplace=True)\n",
            "  (maxpool): MaxPool2d(kernel_size=3, stride=2, padding=1, dilation=1, ceil_mode=False)\n",
            "  (layer1): Sequential(\n",
            "    (0): BasicBlock(\n",
            "      (conv1): Conv2d(64, 64, kernel_size=(3, 3), stride=(1, 1), padding=(1, 1), bias=False)\n",
            "      (bn1): BatchNorm2d(64, eps=1e-05, momentum=0.1, affine=True, track_running_stats=True)\n",
            "      (relu): ReLU(inplace=True)\n",
            "      (conv2): Conv2d(64, 64, kernel_size=(3, 3), stride=(1, 1), padding=(1, 1), bias=False)\n",
            "      (bn2): BatchNorm2d(64, eps=1e-05, momentum=0.1, affine=True, track_running_stats=True)\n",
            "    )\n",
            "    (1): BasicBlock(\n",
            "      (conv1): Conv2d(64, 64, kernel_size=(3, 3), stride=(1, 1), padding=(1, 1), bias=False)\n",
            "      (bn1): BatchNorm2d(64, eps=1e-05, momentum=0.1, affine=True, track_running_stats=True)\n",
            "      (relu): ReLU(inplace=True)\n",
            "      (conv2): Conv2d(64, 64, kernel_size=(3, 3), stride=(1, 1), padding=(1, 1), bias=False)\n",
            "      (bn2): BatchNorm2d(64, eps=1e-05, momentum=0.1, affine=True, track_running_stats=True)\n",
            "    )\n",
            "  )\n",
            "  (layer2): Sequential(\n",
            "    (0): BasicBlock(\n",
            "      (conv1): Conv2d(64, 128, kernel_size=(3, 3), stride=(2, 2), padding=(1, 1), bias=False)\n",
            "      (bn1): BatchNorm2d(128, eps=1e-05, momentum=0.1, affine=True, track_running_stats=True)\n",
            "      (relu): ReLU(inplace=True)\n",
            "      (conv2): Conv2d(128, 128, kernel_size=(3, 3), stride=(1, 1), padding=(1, 1), bias=False)\n",
            "      (bn2): BatchNorm2d(128, eps=1e-05, momentum=0.1, affine=True, track_running_stats=True)\n",
            "      (downsample): Sequential(\n",
            "        (0): Conv2d(64, 128, kernel_size=(1, 1), stride=(2, 2), bias=False)\n",
            "        (1): BatchNorm2d(128, eps=1e-05, momentum=0.1, affine=True, track_running_stats=True)\n",
            "      )\n",
            "    )\n",
            "    (1): BasicBlock(\n",
            "      (conv1): Conv2d(128, 128, kernel_size=(3, 3), stride=(1, 1), padding=(1, 1), bias=False)\n",
            "      (bn1): BatchNorm2d(128, eps=1e-05, momentum=0.1, affine=True, track_running_stats=True)\n",
            "      (relu): ReLU(inplace=True)\n",
            "      (conv2): Conv2d(128, 128, kernel_size=(3, 3), stride=(1, 1), padding=(1, 1), bias=False)\n",
            "      (bn2): BatchNorm2d(128, eps=1e-05, momentum=0.1, affine=True, track_running_stats=True)\n",
            "    )\n",
            "  )\n",
            "  (layer3): Sequential(\n",
            "    (0): BasicBlock(\n",
            "      (conv1): Conv2d(128, 256, kernel_size=(3, 3), stride=(2, 2), padding=(1, 1), bias=False)\n",
            "      (bn1): BatchNorm2d(256, eps=1e-05, momentum=0.1, affine=True, track_running_stats=True)\n",
            "      (relu): ReLU(inplace=True)\n",
            "      (conv2): Conv2d(256, 256, kernel_size=(3, 3), stride=(1, 1), padding=(1, 1), bias=False)\n",
            "      (bn2): BatchNorm2d(256, eps=1e-05, momentum=0.1, affine=True, track_running_stats=True)\n",
            "      (downsample): Sequential(\n",
            "        (0): Conv2d(128, 256, kernel_size=(1, 1), stride=(2, 2), bias=False)\n",
            "        (1): BatchNorm2d(256, eps=1e-05, momentum=0.1, affine=True, track_running_stats=True)\n",
            "      )\n",
            "    )\n",
            "    (1): BasicBlock(\n",
            "      (conv1): Conv2d(256, 256, kernel_size=(3, 3), stride=(1, 1), padding=(1, 1), bias=False)\n",
            "      (bn1): BatchNorm2d(256, eps=1e-05, momentum=0.1, affine=True, track_running_stats=True)\n",
            "      (relu): ReLU(inplace=True)\n",
            "      (conv2): Conv2d(256, 256, kernel_size=(3, 3), stride=(1, 1), padding=(1, 1), bias=False)\n",
            "      (bn2): BatchNorm2d(256, eps=1e-05, momentum=0.1, affine=True, track_running_stats=True)\n",
            "    )\n",
            "  )\n",
            "  (layer4): Sequential(\n",
            "    (0): BasicBlock(\n",
            "      (conv1): Conv2d(256, 512, kernel_size=(3, 3), stride=(2, 2), padding=(1, 1), bias=False)\n",
            "      (bn1): BatchNorm2d(512, eps=1e-05, momentum=0.1, affine=True, track_running_stats=True)\n",
            "      (relu): ReLU(inplace=True)\n",
            "      (conv2): Conv2d(512, 512, kernel_size=(3, 3), stride=(1, 1), padding=(1, 1), bias=False)\n",
            "      (bn2): BatchNorm2d(512, eps=1e-05, momentum=0.1, affine=True, track_running_stats=True)\n",
            "      (downsample): Sequential(\n",
            "        (0): Conv2d(256, 512, kernel_size=(1, 1), stride=(2, 2), bias=False)\n",
            "        (1): BatchNorm2d(512, eps=1e-05, momentum=0.1, affine=True, track_running_stats=True)\n",
            "      )\n",
            "    )\n",
            "    (1): BasicBlock(\n",
            "      (conv1): Conv2d(512, 512, kernel_size=(3, 3), stride=(1, 1), padding=(1, 1), bias=False)\n",
            "      (bn1): BatchNorm2d(512, eps=1e-05, momentum=0.1, affine=True, track_running_stats=True)\n",
            "      (relu): ReLU(inplace=True)\n",
            "      (conv2): Conv2d(512, 512, kernel_size=(3, 3), stride=(1, 1), padding=(1, 1), bias=False)\n",
            "      (bn2): BatchNorm2d(512, eps=1e-05, momentum=0.1, affine=True, track_running_stats=True)\n",
            "    )\n",
            "  )\n",
            "  (avgpool): AdaptiveAvgPool2d(output_size=(1, 1))\n",
            "  (fc): Linear(in_features=512, out_features=1000, bias=True)\n",
            ")\n",
            "Linear(in_features=512, out_features=10, bias=True)\n"
          ]
        }
      ],
      "source": [
        "# Load another resnet18 instance, only unfreeze the outer layers.\n",
        "# ----------- <Your code> ---------------\n",
        "my_resnet2 = copy.deepcopy(original_resnet18) # One for transfer learning\n",
        "my_resnet2.to(device) # Move to GPU if available\n",
        "\n",
        "print(my_resnet2) # Verifying the copy of original ResNet18\n",
        "\n",
        "# First we modify the last fully connected layer (fc) to match the number of CIFAR-10 classes (10)\n",
        "num_classes = my_resnet2.fc.in_features\n",
        "my_resnet2.fc = nn.Linear(num_classes, 10)\n",
        "print(my_resnet2.fc) # Print just to be sure!\n",
        "\n",
        "# Freeze all layers in the model\n",
        "for param in my_resnet2.parameters():\n",
        "    param.requires_grad = False\n",
        "\n",
        "# Unfreeze the last block (layer4) and the fully connected layer (fc)\n",
        "for param in my_resnet2.layer4.parameters():\n",
        "    param.requires_grad = True\n",
        "for param in my_resnet2.fc.parameters():\n",
        "    param.requires_grad = True\n",
        "\n",
        "# ----------- <End Your code> ---------------"
      ]
    },
    {
      "cell_type": "code",
      "execution_count": null,
      "metadata": {
        "colab": {
          "base_uri": "https://localhost:8080/"
        },
        "id": "CY-yaF0YAyk7",
        "outputId": "0a627486-eec1-4fc9-efc8-e28218ed631c"
      },
      "outputs": [
        {
          "output_type": "stream",
          "name": "stdout",
          "text": [
            "Epoch 1: [0/50000] Running Loss: 0.027\n",
            "Epoch 1: [3200/50000] Loss: 0.5426775813102722\n",
            "Epoch 1: [3200/50000] Running Loss: 0.855\n",
            "Epoch 1: [6400/50000] Loss: 0.5179008841514587\n",
            "Epoch 1: [6400/50000] Running Loss: 0.616\n",
            "Epoch 1: [9600/50000] Loss: 0.5870295763015747\n",
            "Epoch 1: [9600/50000] Running Loss: 0.598\n",
            "Epoch 1: [12800/50000] Loss: 0.6509610414505005\n",
            "Epoch 1: [12800/50000] Running Loss: 0.557\n",
            "Epoch 1: [16000/50000] Loss: 0.4622756838798523\n",
            "Epoch 1: [16000/50000] Running Loss: 0.517\n",
            "Epoch 1: [19200/50000] Loss: 0.25366079807281494\n",
            "Epoch 1: [19200/50000] Running Loss: 0.478\n",
            "Epoch 1: [22400/50000] Loss: 0.32524290680885315\n",
            "Epoch 1: [22400/50000] Running Loss: 0.461\n",
            "Epoch 1: [25600/50000] Loss: 0.4011281728744507\n",
            "Epoch 1: [25600/50000] Running Loss: 0.492\n",
            "Epoch 1: [28800/50000] Loss: 0.7426373958587646\n",
            "Epoch 1: [28800/50000] Running Loss: 0.453\n",
            "Epoch 1: [32000/50000] Loss: 0.47582992911338806\n",
            "Epoch 1: [32000/50000] Running Loss: 0.473\n",
            "Epoch 1: [35200/50000] Loss: 0.536191463470459\n",
            "Epoch 1: [35200/50000] Running Loss: 0.444\n",
            "Epoch 1: [38400/50000] Loss: 0.1345592439174652\n",
            "Epoch 1: [38400/50000] Running Loss: 0.404\n",
            "Epoch 1: [41600/50000] Loss: 0.445813924074173\n",
            "Epoch 1: [41600/50000] Running Loss: 0.391\n",
            "Epoch 1: [44800/50000] Loss: 0.16306719183921814\n",
            "Epoch 1: [44800/50000] Running Loss: 0.403\n",
            "Epoch 1: [48000/50000] Loss: 0.3380955457687378\n",
            "Epoch 1: [48000/50000] Running Loss: 0.418\n",
            "Epoch 2: [0/50000] Running Loss: 0.233\n",
            "Epoch 2: [3200/50000] Loss: 0.11305072903633118\n",
            "Epoch 2: [3200/50000] Running Loss: 0.247\n",
            "Epoch 2: [6400/50000] Loss: 0.12303043156862259\n",
            "Epoch 2: [6400/50000] Running Loss: 0.249\n",
            "Epoch 2: [9600/50000] Loss: 0.17853090167045593\n",
            "Epoch 2: [9600/50000] Running Loss: 0.275\n",
            "Epoch 2: [12800/50000] Loss: 0.54183030128479\n",
            "Epoch 2: [12800/50000] Running Loss: 0.248\n",
            "Epoch 2: [16000/50000] Loss: 0.24993349611759186\n",
            "Epoch 2: [16000/50000] Running Loss: 0.310\n",
            "Epoch 2: [19200/50000] Loss: 0.32519271969795227\n",
            "Epoch 2: [19200/50000] Running Loss: 0.244\n",
            "Epoch 2: [22400/50000] Loss: 0.23598071932792664\n",
            "Epoch 2: [22400/50000] Running Loss: 0.284\n",
            "Epoch 2: [25600/50000] Loss: 0.23989926278591156\n",
            "Epoch 2: [25600/50000] Running Loss: 0.286\n",
            "Epoch 2: [28800/50000] Loss: 0.030741138383746147\n",
            "Epoch 2: [28800/50000] Running Loss: 0.270\n",
            "Epoch 2: [32000/50000] Loss: 0.9261792898178101\n",
            "Epoch 2: [32000/50000] Running Loss: 0.290\n",
            "Epoch 2: [35200/50000] Loss: 0.5617340207099915\n",
            "Epoch 2: [35200/50000] Running Loss: 0.254\n",
            "Epoch 2: [38400/50000] Loss: 0.25529390573501587\n",
            "Epoch 2: [38400/50000] Running Loss: 0.284\n",
            "Epoch 2: [41600/50000] Loss: 0.11557506024837494\n",
            "Epoch 2: [41600/50000] Running Loss: 0.272\n",
            "Epoch 2: [44800/50000] Loss: 0.2746475040912628\n",
            "Epoch 2: [44800/50000] Running Loss: 0.271\n",
            "Epoch 2: [48000/50000] Loss: 0.33538100123405457\n",
            "Epoch 2: [48000/50000] Running Loss: 0.268\n",
            "Epoch 3: [0/50000] Running Loss: 0.195\n",
            "Epoch 3: [3200/50000] Loss: 0.18096664547920227\n",
            "Epoch 3: [3200/50000] Running Loss: 0.139\n",
            "Epoch 3: [6400/50000] Loss: 0.2132515013217926\n",
            "Epoch 3: [6400/50000] Running Loss: 0.125\n",
            "Epoch 3: [9600/50000] Loss: 0.14450639486312866\n",
            "Epoch 3: [9600/50000] Running Loss: 0.136\n",
            "Epoch 3: [12800/50000] Loss: 0.033241819590330124\n",
            "Epoch 3: [12800/50000] Running Loss: 0.147\n",
            "Epoch 3: [16000/50000] Loss: 0.12689493596553802\n",
            "Epoch 3: [16000/50000] Running Loss: 0.148\n",
            "Epoch 3: [19200/50000] Loss: 0.07591912895441055\n",
            "Epoch 3: [19200/50000] Running Loss: 0.148\n",
            "Epoch 3: [22400/50000] Loss: 0.09782290458679199\n",
            "Epoch 3: [22400/50000] Running Loss: 0.160\n",
            "Epoch 3: [25600/50000] Loss: 0.3238963186740875\n",
            "Epoch 3: [25600/50000] Running Loss: 0.190\n",
            "Epoch 3: [28800/50000] Loss: 0.23450767993927002\n",
            "Epoch 3: [28800/50000] Running Loss: 0.179\n",
            "Epoch 3: [32000/50000] Loss: 0.17270945012569427\n",
            "Epoch 3: [32000/50000] Running Loss: 0.167\n",
            "Epoch 3: [35200/50000] Loss: 0.17267544567584991\n",
            "Epoch 3: [35200/50000] Running Loss: 0.188\n",
            "Epoch 3: [38400/50000] Loss: 0.2879565358161926\n",
            "Epoch 3: [38400/50000] Running Loss: 0.170\n",
            "Epoch 3: [41600/50000] Loss: 0.24491176009178162\n",
            "Epoch 3: [41600/50000] Running Loss: 0.161\n",
            "Epoch 3: [44800/50000] Loss: 0.36356061697006226\n",
            "Epoch 3: [44800/50000] Running Loss: 0.191\n",
            "Epoch 3: [48000/50000] Loss: 0.10501609742641449\n",
            "Epoch 3: [48000/50000] Running Loss: 0.194\n",
            "ResNet(\n",
            "  (conv1): Conv2d(3, 64, kernel_size=(7, 7), stride=(2, 2), padding=(3, 3), bias=False)\n",
            "  (bn1): BatchNorm2d(64, eps=1e-05, momentum=0.1, affine=True, track_running_stats=True)\n",
            "  (relu): ReLU(inplace=True)\n",
            "  (maxpool): MaxPool2d(kernel_size=3, stride=2, padding=1, dilation=1, ceil_mode=False)\n",
            "  (layer1): Sequential(\n",
            "    (0): BasicBlock(\n",
            "      (conv1): Conv2d(64, 64, kernel_size=(3, 3), stride=(1, 1), padding=(1, 1), bias=False)\n",
            "      (bn1): BatchNorm2d(64, eps=1e-05, momentum=0.1, affine=True, track_running_stats=True)\n",
            "      (relu): ReLU(inplace=True)\n",
            "      (conv2): Conv2d(64, 64, kernel_size=(3, 3), stride=(1, 1), padding=(1, 1), bias=False)\n",
            "      (bn2): BatchNorm2d(64, eps=1e-05, momentum=0.1, affine=True, track_running_stats=True)\n",
            "    )\n",
            "    (1): BasicBlock(\n",
            "      (conv1): Conv2d(64, 64, kernel_size=(3, 3), stride=(1, 1), padding=(1, 1), bias=False)\n",
            "      (bn1): BatchNorm2d(64, eps=1e-05, momentum=0.1, affine=True, track_running_stats=True)\n",
            "      (relu): ReLU(inplace=True)\n",
            "      (conv2): Conv2d(64, 64, kernel_size=(3, 3), stride=(1, 1), padding=(1, 1), bias=False)\n",
            "      (bn2): BatchNorm2d(64, eps=1e-05, momentum=0.1, affine=True, track_running_stats=True)\n",
            "    )\n",
            "  )\n",
            "  (layer2): Sequential(\n",
            "    (0): BasicBlock(\n",
            "      (conv1): Conv2d(64, 128, kernel_size=(3, 3), stride=(2, 2), padding=(1, 1), bias=False)\n",
            "      (bn1): BatchNorm2d(128, eps=1e-05, momentum=0.1, affine=True, track_running_stats=True)\n",
            "      (relu): ReLU(inplace=True)\n",
            "      (conv2): Conv2d(128, 128, kernel_size=(3, 3), stride=(1, 1), padding=(1, 1), bias=False)\n",
            "      (bn2): BatchNorm2d(128, eps=1e-05, momentum=0.1, affine=True, track_running_stats=True)\n",
            "      (downsample): Sequential(\n",
            "        (0): Conv2d(64, 128, kernel_size=(1, 1), stride=(2, 2), bias=False)\n",
            "        (1): BatchNorm2d(128, eps=1e-05, momentum=0.1, affine=True, track_running_stats=True)\n",
            "      )\n",
            "    )\n",
            "    (1): BasicBlock(\n",
            "      (conv1): Conv2d(128, 128, kernel_size=(3, 3), stride=(1, 1), padding=(1, 1), bias=False)\n",
            "      (bn1): BatchNorm2d(128, eps=1e-05, momentum=0.1, affine=True, track_running_stats=True)\n",
            "      (relu): ReLU(inplace=True)\n",
            "      (conv2): Conv2d(128, 128, kernel_size=(3, 3), stride=(1, 1), padding=(1, 1), bias=False)\n",
            "      (bn2): BatchNorm2d(128, eps=1e-05, momentum=0.1, affine=True, track_running_stats=True)\n",
            "    )\n",
            "  )\n",
            "  (layer3): Sequential(\n",
            "    (0): BasicBlock(\n",
            "      (conv1): Conv2d(128, 256, kernel_size=(3, 3), stride=(2, 2), padding=(1, 1), bias=False)\n",
            "      (bn1): BatchNorm2d(256, eps=1e-05, momentum=0.1, affine=True, track_running_stats=True)\n",
            "      (relu): ReLU(inplace=True)\n",
            "      (conv2): Conv2d(256, 256, kernel_size=(3, 3), stride=(1, 1), padding=(1, 1), bias=False)\n",
            "      (bn2): BatchNorm2d(256, eps=1e-05, momentum=0.1, affine=True, track_running_stats=True)\n",
            "      (downsample): Sequential(\n",
            "        (0): Conv2d(128, 256, kernel_size=(1, 1), stride=(2, 2), bias=False)\n",
            "        (1): BatchNorm2d(256, eps=1e-05, momentum=0.1, affine=True, track_running_stats=True)\n",
            "      )\n",
            "    )\n",
            "    (1): BasicBlock(\n",
            "      (conv1): Conv2d(256, 256, kernel_size=(3, 3), stride=(1, 1), padding=(1, 1), bias=False)\n",
            "      (bn1): BatchNorm2d(256, eps=1e-05, momentum=0.1, affine=True, track_running_stats=True)\n",
            "      (relu): ReLU(inplace=True)\n",
            "      (conv2): Conv2d(256, 256, kernel_size=(3, 3), stride=(1, 1), padding=(1, 1), bias=False)\n",
            "      (bn2): BatchNorm2d(256, eps=1e-05, momentum=0.1, affine=True, track_running_stats=True)\n",
            "    )\n",
            "  )\n",
            "  (layer4): Sequential(\n",
            "    (0): BasicBlock(\n",
            "      (conv1): Conv2d(256, 512, kernel_size=(3, 3), stride=(2, 2), padding=(1, 1), bias=False)\n",
            "      (bn1): BatchNorm2d(512, eps=1e-05, momentum=0.1, affine=True, track_running_stats=True)\n",
            "      (relu): ReLU(inplace=True)\n",
            "      (conv2): Conv2d(512, 512, kernel_size=(3, 3), stride=(1, 1), padding=(1, 1), bias=False)\n",
            "      (bn2): BatchNorm2d(512, eps=1e-05, momentum=0.1, affine=True, track_running_stats=True)\n",
            "      (downsample): Sequential(\n",
            "        (0): Conv2d(256, 512, kernel_size=(1, 1), stride=(2, 2), bias=False)\n",
            "        (1): BatchNorm2d(512, eps=1e-05, momentum=0.1, affine=True, track_running_stats=True)\n",
            "      )\n",
            "    )\n",
            "    (1): BasicBlock(\n",
            "      (conv1): Conv2d(512, 512, kernel_size=(3, 3), stride=(1, 1), padding=(1, 1), bias=False)\n",
            "      (bn1): BatchNorm2d(512, eps=1e-05, momentum=0.1, affine=True, track_running_stats=True)\n",
            "      (relu): ReLU(inplace=True)\n",
            "      (conv2): Conv2d(512, 512, kernel_size=(3, 3), stride=(1, 1), padding=(1, 1), bias=False)\n",
            "      (bn2): BatchNorm2d(512, eps=1e-05, momentum=0.1, affine=True, track_running_stats=True)\n",
            "    )\n",
            "  )\n",
            "  (avgpool): AdaptiveAvgPool2d(output_size=(1, 1))\n",
            "  (fc): Linear(in_features=512, out_features=10, bias=True)\n",
            ") Test result on epoch 1: Avg loss: 0.0652, Accuracy: 98.00%\n",
            "Finished Training after 274.1310775279999 s \n"
          ]
        }
      ],
      "source": [
        "# Train the model!!\n",
        "start = time.time()\n",
        "# ----------- <Your code> ---------------\n",
        "\n",
        "# Move the modified model to the device\n",
        "my_resnet2 = my_resnet2.to(device)\n",
        "\n",
        "# Define the loss function and optimizer (only for unfrozen layers)\n",
        "criterion = nn.CrossEntropyLoss() # Usual cross entropy\n",
        "optimizer = optim.Adam(filter(lambda p: p.requires_grad, my_resnet2.parameters()), lr=0.001)  # Only optimize the unfrozen layers\n",
        "\n",
        "# Start Training the model\n",
        "my_resnet2 = train(my_resnet2, criterion, optimizer, cifar10_train_loader, epoch= 3)\n",
        "\n",
        "# ----------- <End Your code> ---------------\n",
        "test(my_resnet2, criterion, cifar10_train_loader, epoch=1)\n",
        "\n",
        "end = time.time()\n",
        "print(f'Finished Training after {end-start} s ')"
      ]
    },
    {
      "cell_type": "markdown",
      "source": [
        "Above 80% accuracy achieved on the Second modified instance of ResNet18!"
      ],
      "metadata": {
        "id": "jLkgS1UKYBQk"
      }
    }
  ],
  "metadata": {
    "colab": {
      "provenance": [],
      "machine_shape": "hm",
      "gpuType": "A100",
      "include_colab_link": true
    },
    "kernelspec": {
      "display_name": "Python 3",
      "name": "python3"
    },
    "language_info": {
      "codemirror_mode": {
        "name": "ipython",
        "version": 3
      },
      "file_extension": ".py",
      "mimetype": "text/x-python",
      "name": "python",
      "nbconvert_exporter": "python",
      "pygments_lexer": "ipython3",
      "version": "3.10.15"
    },
    "accelerator": "GPU"
  },
  "nbformat": 4,
  "nbformat_minor": 0
}
