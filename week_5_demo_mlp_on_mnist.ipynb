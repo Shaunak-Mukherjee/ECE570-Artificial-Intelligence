{
  "nbformat": 4,
  "nbformat_minor": 0,
  "metadata": {
    "colab": {
      "provenance": [],
      "authorship_tag": "ABX9TyPVTw6wADjYWqK5aEYhWyVB",
      "include_colab_link": true
    },
    "kernelspec": {
      "name": "python3",
      "display_name": "Python 3"
    },
    "language_info": {
      "name": "python"
    }
  },
  "cells": [
    {
      "cell_type": "markdown",
      "metadata": {
        "id": "view-in-github",
        "colab_type": "text"
      },
      "source": [
        "<a href=\"https://colab.research.google.com/github/Shaunak-Mukherjee/ECE570-Artificial-Intelligence/blob/main/week_5_demo_mlp_on_mnist.ipynb\" target=\"_parent\"><img src=\"https://colab.research.google.com/assets/colab-badge.svg\" alt=\"Open In Colab\"/></a>"
      ]
    },
    {
      "cell_type": "code",
      "execution_count": 1,
      "metadata": {
        "id": "1IpZlhvRnY1J"
      },
      "outputs": [],
      "source": [
        "import numpy as np\n",
        "import torch\n",
        "import torchvision\n",
        "import torchvision.transforms as transforms\n",
        "import torch.nn as nn\n",
        "import torch.nn.functional as F\n",
        "import torch.optim as optim\n",
        "import matplotlib.pyplot as plt\n",
        "%matplotlib inline"
      ]
    },
    {
      "cell_type": "markdown",
      "source": [
        "Load and normalize the MNIST dataset (images of hand written digits)"
      ],
      "metadata": {
        "id": "c6REMIFpqZg1"
      }
    },
    {
      "cell_type": "code",
      "source": [
        "trans = transforms. Compose([transforms. ToTensor(), transforms. Normalize((0.1307,), (0.3081,))])\n",
        "# if not exist, download mnist dataset\n",
        "train_set = torchvision. datasets. MNIST(root= './data', train= True , transform= trans, download= True)\n",
        "test_set = torchvision. datasets. MNIST(root= './data', train= False , transform= trans, download= True )\n",
        "print(train_set. data. shape)\n",
        "print(test_set. data. shape)\n",
        "batch_size = 60\n",
        "train_loader = torch. utils. data. DataLoader(\n",
        "dataset= train_set,\n",
        "batch_size= batch_size,\n",
        "shuffle= True )\n",
        "test_loader = torch. utils. data. DataLoader(\n",
        "dataset= test_set,\n",
        "batch_size= batch_size,\n",
        "shuffle= False)"
      ],
      "metadata": {
        "colab": {
          "base_uri": "https://localhost:8080/"
        },
        "id": "HBJkYEa4oE1A",
        "outputId": "3cf26fb6-57f4-44ef-df23-6537ee23b5a0"
      },
      "execution_count": 2,
      "outputs": [
        {
          "output_type": "stream",
          "name": "stdout",
          "text": [
            "Downloading http://yann.lecun.com/exdb/mnist/train-images-idx3-ubyte.gz\n",
            "Failed to download (trying next):\n",
            "HTTP Error 403: Forbidden\n",
            "\n",
            "Downloading https://ossci-datasets.s3.amazonaws.com/mnist/train-images-idx3-ubyte.gz\n",
            "Downloading https://ossci-datasets.s3.amazonaws.com/mnist/train-images-idx3-ubyte.gz to ./data/MNIST/raw/train-images-idx3-ubyte.gz\n"
          ]
        },
        {
          "output_type": "stream",
          "name": "stderr",
          "text": [
            "100%|██████████| 9912422/9912422 [00:00<00:00, 36174150.86it/s]\n"
          ]
        },
        {
          "output_type": "stream",
          "name": "stdout",
          "text": [
            "Extracting ./data/MNIST/raw/train-images-idx3-ubyte.gz to ./data/MNIST/raw\n",
            "\n",
            "Downloading http://yann.lecun.com/exdb/mnist/train-labels-idx1-ubyte.gz\n",
            "Failed to download (trying next):\n",
            "HTTP Error 403: Forbidden\n",
            "\n",
            "Downloading https://ossci-datasets.s3.amazonaws.com/mnist/train-labels-idx1-ubyte.gz\n",
            "Downloading https://ossci-datasets.s3.amazonaws.com/mnist/train-labels-idx1-ubyte.gz to ./data/MNIST/raw/train-labels-idx1-ubyte.gz\n"
          ]
        },
        {
          "output_type": "stream",
          "name": "stderr",
          "text": [
            "100%|██████████| 28881/28881 [00:00<00:00, 2356633.86it/s]"
          ]
        },
        {
          "output_type": "stream",
          "name": "stdout",
          "text": [
            "Extracting ./data/MNIST/raw/train-labels-idx1-ubyte.gz to ./data/MNIST/raw\n",
            "\n",
            "Downloading http://yann.lecun.com/exdb/mnist/t10k-images-idx3-ubyte.gz\n"
          ]
        },
        {
          "output_type": "stream",
          "name": "stderr",
          "text": [
            "\n"
          ]
        },
        {
          "output_type": "stream",
          "name": "stdout",
          "text": [
            "Failed to download (trying next):\n",
            "HTTP Error 403: Forbidden\n",
            "\n",
            "Downloading https://ossci-datasets.s3.amazonaws.com/mnist/t10k-images-idx3-ubyte.gz\n",
            "Downloading https://ossci-datasets.s3.amazonaws.com/mnist/t10k-images-idx3-ubyte.gz to ./data/MNIST/raw/t10k-images-idx3-ubyte.gz\n"
          ]
        },
        {
          "output_type": "stream",
          "name": "stderr",
          "text": [
            "100%|██████████| 1648877/1648877 [00:00<00:00, 4048614.22it/s]\n"
          ]
        },
        {
          "output_type": "stream",
          "name": "stdout",
          "text": [
            "Extracting ./data/MNIST/raw/t10k-images-idx3-ubyte.gz to ./data/MNIST/raw\n",
            "\n",
            "Downloading http://yann.lecun.com/exdb/mnist/t10k-labels-idx1-ubyte.gz\n",
            "Failed to download (trying next):\n",
            "HTTP Error 403: Forbidden\n",
            "\n",
            "Downloading https://ossci-datasets.s3.amazonaws.com/mnist/t10k-labels-idx1-ubyte.gz\n",
            "Downloading https://ossci-datasets.s3.amazonaws.com/mnist/t10k-labels-idx1-ubyte.gz to ./data/MNIST/raw/t10k-labels-idx1-ubyte.gz\n"
          ]
        },
        {
          "output_type": "stream",
          "name": "stderr",
          "text": [
            "100%|██████████| 4542/4542 [00:00<00:00, 4903611.01it/s]"
          ]
        },
        {
          "output_type": "stream",
          "name": "stdout",
          "text": [
            "Extracting ./data/MNIST/raw/t10k-labels-idx1-ubyte.gz to ./data/MNIST/raw\n",
            "\n"
          ]
        },
        {
          "output_type": "stream",
          "name": "stderr",
          "text": [
            "\n"
          ]
        },
        {
          "output_type": "stream",
          "name": "stdout",
          "text": [
            "torch.Size([60000, 28, 28])\n",
            "torch.Size([10000, 28, 28])\n"
          ]
        }
      ]
    },
    {
      "cell_type": "markdown",
      "source": [
        "Visualizing sample images"
      ],
      "metadata": {
        "id": "igYNOEqSqcd7"
      }
    },
    {
      "cell_type": "code",
      "source": [
        "plt. figure(figsize= (3, 3))\n",
        "plt. imshow(train_set. data[1,:,:])\n",
        "plt. show()\n",
        "plt. figure(figsize= (3, 3))\n",
        "plt. imshow(train_set. data[10,:,:])\n",
        "plt. show()\n",
        "plt. figure(figsize= (3, 3))\n",
        "plt. imshow(train_set. data[106,:,:])\n",
        "plt. show()"
      ],
      "metadata": {
        "colab": {
          "base_uri": "https://localhost:8080/",
          "height": 845
        },
        "id": "aHuXmymQoY6s",
        "outputId": "eb5a3f5e-49a2-43d4-c07b-01adfceef75d"
      },
      "execution_count": 3,
      "outputs": [
        {
          "output_type": "display_data",
          "data": {
            "text/plain": [
              "<Figure size 300x300 with 1 Axes>"
            ],
            "image/png": "[encoded data removed]"
          },
          "metadata": {}
        },
        {
          "output_type": "display_data",
          "data": {
            "text/plain": [
              "<Figure size 300x300 with 1 Axes>"
            ],
            "image/png": "[encoded data removed]"
          },
          "metadata": {}
        },
        {
          "output_type": "display_data",
          "data": {
            "text/plain": [
              "<Figure size 300x300 with 1 Axes>"
            ],
            "image/png": "[encoded data removed]"
          },
          "metadata": {}
        }
      ]
    },
    {
      "cell_type": "markdown",
      "source": [
        "Define the neural network"
      ],
      "metadata": {
        "id": "yHIcviQPqf5a"
      }
    },
    {
      "cell_type": "code",
      "source": [
        "class Network(nn. Module):\n",
        "  def __init__(self,input_size,hidden_size,output_size):\n",
        "    super(Network, self). __init__()\n",
        "    self.l1 = nn. Linear(input_size, hidden_size)\n",
        "    self.l2 = nn. Linear(hidden_size, hidden_size)\n",
        "    self.l3 = nn. Linear(hidden_size, output_size)\n",
        "\n",
        "  def forward(self, x):\n",
        "    x = self.l1(x)\n",
        "    x = F.relu(x)\n",
        "    x = self.l2(x)\n",
        "    x = F.relu(x)\n",
        "    x = self.l3(x)\n",
        "    return x"
      ],
      "metadata": {
        "id": "rwP2nKi0odQb"
      },
      "execution_count": 4,
      "outputs": []
    },
    {
      "cell_type": "code",
      "source": [
        "input_size = 28* 28\n",
        "hidden_size = 200\n",
        "output_size = 10\n",
        "net = Network(input_size,hidden_size,output_size)\n",
        "print(net)"
      ],
      "metadata": {
        "colab": {
          "base_uri": "https://localhost:8080/"
        },
        "id": "tawFvK1mpB1z",
        "outputId": "74f7c122-8e5d-40e5-efed-ee546224b9f1"
      },
      "execution_count": 5,
      "outputs": [
        {
          "output_type": "stream",
          "name": "stdout",
          "text": [
            "Network(\n",
            "  (l1): Linear(in_features=784, out_features=200, bias=True)\n",
            "  (l2): Linear(in_features=200, out_features=200, bias=True)\n",
            "  (l3): Linear(in_features=200, out_features=10, bias=True)\n",
            ")\n"
          ]
        }
      ]
    },
    {
      "cell_type": "code",
      "source": [
        "for name, p in net. named_parameters():\n",
        "  print(name,',',p. size(),type(p))"
      ],
      "metadata": {
        "colab": {
          "base_uri": "https://localhost:8080/"
        },
        "id": "dKKY7wpLpEC5",
        "outputId": "8d8e3546-848e-4c36-991f-50ed6bf49bac"
      },
      "execution_count": 6,
      "outputs": [
        {
          "output_type": "stream",
          "name": "stdout",
          "text": [
            "l1.weight , torch.Size([200, 784]) <class 'torch.nn.parameter.Parameter'>\n",
            "l1.bias , torch.Size([200]) <class 'torch.nn.parameter.Parameter'>\n",
            "l2.weight , torch.Size([200, 200]) <class 'torch.nn.parameter.Parameter'>\n",
            "l2.bias , torch.Size([200]) <class 'torch.nn.parameter.Parameter'>\n",
            "l3.weight , torch.Size([10, 200]) <class 'torch.nn.parameter.Parameter'>\n",
            "l3.bias , torch.Size([10]) <class 'torch.nn.parameter.Parameter'>\n"
          ]
        }
      ]
    },
    {
      "cell_type": "markdown",
      "source": [
        "Training"
      ],
      "metadata": {
        "id": "xSOd1ZJPpKd5"
      }
    },
    {
      "cell_type": "code",
      "source": [
        "learning_rate = 0.1\n",
        "optimizer = optim. SGD(net. parameters(), lr= learning_rate, momentum= 0.9)\n",
        "criterion = nn. CrossEntropyLoss()"
      ],
      "metadata": {
        "id": "ChwqvnsMpMrp"
      },
      "execution_count": 7,
      "outputs": []
    },
    {
      "cell_type": "markdown",
      "source": [
        "Testing"
      ],
      "metadata": {
        "id": "9oqoyKuSqkps"
      }
    },
    {
      "cell_type": "code",
      "source": [
        "epochs = 2\n",
        "loss_log = []\n",
        "for epoch in range(epochs):\n",
        "# trainning\n",
        "  for batch_idx, (x, target) in enumerate(train_loader):\n",
        "    optimizer. zero_grad()\n",
        "    x = x. view(- 1,28* 28)\n",
        "    out = net(x)\n",
        "    loss = criterion(out, target)\n",
        "    loss. backward()\n",
        "    optimizer. step()\n",
        "    if (batch_idx) % 100 == 0:\n",
        "      print('==>>> epoch: {}, batch index: {}, train loss: {:.6f}'. format(\n",
        "        epoch, batch_idx, loss. item()))"
      ],
      "metadata": {
        "colab": {
          "base_uri": "https://localhost:8080/"
        },
        "id": "Zey1r1GPpQUY",
        "outputId": "27e6e574-7a96-413f-9265-27b03fe9b227"
      },
      "execution_count": 8,
      "outputs": [
        {
          "output_type": "stream",
          "name": "stdout",
          "text": [
            "==>>> epoch: 0, batch index: 0, train loss: 2.293386\n",
            "==>>> epoch: 0, batch index: 100, train loss: 0.239944\n",
            "==>>> epoch: 0, batch index: 200, train loss: 0.087417\n",
            "==>>> epoch: 0, batch index: 300, train loss: 0.907546\n",
            "==>>> epoch: 0, batch index: 400, train loss: 0.271930\n",
            "==>>> epoch: 0, batch index: 500, train loss: 0.426248\n",
            "==>>> epoch: 0, batch index: 600, train loss: 0.189994\n",
            "==>>> epoch: 0, batch index: 700, train loss: 0.308532\n",
            "==>>> epoch: 0, batch index: 800, train loss: 0.211395\n",
            "==>>> epoch: 0, batch index: 900, train loss: 0.387072\n",
            "==>>> epoch: 1, batch index: 0, train loss: 0.044271\n",
            "==>>> epoch: 1, batch index: 100, train loss: 0.110230\n",
            "==>>> epoch: 1, batch index: 200, train loss: 0.204580\n",
            "==>>> epoch: 1, batch index: 300, train loss: 0.013088\n",
            "==>>> epoch: 1, batch index: 400, train loss: 0.215596\n",
            "==>>> epoch: 1, batch index: 500, train loss: 0.196410\n",
            "==>>> epoch: 1, batch index: 600, train loss: 0.141020\n",
            "==>>> epoch: 1, batch index: 700, train loss: 0.119096\n",
            "==>>> epoch: 1, batch index: 800, train loss: 0.141398\n",
            "==>>> epoch: 1, batch index: 900, train loss: 0.094184\n"
          ]
        }
      ]
    },
    {
      "cell_type": "code",
      "source": [
        "with torch. no_grad():\n",
        "  correct = 0\n",
        "  total = 0\n",
        "  for images, labels in test_loader:\n",
        "    images = images. reshape(- 1, 28* 28)\n",
        "    outputs = net(images)\n",
        "    _, predicted = torch. max(outputs. data, 1)\n",
        "    total += labels. size(0)\n",
        "    correct += (predicted == labels). sum(). item()\n",
        "  print('Accuracy of the network on the 10000 test images: {} %'. format(100 * correct / total))"
      ],
      "metadata": {
        "colab": {
          "base_uri": "https://localhost:8080/"
        },
        "id": "p4X5en90p8Ef",
        "outputId": "e33ab124-8d85-4905-a458-1021df5c0ff8"
      },
      "execution_count": 9,
      "outputs": [
        {
          "output_type": "stream",
          "name": "stdout",
          "text": [
            "Accuracy of the network on the 10000 test images: 95.62 %\n"
          ]
        }
      ]
    }
  ]
}